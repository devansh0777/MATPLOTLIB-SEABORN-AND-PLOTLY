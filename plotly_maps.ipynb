{
 "cells": [
  {
   "cell_type": "code",
   "id": "initial_id",
   "metadata": {
    "collapsed": true,
    "ExecuteTime": {
     "end_time": "2025-07-14T11:11:20.961509Z",
     "start_time": "2025-07-14T11:11:20.831435Z"
    }
   },
   "source": [
    "# import libraries\n",
    "import pandas as pd\n",
    "import numpy as np\n",
    "import matplotlib.pyplot as plt\n",
    "import seaborn as sns\n",
    "import wbdata\n",
    "import datetime\n",
    "import plotly.express as px"
   ],
   "outputs": [],
   "execution_count": 2
  },
  {
   "metadata": {
    "ExecuteTime": {
     "end_time": "2025-07-14T11:11:34.613155Z",
     "start_time": "2025-07-14T11:11:22.613285Z"
    }
   },
   "cell_type": "code",
   "source": [
    "# fetch data of world bank total population and gdp per capita for the year 2023\n",
    "import wbdata\n",
    "import pandas as pd\n",
    "\n",
    "# Define the indicator for population (SP.POP.TOTL)\n",
    "indicator = {\n",
    "    'SP.POP.TOTL': 'total_population'\n",
    "             }\n",
    "\n",
    "# Define countries (India and Pakistan)\n",
    "# countries = ['IN', 'PK', 'BD', 'LK', 'AF']  # 'IN' for India, 'PK' for Pakistan\n",
    "\n",
    "# Fetch data\n",
    "data = wbdata.get_dataframe(indicator,\n",
    "                            # country=countries,\n",
    "                            )\n",
    "\n",
    "# Reset index to convert it into a DataFrame\n",
    "data.reset_index(inplace=True)\n",
    "\n",
    "# Rename columns for clarity\n",
    "data.rename(columns={'country': 'Country', 'date': 'Year'}, inplace=True)\n",
    "\n",
    "# Ensure Year column is numeric\n",
    "data['Year'] = pd.to_numeric(data['Year'])\n",
    "\n",
    "# Filter data between 1960 and 2023\n",
    "df = data[(data['Year'] <= 2023) & (data['Year'] >= 1960)]\n",
    "df.sample(5, random_state=42)\n",
    "\n",
    "# # Save to a CSV file (optional)\n",
    "# data.to_csv(\"./dataset/total_population.csv\", index=False)\n",
    "\n",
    "# # Display the first few rows of data\n",
    "# print(data.head())"
   ],
   "id": "d545bb7a6ff12359",
   "outputs": [
    {
     "data": {
      "text/plain": [
       "           Country  Year  total_population\n",
       "11587      Moldova  2007         2874299.0\n",
       "3726       Armenia  2003         3182500.0\n",
       "7027   El Salvador  2017         6213533.0\n",
       "8737      Honduras  1997         6071454.0\n",
       "7841   Gambia, The  1983          794525.0"
      ],
      "text/html": [
       "<div>\n",
       "<style scoped>\n",
       "    .dataframe tbody tr th:only-of-type {\n",
       "        vertical-align: middle;\n",
       "    }\n",
       "\n",
       "    .dataframe tbody tr th {\n",
       "        vertical-align: top;\n",
       "    }\n",
       "\n",
       "    .dataframe thead th {\n",
       "        text-align: right;\n",
       "    }\n",
       "</style>\n",
       "<table border=\"1\" class=\"dataframe\">\n",
       "  <thead>\n",
       "    <tr style=\"text-align: right;\">\n",
       "      <th></th>\n",
       "      <th>Country</th>\n",
       "      <th>Year</th>\n",
       "      <th>total_population</th>\n",
       "    </tr>\n",
       "  </thead>\n",
       "  <tbody>\n",
       "    <tr>\n",
       "      <th>11587</th>\n",
       "      <td>Moldova</td>\n",
       "      <td>2007</td>\n",
       "      <td>2874299.0</td>\n",
       "    </tr>\n",
       "    <tr>\n",
       "      <th>3726</th>\n",
       "      <td>Armenia</td>\n",
       "      <td>2003</td>\n",
       "      <td>3182500.0</td>\n",
       "    </tr>\n",
       "    <tr>\n",
       "      <th>7027</th>\n",
       "      <td>El Salvador</td>\n",
       "      <td>2017</td>\n",
       "      <td>6213533.0</td>\n",
       "    </tr>\n",
       "    <tr>\n",
       "      <th>8737</th>\n",
       "      <td>Honduras</td>\n",
       "      <td>1997</td>\n",
       "      <td>6071454.0</td>\n",
       "    </tr>\n",
       "    <tr>\n",
       "      <th>7841</th>\n",
       "      <td>Gambia, The</td>\n",
       "      <td>1983</td>\n",
       "      <td>794525.0</td>\n",
       "    </tr>\n",
       "  </tbody>\n",
       "</table>\n",
       "</div>"
      ]
     },
     "execution_count": 3,
     "metadata": {},
     "output_type": "execute_result"
    }
   ],
   "execution_count": 3
  },
  {
   "metadata": {
    "ExecuteTime": {
     "end_time": "2025-07-14T11:11:42.065756Z",
     "start_time": "2025-07-14T11:11:41.951986Z"
    }
   },
   "cell_type": "code",
   "source": [
    "# make choropleth map of total population using plotly\n",
    "fig = px.choropleth(df[df['Year'] == 2023],\n",
    "                    locations=\"Country\",\n",
    "                    locationmode='country names',\n",
    "                    color=\"total_population\",\n",
    "                    hover_name=\"Country\",\n",
    "                    color_continuous_scale=px.colors.sequential.Viridis, # 'Viridis',\n",
    "                    title=\"Total Population in 2023\",\n",
    "                    labels={'total_population': 'Total Population'}\n",
    "                    )\n",
    "# limit the scale of the colorbar\n",
    "fig.update_layout(\n",
    "    coloraxis_colorbar=dict(\n",
    "        title='Total Population',\n",
    "        tickvals=[1e6, 1e7, 1e8, 1.5e9],  # Custom tick values\n",
    "        ticktext=['1M', '10M', '100M', '1.5B']  # Custom tick labels\n",
    "    ),\n",
    "    coloraxis=dict(\n",
    "        cmin=0,  # Minimum value\n",
    "        cmax=0.5e9  # Maximum value set to 1.5 billion\n",
    "    )\n",
    ")\n",
    "fig.show()"
   ],
   "id": "4b6e72074e36a775",
   "outputs": [
    {
     "data": {
      "application/vnd.plotly.v1+json": {
       "data": [
        {
         "coloraxis": "coloraxis",
         "geo": "geo",
         "hovertemplate": "<b>%{hovertext}</b><br><br>Country=%{location}<br>Total Population=%{z}<extra></extra>",
         "hovertext": [
          "Africa Eastern and Southern",
          "Africa Western and Central",
          "Arab World",
          "Caribbean small states",
          "Central Europe and the Baltics",
          "Early-demographic dividend",
          "East Asia & Pacific",
          "East Asia & Pacific (excluding high income)",
          "East Asia & Pacific (IDA & IBRD countries)",
          "Euro area",
          "Europe & Central Asia",
          "Europe & Central Asia (excluding high income)",
          "Europe & Central Asia (IDA & IBRD countries)",
          "European Union",
          "Fragile and conflict affected situations",
          "Heavily indebted poor countries (HIPC)",
          "High income",
          "IBRD only",
          "IDA & IBRD total",
          "IDA blend",
          "IDA only",
          "IDA total",
          "Late-demographic dividend",
          "Latin America & Caribbean",
          "Latin America & Caribbean (excluding high income)",
          "Latin America & the Caribbean (IDA & IBRD countries)",
          "Least developed countries: UN classification",
          "Low & middle income",
          "Low income",
          "Lower middle income",
          "Middle East, North Africa, Afghanistan & Pakistan",
          "Middle East, North Africa, Afghanistan & Pakistan (excluding high income)",
          "Middle East, North Africa, Afghanistan & Pakistan (IDA & IBRD)",
          "Middle income",
          "North America",
          "Not classified",
          "OECD members",
          "Other small states",
          "Pacific island small states",
          "Post-demographic dividend",
          "Pre-demographic dividend",
          "Small states",
          "South Asia",
          "South Asia (IDA & IBRD)",
          "Sub-Saharan Africa",
          "Sub-Saharan Africa (excluding high income)",
          "Sub-Saharan Africa (IDA & IBRD countries)",
          "Upper middle income",
          "World",
          "Afghanistan",
          "Albania",
          "Algeria",
          "American Samoa",
          "Andorra",
          "Angola",
          "Antigua and Barbuda",
          "Argentina",
          "Armenia",
          "Aruba",
          "Australia",
          "Austria",
          "Azerbaijan",
          "Bahamas, The",
          "Bahrain",
          "Bangladesh",
          "Barbados",
          "Belarus",
          "Belgium",
          "Belize",
          "Benin",
          "Bermuda",
          "Bhutan",
          "Bolivia",
          "Bosnia and Herzegovina",
          "Botswana",
          "Brazil",
          "British Virgin Islands",
          "Brunei Darussalam",
          "Bulgaria",
          "Burkina Faso",
          "Burundi",
          "Cabo Verde",
          "Cambodia",
          "Cameroon",
          "Canada",
          "Cayman Islands",
          "Central African Republic",
          "Chad",
          "Channel Islands",
          "Chile",
          "China",
          "Colombia",
          "Comoros",
          "Congo, Dem. Rep.",
          "Congo, Rep.",
          "Costa Rica",
          "Cote d'Ivoire",
          "Croatia",
          "Cuba",
          "Curacao",
          "Cyprus",
          "Czechia",
          "Denmark",
          "Djibouti",
          "Dominica",
          "Dominican Republic",
          "Ecuador",
          "Egypt, Arab Rep.",
          "El Salvador",
          "Equatorial Guinea",
          "Eritrea",
          "Estonia",
          "Eswatini",
          "Ethiopia",
          "Faroe Islands",
          "Fiji",
          "Finland",
          "France",
          "French Polynesia",
          "Gabon",
          "Gambia, The",
          "Georgia",
          "Germany",
          "Ghana",
          "Gibraltar",
          "Greece",
          "Greenland",
          "Grenada",
          "Guam",
          "Guatemala",
          "Guinea",
          "Guinea-Bissau",
          "Guyana",
          "Haiti",
          "Honduras",
          "Hong Kong SAR, China",
          "Hungary",
          "Iceland",
          "India",
          "Indonesia",
          "Iran, Islamic Rep.",
          "Iraq",
          "Ireland",
          "Isle of Man",
          "Israel",
          "Italy",
          "Jamaica",
          "Japan",
          "Jordan",
          "Kazakhstan",
          "Kenya",
          "Kiribati",
          "Korea, Dem. People's Rep.",
          "Korea, Rep.",
          "Kosovo",
          "Kuwait",
          "Kyrgyz Republic",
          "Lao PDR",
          "Latvia",
          "Lebanon",
          "Lesotho",
          "Liberia",
          "Libya",
          "Liechtenstein",
          "Lithuania",
          "Luxembourg",
          "Macao SAR, China",
          "Madagascar",
          "Malawi",
          "Malaysia",
          "Maldives",
          "Mali",
          "Malta",
          "Marshall Islands",
          "Mauritania",
          "Mauritius",
          "Mexico",
          "Micronesia, Fed. Sts.",
          "Moldova",
          "Monaco",
          "Mongolia",
          "Montenegro",
          "Morocco",
          "Mozambique",
          "Myanmar",
          "Namibia",
          "Nauru",
          "Nepal",
          "Netherlands",
          "New Caledonia",
          "New Zealand",
          "Nicaragua",
          "Niger",
          "Nigeria",
          "North Macedonia",
          "Northern Mariana Islands",
          "Norway",
          "Oman",
          "Pakistan",
          "Palau",
          "Panama",
          "Papua New Guinea",
          "Paraguay",
          "Peru",
          "Philippines",
          "Poland",
          "Portugal",
          "Puerto Rico (US)",
          "Qatar",
          "Romania",
          "Russian Federation",
          "Rwanda",
          "Samoa",
          "San Marino",
          "Sao Tome and Principe",
          "Saudi Arabia",
          "Senegal",
          "Serbia",
          "Seychelles",
          "Sierra Leone",
          "Singapore",
          "Sint Maarten (Dutch part)",
          "Slovak Republic",
          "Slovenia",
          "Solomon Islands",
          "Somalia",
          "South Africa",
          "South Sudan",
          "Spain",
          "Sri Lanka",
          "St. Kitts and Nevis",
          "St. Lucia",
          "St. Martin (French part)",
          "St. Vincent and the Grenadines",
          "Sudan",
          "Suriname",
          "Sweden",
          "Switzerland",
          "Syrian Arab Republic",
          "Tajikistan",
          "Tanzania",
          "Thailand",
          "Timor-Leste",
          "Togo",
          "Tonga",
          "Trinidad and Tobago",
          "Tunisia",
          "Turkiye",
          "Turkmenistan",
          "Turks and Caicos Islands",
          "Tuvalu",
          "Uganda",
          "Ukraine",
          "United Arab Emirates",
          "United Kingdom",
          "United States",
          "Uruguay",
          "Uzbekistan",
          "Vanuatu",
          "Venezuela, RB",
          "Viet Nam",
          "Virgin Islands (U.S.)",
          "West Bank and Gaza",
          "Yemen, Rep.",
          "Zambia",
          "Zimbabwe"
         ],
         "locationmode": "country names",
         "locations": [
          "Africa Eastern and Southern",
          "Africa Western and Central",
          "Arab World",
          "Caribbean small states",
          "Central Europe and the Baltics",
          "Early-demographic dividend",
          "East Asia & Pacific",
          "East Asia & Pacific (excluding high income)",
          "East Asia & Pacific (IDA & IBRD countries)",
          "Euro area",
          "Europe & Central Asia",
          "Europe & Central Asia (excluding high income)",
          "Europe & Central Asia (IDA & IBRD countries)",
          "European Union",
          "Fragile and conflict affected situations",
          "Heavily indebted poor countries (HIPC)",
          "High income",
          "IBRD only",
          "IDA & IBRD total",
          "IDA blend",
          "IDA only",
          "IDA total",
          "Late-demographic dividend",
          "Latin America & Caribbean",
          "Latin America & Caribbean (excluding high income)",
          "Latin America & the Caribbean (IDA & IBRD countries)",
          "Least developed countries: UN classification",
          "Low & middle income",
          "Low income",
          "Lower middle income",
          "Middle East, North Africa, Afghanistan & Pakistan",
          "Middle East, North Africa, Afghanistan & Pakistan (excluding high income)",
          "Middle East, North Africa, Afghanistan & Pakistan (IDA & IBRD)",
          "Middle income",
          "North America",
          "Not classified",
          "OECD members",
          "Other small states",
          "Pacific island small states",
          "Post-demographic dividend",
          "Pre-demographic dividend",
          "Small states",
          "South Asia",
          "South Asia (IDA & IBRD)",
          "Sub-Saharan Africa",
          "Sub-Saharan Africa (excluding high income)",
          "Sub-Saharan Africa (IDA & IBRD countries)",
          "Upper middle income",
          "World",
          "Afghanistan",
          "Albania",
          "Algeria",
          "American Samoa",
          "Andorra",
          "Angola",
          "Antigua and Barbuda",
          "Argentina",
          "Armenia",
          "Aruba",
          "Australia",
          "Austria",
          "Azerbaijan",
          "Bahamas, The",
          "Bahrain",
          "Bangladesh",
          "Barbados",
          "Belarus",
          "Belgium",
          "Belize",
          "Benin",
          "Bermuda",
          "Bhutan",
          "Bolivia",
          "Bosnia and Herzegovina",
          "Botswana",
          "Brazil",
          "British Virgin Islands",
          "Brunei Darussalam",
          "Bulgaria",
          "Burkina Faso",
          "Burundi",
          "Cabo Verde",
          "Cambodia",
          "Cameroon",
          "Canada",
          "Cayman Islands",
          "Central African Republic",
          "Chad",
          "Channel Islands",
          "Chile",
          "China",
          "Colombia",
          "Comoros",
          "Congo, Dem. Rep.",
          "Congo, Rep.",
          "Costa Rica",
          "Cote d'Ivoire",
          "Croatia",
          "Cuba",
          "Curacao",
          "Cyprus",
          "Czechia",
          "Denmark",
          "Djibouti",
          "Dominica",
          "Dominican Republic",
          "Ecuador",
          "Egypt, Arab Rep.",
          "El Salvador",
          "Equatorial Guinea",
          "Eritrea",
          "Estonia",
          "Eswatini",
          "Ethiopia",
          "Faroe Islands",
          "Fiji",
          "Finland",
          "France",
          "French Polynesia",
          "Gabon",
          "Gambia, The",
          "Georgia",
          "Germany",
          "Ghana",
          "Gibraltar",
          "Greece",
          "Greenland",
          "Grenada",
          "Guam",
          "Guatemala",
          "Guinea",
          "Guinea-Bissau",
          "Guyana",
          "Haiti",
          "Honduras",
          "Hong Kong SAR, China",
          "Hungary",
          "Iceland",
          "India",
          "Indonesia",
          "Iran, Islamic Rep.",
          "Iraq",
          "Ireland",
          "Isle of Man",
          "Israel",
          "Italy",
          "Jamaica",
          "Japan",
          "Jordan",
          "Kazakhstan",
          "Kenya",
          "Kiribati",
          "Korea, Dem. People's Rep.",
          "Korea, Rep.",
          "Kosovo",
          "Kuwait",
          "Kyrgyz Republic",
          "Lao PDR",
          "Latvia",
          "Lebanon",
          "Lesotho",
          "Liberia",
          "Libya",
          "Liechtenstein",
          "Lithuania",
          "Luxembourg",
          "Macao SAR, China",
          "Madagascar",
          "Malawi",
          "Malaysia",
          "Maldives",
          "Mali",
          "Malta",
          "Marshall Islands",
          "Mauritania",
          "Mauritius",
          "Mexico",
          "Micronesia, Fed. Sts.",
          "Moldova",
          "Monaco",
          "Mongolia",
          "Montenegro",
          "Morocco",
          "Mozambique",
          "Myanmar",
          "Namibia",
          "Nauru",
          "Nepal",
          "Netherlands",
          "New Caledonia",
          "New Zealand",
          "Nicaragua",
          "Niger",
          "Nigeria",
          "North Macedonia",
          "Northern Mariana Islands",
          "Norway",
          "Oman",
          "Pakistan",
          "Palau",
          "Panama",
          "Papua New Guinea",
          "Paraguay",
          "Peru",
          "Philippines",
          "Poland",
          "Portugal",
          "Puerto Rico (US)",
          "Qatar",
          "Romania",
          "Russian Federation",
          "Rwanda",
          "Samoa",
          "San Marino",
          "Sao Tome and Principe",
          "Saudi Arabia",
          "Senegal",
          "Serbia",
          "Seychelles",
          "Sierra Leone",
          "Singapore",
          "Sint Maarten (Dutch part)",
          "Slovak Republic",
          "Slovenia",
          "Solomon Islands",
          "Somalia",
          "South Africa",
          "South Sudan",
          "Spain",
          "Sri Lanka",
          "St. Kitts and Nevis",
          "St. Lucia",
          "St. Martin (French part)",
          "St. Vincent and the Grenadines",
          "Sudan",
          "Suriname",
          "Sweden",
          "Switzerland",
          "Syrian Arab Republic",
          "Tajikistan",
          "Tanzania",
          "Thailand",
          "Timor-Leste",
          "Togo",
          "Tonga",
          "Trinidad and Tobago",
          "Tunisia",
          "Turkiye",
          "Turkmenistan",
          "Turks and Caicos Islands",
          "Tuvalu",
          "Uganda",
          "Ukraine",
          "United Arab Emirates",
          "United Kingdom",
          "United States",
          "Uruguay",
          "Uzbekistan",
          "Vanuatu",
          "Venezuela, RB",
          "Viet Nam",
          "Virgin Islands (U.S.)",
          "West Bank and Gaza",
          "Yemen, Rep.",
          "Zambia",
          "Zimbabwe"
         ],
         "name": "",
         "z": {
          "dtype": "f8",
          "bdata": "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"
         },
         "type": "choropleth"
        }
       ],
       "layout": {
        "template": {
         "data": {
          "histogram2dcontour": [
           {
            "type": "histogram2dcontour",
            "colorbar": {
             "outlinewidth": 0,
             "ticks": ""
            },
            "colorscale": [
             [
              0.0,
              "#0d0887"
             ],
             [
              0.1111111111111111,
              "#46039f"
             ],
             [
              0.2222222222222222,
              "#7201a8"
             ],
             [
              0.3333333333333333,
              "#9c179e"
             ],
             [
              0.4444444444444444,
              "#bd3786"
             ],
             [
              0.5555555555555556,
              "#d8576b"
             ],
             [
              0.6666666666666666,
              "#ed7953"
             ],
             [
              0.7777777777777778,
              "#fb9f3a"
             ],
             [
              0.8888888888888888,
              "#fdca26"
             ],
             [
              1.0,
              "#f0f921"
             ]
            ]
           }
          ],
          "choropleth": [
           {
            "type": "choropleth",
            "colorbar": {
             "outlinewidth": 0,
             "ticks": ""
            }
           }
          ],
          "histogram2d": [
           {
            "type": "histogram2d",
            "colorbar": {
             "outlinewidth": 0,
             "ticks": ""
            },
            "colorscale": [
             [
              0.0,
              "#0d0887"
             ],
             [
              0.1111111111111111,
              "#46039f"
             ],
             [
              0.2222222222222222,
              "#7201a8"
             ],
             [
              0.3333333333333333,
              "#9c179e"
             ],
             [
              0.4444444444444444,
              "#bd3786"
             ],
             [
              0.5555555555555556,
              "#d8576b"
             ],
             [
              0.6666666666666666,
              "#ed7953"
             ],
             [
              0.7777777777777778,
              "#fb9f3a"
             ],
             [
              0.8888888888888888,
              "#fdca26"
             ],
             [
              1.0,
              "#f0f921"
             ]
            ]
           }
          ],
          "heatmap": [
           {
            "type": "heatmap",
            "colorbar": {
             "outlinewidth": 0,
             "ticks": ""
            },
            "colorscale": [
             [
              0.0,
              "#0d0887"
             ],
             [
              0.1111111111111111,
              "#46039f"
             ],
             [
              0.2222222222222222,
              "#7201a8"
             ],
             [
              0.3333333333333333,
              "#9c179e"
             ],
             [
              0.4444444444444444,
              "#bd3786"
             ],
             [
              0.5555555555555556,
              "#d8576b"
             ],
             [
              0.6666666666666666,
              "#ed7953"
             ],
             [
              0.7777777777777778,
              "#fb9f3a"
             ],
             [
              0.8888888888888888,
              "#fdca26"
             ],
             [
              1.0,
              "#f0f921"
             ]
            ]
           }
          ],
          "contourcarpet": [
           {
            "type": "contourcarpet",
            "colorbar": {
             "outlinewidth": 0,
             "ticks": ""
            }
           }
          ],
          "contour": [
           {
            "type": "contour",
            "colorbar": {
             "outlinewidth": 0,
             "ticks": ""
            },
            "colorscale": [
             [
              0.0,
              "#0d0887"
             ],
             [
              0.1111111111111111,
              "#46039f"
             ],
             [
              0.2222222222222222,
              "#7201a8"
             ],
             [
              0.3333333333333333,
              "#9c179e"
             ],
             [
              0.4444444444444444,
              "#bd3786"
             ],
             [
              0.5555555555555556,
              "#d8576b"
             ],
             [
              0.6666666666666666,
              "#ed7953"
             ],
             [
              0.7777777777777778,
              "#fb9f3a"
             ],
             [
              0.8888888888888888,
              "#fdca26"
             ],
             [
              1.0,
              "#f0f921"
             ]
            ]
           }
          ],
          "surface": [
           {
            "type": "surface",
            "colorbar": {
             "outlinewidth": 0,
             "ticks": ""
            },
            "colorscale": [
             [
              0.0,
              "#0d0887"
             ],
             [
              0.1111111111111111,
              "#46039f"
             ],
             [
              0.2222222222222222,
              "#7201a8"
             ],
             [
              0.3333333333333333,
              "#9c179e"
             ],
             [
              0.4444444444444444,
              "#bd3786"
             ],
             [
              0.5555555555555556,
              "#d8576b"
             ],
             [
              0.6666666666666666,
              "#ed7953"
             ],
             [
              0.7777777777777778,
              "#fb9f3a"
             ],
             [
              0.8888888888888888,
              "#fdca26"
             ],
             [
              1.0,
              "#f0f921"
             ]
            ]
           }
          ],
          "mesh3d": [
           {
            "type": "mesh3d",
            "colorbar": {
             "outlinewidth": 0,
             "ticks": ""
            }
           }
          ],
          "scatter": [
           {
            "marker": {
             "line": {
              "color": "#283442"
             }
            },
            "type": "scatter"
           }
          ],
          "parcoords": [
           {
            "type": "parcoords",
            "line": {
             "colorbar": {
              "outlinewidth": 0,
              "ticks": ""
             }
            }
           }
          ],
          "scatterpolargl": [
           {
            "type": "scatterpolargl",
            "marker": {
             "colorbar": {
              "outlinewidth": 0,
              "ticks": ""
             }
            }
           }
          ],
          "bar": [
           {
            "error_x": {
             "color": "#f2f5fa"
            },
            "error_y": {
             "color": "#f2f5fa"
            },
            "marker": {
             "line": {
              "color": "rgb(17,17,17)",
              "width": 0.5
             },
             "pattern": {
              "fillmode": "overlay",
              "size": 10,
              "solidity": 0.2
             }
            },
            "type": "bar"
           }
          ],
          "scattergeo": [
           {
            "type": "scattergeo",
            "marker": {
             "colorbar": {
              "outlinewidth": 0,
              "ticks": ""
             }
            }
           }
          ],
          "scatterpolar": [
           {
            "type": "scatterpolar",
            "marker": {
             "colorbar": {
              "outlinewidth": 0,
              "ticks": ""
             }
            }
           }
          ],
          "histogram": [
           {
            "marker": {
             "pattern": {
              "fillmode": "overlay",
              "size": 10,
              "solidity": 0.2
             }
            },
            "type": "histogram"
           }
          ],
          "scattergl": [
           {
            "marker": {
             "line": {
              "color": "#283442"
             }
            },
            "type": "scattergl"
           }
          ],
          "scatter3d": [
           {
            "type": "scatter3d",
            "line": {
             "colorbar": {
              "outlinewidth": 0,
              "ticks": ""
             }
            },
            "marker": {
             "colorbar": {
              "outlinewidth": 0,
              "ticks": ""
             }
            }
           }
          ],
          "scattermap": [
           {
            "type": "scattermap",
            "marker": {
             "colorbar": {
              "outlinewidth": 0,
              "ticks": ""
             }
            }
           }
          ],
          "scattermapbox": [
           {
            "type": "scattermapbox",
            "marker": {
             "colorbar": {
              "outlinewidth": 0,
              "ticks": ""
             }
            }
           }
          ],
          "scatterternary": [
           {
            "type": "scatterternary",
            "marker": {
             "colorbar": {
              "outlinewidth": 0,
              "ticks": ""
             }
            }
           }
          ],
          "scattercarpet": [
           {
            "type": "scattercarpet",
            "marker": {
             "colorbar": {
              "outlinewidth": 0,
              "ticks": ""
             }
            }
           }
          ],
          "carpet": [
           {
            "aaxis": {
             "endlinecolor": "#A2B1C6",
             "gridcolor": "#506784",
             "linecolor": "#506784",
             "minorgridcolor": "#506784",
             "startlinecolor": "#A2B1C6"
            },
            "baxis": {
             "endlinecolor": "#A2B1C6",
             "gridcolor": "#506784",
             "linecolor": "#506784",
             "minorgridcolor": "#506784",
             "startlinecolor": "#A2B1C6"
            },
            "type": "carpet"
           }
          ],
          "table": [
           {
            "cells": {
             "fill": {
              "color": "#506784"
             },
             "line": {
              "color": "rgb(17,17,17)"
             }
            },
            "header": {
             "fill": {
              "color": "#2a3f5f"
             },
             "line": {
              "color": "rgb(17,17,17)"
             }
            },
            "type": "table"
           }
          ],
          "barpolar": [
           {
            "marker": {
             "line": {
              "color": "rgb(17,17,17)",
              "width": 0.5
             },
             "pattern": {
              "fillmode": "overlay",
              "size": 10,
              "solidity": 0.2
             }
            },
            "type": "barpolar"
           }
          ],
          "pie": [
           {
            "automargin": true,
            "type": "pie"
           }
          ]
         },
         "layout": {
          "autotypenumbers": "strict",
          "colorway": [
           "#636efa",
           "#EF553B",
           "#00cc96",
           "#ab63fa",
           "#FFA15A",
           "#19d3f3",
           "#FF6692",
           "#B6E880",
           "#FF97FF",
           "#FECB52"
          ],
          "font": {
           "color": "#f2f5fa"
          },
          "hovermode": "closest",
          "hoverlabel": {
           "align": "left"
          },
          "paper_bgcolor": "rgb(17,17,17)",
          "plot_bgcolor": "rgb(17,17,17)",
          "polar": {
           "bgcolor": "rgb(17,17,17)",
           "angularaxis": {
            "gridcolor": "#506784",
            "linecolor": "#506784",
            "ticks": ""
           },
           "radialaxis": {
            "gridcolor": "#506784",
            "linecolor": "#506784",
            "ticks": ""
           }
          },
          "ternary": {
           "bgcolor": "rgb(17,17,17)",
           "aaxis": {
            "gridcolor": "#506784",
            "linecolor": "#506784",
            "ticks": ""
           },
           "baxis": {
            "gridcolor": "#506784",
            "linecolor": "#506784",
            "ticks": ""
           },
           "caxis": {
            "gridcolor": "#506784",
            "linecolor": "#506784",
            "ticks": ""
           }
          },
          "coloraxis": {
           "colorbar": {
            "outlinewidth": 0,
            "ticks": ""
           }
          },
          "colorscale": {
           "sequential": [
            [
             0.0,
             "#0d0887"
            ],
            [
             0.1111111111111111,
             "#46039f"
            ],
            [
             0.2222222222222222,
             "#7201a8"
            ],
            [
             0.3333333333333333,
             "#9c179e"
            ],
            [
             0.4444444444444444,
             "#bd3786"
            ],
            [
             0.5555555555555556,
             "#d8576b"
            ],
            [
             0.6666666666666666,
             "#ed7953"
            ],
            [
             0.7777777777777778,
             "#fb9f3a"
            ],
            [
             0.8888888888888888,
             "#fdca26"
            ],
            [
             1.0,
             "#f0f921"
            ]
           ],
           "sequentialminus": [
            [
             0.0,
             "#0d0887"
            ],
            [
             0.1111111111111111,
             "#46039f"
            ],
            [
             0.2222222222222222,
             "#7201a8"
            ],
            [
             0.3333333333333333,
             "#9c179e"
            ],
            [
             0.4444444444444444,
             "#bd3786"
            ],
            [
             0.5555555555555556,
             "#d8576b"
            ],
            [
             0.6666666666666666,
             "#ed7953"
            ],
            [
             0.7777777777777778,
             "#fb9f3a"
            ],
            [
             0.8888888888888888,
             "#fdca26"
            ],
            [
             1.0,
             "#f0f921"
            ]
           ],
           "diverging": [
            [
             0,
             "#8e0152"
            ],
            [
             0.1,
             "#c51b7d"
            ],
            [
             0.2,
             "#de77ae"
            ],
            [
             0.3,
             "#f1b6da"
            ],
            [
             0.4,
             "#fde0ef"
            ],
            [
             0.5,
             "#f7f7f7"
            ],
            [
             0.6,
             "#e6f5d0"
            ],
            [
             0.7,
             "#b8e186"
            ],
            [
             0.8,
             "#7fbc41"
            ],
            [
             0.9,
             "#4d9221"
            ],
            [
             1,
             "#276419"
            ]
           ]
          },
          "xaxis": {
           "gridcolor": "#283442",
           "linecolor": "#506784",
           "ticks": "",
           "title": {
            "standoff": 15
           },
           "zerolinecolor": "#283442",
           "automargin": true,
           "zerolinewidth": 2
          },
          "yaxis": {
           "gridcolor": "#283442",
           "linecolor": "#506784",
           "ticks": "",
           "title": {
            "standoff": 15
           },
           "zerolinecolor": "#283442",
           "automargin": true,
           "zerolinewidth": 2
          },
          "scene": {
           "xaxis": {
            "backgroundcolor": "rgb(17,17,17)",
            "gridcolor": "#506784",
            "linecolor": "#506784",
            "showbackground": true,
            "ticks": "",
            "zerolinecolor": "#C8D4E3",
            "gridwidth": 2
           },
           "yaxis": {
            "backgroundcolor": "rgb(17,17,17)",
            "gridcolor": "#506784",
            "linecolor": "#506784",
            "showbackground": true,
            "ticks": "",
            "zerolinecolor": "#C8D4E3",
            "gridwidth": 2
           },
           "zaxis": {
            "backgroundcolor": "rgb(17,17,17)",
            "gridcolor": "#506784",
            "linecolor": "#506784",
            "showbackground": true,
            "ticks": "",
            "zerolinecolor": "#C8D4E3",
            "gridwidth": 2
           }
          },
          "shapedefaults": {
           "line": {
            "color": "#f2f5fa"
           }
          },
          "annotationdefaults": {
           "arrowcolor": "#f2f5fa",
           "arrowhead": 0,
           "arrowwidth": 1
          },
          "geo": {
           "bgcolor": "rgb(17,17,17)",
           "landcolor": "rgb(17,17,17)",
           "subunitcolor": "#506784",
           "showland": true,
           "showlakes": true,
           "lakecolor": "rgb(17,17,17)"
          },
          "title": {
           "x": 0.05
          },
          "updatemenudefaults": {
           "bgcolor": "#506784",
           "borderwidth": 0
          },
          "sliderdefaults": {
           "bgcolor": "#C8D4E3",
           "borderwidth": 1,
           "bordercolor": "rgb(17,17,17)",
           "tickwidth": 0
          },
          "mapbox": {
           "style": "dark"
          }
         }
        },
        "geo": {
         "domain": {
          "x": [
           0.0,
           1.0
          ],
          "y": [
           0.0,
           1.0
          ]
         },
         "center": {}
        },
        "coloraxis": {
         "colorbar": {
          "title": {
           "text": "Total Population"
          },
          "tickvals": [
           1000000.0,
           1.0E7,
           1.0E8,
           1.5E9
          ],
          "ticktext": [
           "1M",
           "10M",
           "100M",
           "1.5B"
          ]
         },
         "colorscale": [
          [
           0.0,
           "#440154"
          ],
          [
           0.1111111111111111,
           "#482878"
          ],
          [
           0.2222222222222222,
           "#3e4989"
          ],
          [
           0.3333333333333333,
           "#31688e"
          ],
          [
           0.4444444444444444,
           "#26828e"
          ],
          [
           0.5555555555555556,
           "#1f9e89"
          ],
          [
           0.6666666666666666,
           "#35b779"
          ],
          [
           0.7777777777777778,
           "#6ece58"
          ],
          [
           0.8888888888888888,
           "#b5de2b"
          ],
          [
           1.0,
           "#fde725"
          ]
         ],
         "cmin": 0,
         "cmax": 5.0E8
        },
        "legend": {
         "tracegroupgap": 0
        },
        "title": {
         "text": "Total Population in 2023"
        }
       },
       "config": {
        "plotlyServerURL": "https://plot.ly"
       }
      }
     },
     "metadata": {},
     "output_type": "display_data"
    }
   ],
   "execution_count": 4
  },
  {
   "metadata": {
    "ExecuteTime": {
     "end_time": "2025-07-14T11:12:03.632137Z",
     "start_time": "2025-07-14T11:12:03.046190Z"
    }
   },
   "cell_type": "code",
   "source": [
    "# fetch data of world bank total population and gdp per capita for the year 2023\n",
    "import wbdata\n",
    "import pandas as pd\n",
    "import plotly.express as px\n",
    "import wbdata\n",
    "import datetime\n",
    "\n",
    "# Define the indicator for population (SP.POP.TOTL)\n",
    "indicator = {\n",
    "    'SP.POP.TOTL': 'total_population'\n",
    "             }\n",
    "\n",
    "# Define countries (India and Pakistan)\n",
    "countries = ['IN', 'PK', 'BD', 'LK', 'AF']  # 'IN' for India, 'PK' for Pakistan\n",
    "\n",
    "# Fetch data\n",
    "data = wbdata.get_dataframe(indicator,\n",
    "                            country=countries,\n",
    "                            )\n",
    "\n",
    "# Reset index to convert it into a DataFrame\n",
    "data.reset_index(inplace=True)\n",
    "\n",
    "# Rename columns for clarity\n",
    "data.rename(columns={'country': 'Country', 'date': 'Year'}, inplace=True)\n",
    "\n",
    "# Ensure Year column is numeric\n",
    "data['Year'] = pd.to_numeric(data['Year'])\n",
    "\n",
    "# Filter data between 1960 and 2023\n",
    "df = data[(data['Year'] <= 2023) & (data['Year'] >= 1960)]\n",
    "df.sample(5, random_state=42)\n",
    "\n",
    "# # Save to a CSV file (optional)\n",
    "# data.to_csv(\"./dataset/total_population.csv\", index=False)\n",
    "\n",
    "# # Display the first few rows of data\n",
    "# print(data.head())\n",
    "\n",
    "# make choropleth map of total population using plotly\n",
    "fig = px.choropleth(df[df['Year'] == 2023],\n",
    "                    locations=\"Country\",\n",
    "                    locationmode='country names',\n",
    "                    color=\"total_population\",\n",
    "                    hover_name=\"Country\",\n",
    "                    color_continuous_scale=px.colors.sequential.Viridis, # 'Viridis',\n",
    "                    title=\"Total Population in 2023\",\n",
    "                    labels={'total_population': 'Total Population'}\n",
    "                    )\n",
    "\n",
    "fig.show()"
   ],
   "id": "d524f4a90a56c89",
   "outputs": [
    {
     "data": {
      "application/vnd.plotly.v1+json": {
       "data": [
        {
         "coloraxis": "coloraxis",
         "geo": "geo",
         "hovertemplate": "<b>%{hovertext}</b><br><br>Country=%{location}<br>Total Population=%{z}<extra></extra>",
         "hovertext": [
          "Afghanistan",
          "Bangladesh",
          "India",
          "Sri Lanka",
          "Pakistan"
         ],
         "locationmode": "country names",
         "locations": [
          "Afghanistan",
          "Bangladesh",
          "India",
          "Sri Lanka",
          "Pakistan"
         ],
         "name": "",
         "z": {
          "dtype": "f8",
          "bdata": "AAAASGXEg0EAAADcwXCkQQAAANfMbdVBAAAAgCAEdUEAAADePIGtQQ=="
         },
         "type": "choropleth"
        }
       ],
       "layout": {
        "template": {
         "data": {
          "histogram2dcontour": [
           {
            "type": "histogram2dcontour",
            "colorbar": {
             "outlinewidth": 0,
             "ticks": ""
            },
            "colorscale": [
             [
              0.0,
              "#0d0887"
             ],
             [
              0.1111111111111111,
              "#46039f"
             ],
             [
              0.2222222222222222,
              "#7201a8"
             ],
             [
              0.3333333333333333,
              "#9c179e"
             ],
             [
              0.4444444444444444,
              "#bd3786"
             ],
             [
              0.5555555555555556,
              "#d8576b"
             ],
             [
              0.6666666666666666,
              "#ed7953"
             ],
             [
              0.7777777777777778,
              "#fb9f3a"
             ],
             [
              0.8888888888888888,
              "#fdca26"
             ],
             [
              1.0,
              "#f0f921"
             ]
            ]
           }
          ],
          "choropleth": [
           {
            "type": "choropleth",
            "colorbar": {
             "outlinewidth": 0,
             "ticks": ""
            }
           }
          ],
          "histogram2d": [
           {
            "type": "histogram2d",
            "colorbar": {
             "outlinewidth": 0,
             "ticks": ""
            },
            "colorscale": [
             [
              0.0,
              "#0d0887"
             ],
             [
              0.1111111111111111,
              "#46039f"
             ],
             [
              0.2222222222222222,
              "#7201a8"
             ],
             [
              0.3333333333333333,
              "#9c179e"
             ],
             [
              0.4444444444444444,
              "#bd3786"
             ],
             [
              0.5555555555555556,
              "#d8576b"
             ],
             [
              0.6666666666666666,
              "#ed7953"
             ],
             [
              0.7777777777777778,
              "#fb9f3a"
             ],
             [
              0.8888888888888888,
              "#fdca26"
             ],
             [
              1.0,
              "#f0f921"
             ]
            ]
           }
          ],
          "heatmap": [
           {
            "type": "heatmap",
            "colorbar": {
             "outlinewidth": 0,
             "ticks": ""
            },
            "colorscale": [
             [
              0.0,
              "#0d0887"
             ],
             [
              0.1111111111111111,
              "#46039f"
             ],
             [
              0.2222222222222222,
              "#7201a8"
             ],
             [
              0.3333333333333333,
              "#9c179e"
             ],
             [
              0.4444444444444444,
              "#bd3786"
             ],
             [
              0.5555555555555556,
              "#d8576b"
             ],
             [
              0.6666666666666666,
              "#ed7953"
             ],
             [
              0.7777777777777778,
              "#fb9f3a"
             ],
             [
              0.8888888888888888,
              "#fdca26"
             ],
             [
              1.0,
              "#f0f921"
             ]
            ]
           }
          ],
          "contourcarpet": [
           {
            "type": "contourcarpet",
            "colorbar": {
             "outlinewidth": 0,
             "ticks": ""
            }
           }
          ],
          "contour": [
           {
            "type": "contour",
            "colorbar": {
             "outlinewidth": 0,
             "ticks": ""
            },
            "colorscale": [
             [
              0.0,
              "#0d0887"
             ],
             [
              0.1111111111111111,
              "#46039f"
             ],
             [
              0.2222222222222222,
              "#7201a8"
             ],
             [
              0.3333333333333333,
              "#9c179e"
             ],
             [
              0.4444444444444444,
              "#bd3786"
             ],
             [
              0.5555555555555556,
              "#d8576b"
             ],
             [
              0.6666666666666666,
              "#ed7953"
             ],
             [
              0.7777777777777778,
              "#fb9f3a"
             ],
             [
              0.8888888888888888,
              "#fdca26"
             ],
             [
              1.0,
              "#f0f921"
             ]
            ]
           }
          ],
          "surface": [
           {
            "type": "surface",
            "colorbar": {
             "outlinewidth": 0,
             "ticks": ""
            },
            "colorscale": [
             [
              0.0,
              "#0d0887"
             ],
             [
              0.1111111111111111,
              "#46039f"
             ],
             [
              0.2222222222222222,
              "#7201a8"
             ],
             [
              0.3333333333333333,
              "#9c179e"
             ],
             [
              0.4444444444444444,
              "#bd3786"
             ],
             [
              0.5555555555555556,
              "#d8576b"
             ],
             [
              0.6666666666666666,
              "#ed7953"
             ],
             [
              0.7777777777777778,
              "#fb9f3a"
             ],
             [
              0.8888888888888888,
              "#fdca26"
             ],
             [
              1.0,
              "#f0f921"
             ]
            ]
           }
          ],
          "mesh3d": [
           {
            "type": "mesh3d",
            "colorbar": {
             "outlinewidth": 0,
             "ticks": ""
            }
           }
          ],
          "scatter": [
           {
            "marker": {
             "line": {
              "color": "#283442"
             }
            },
            "type": "scatter"
           }
          ],
          "parcoords": [
           {
            "type": "parcoords",
            "line": {
             "colorbar": {
              "outlinewidth": 0,
              "ticks": ""
             }
            }
           }
          ],
          "scatterpolargl": [
           {
            "type": "scatterpolargl",
            "marker": {
             "colorbar": {
              "outlinewidth": 0,
              "ticks": ""
             }
            }
           }
          ],
          "bar": [
           {
            "error_x": {
             "color": "#f2f5fa"
            },
            "error_y": {
             "color": "#f2f5fa"
            },
            "marker": {
             "line": {
              "color": "rgb(17,17,17)",
              "width": 0.5
             },
             "pattern": {
              "fillmode": "overlay",
              "size": 10,
              "solidity": 0.2
             }
            },
            "type": "bar"
           }
          ],
          "scattergeo": [
           {
            "type": "scattergeo",
            "marker": {
             "colorbar": {
              "outlinewidth": 0,
              "ticks": ""
             }
            }
           }
          ],
          "scatterpolar": [
           {
            "type": "scatterpolar",
            "marker": {
             "colorbar": {
              "outlinewidth": 0,
              "ticks": ""
             }
            }
           }
          ],
          "histogram": [
           {
            "marker": {
             "pattern": {
              "fillmode": "overlay",
              "size": 10,
              "solidity": 0.2
             }
            },
            "type": "histogram"
           }
          ],
          "scattergl": [
           {
            "marker": {
             "line": {
              "color": "#283442"
             }
            },
            "type": "scattergl"
           }
          ],
          "scatter3d": [
           {
            "type": "scatter3d",
            "line": {
             "colorbar": {
              "outlinewidth": 0,
              "ticks": ""
             }
            },
            "marker": {
             "colorbar": {
              "outlinewidth": 0,
              "ticks": ""
             }
            }
           }
          ],
          "scattermap": [
           {
            "type": "scattermap",
            "marker": {
             "colorbar": {
              "outlinewidth": 0,
              "ticks": ""
             }
            }
           }
          ],
          "scattermapbox": [
           {
            "type": "scattermapbox",
            "marker": {
             "colorbar": {
              "outlinewidth": 0,
              "ticks": ""
             }
            }
           }
          ],
          "scatterternary": [
           {
            "type": "scatterternary",
            "marker": {
             "colorbar": {
              "outlinewidth": 0,
              "ticks": ""
             }
            }
           }
          ],
          "scattercarpet": [
           {
            "type": "scattercarpet",
            "marker": {
             "colorbar": {
              "outlinewidth": 0,
              "ticks": ""
             }
            }
           }
          ],
          "carpet": [
           {
            "aaxis": {
             "endlinecolor": "#A2B1C6",
             "gridcolor": "#506784",
             "linecolor": "#506784",
             "minorgridcolor": "#506784",
             "startlinecolor": "#A2B1C6"
            },
            "baxis": {
             "endlinecolor": "#A2B1C6",
             "gridcolor": "#506784",
             "linecolor": "#506784",
             "minorgridcolor": "#506784",
             "startlinecolor": "#A2B1C6"
            },
            "type": "carpet"
           }
          ],
          "table": [
           {
            "cells": {
             "fill": {
              "color": "#506784"
             },
             "line": {
              "color": "rgb(17,17,17)"
             }
            },
            "header": {
             "fill": {
              "color": "#2a3f5f"
             },
             "line": {
              "color": "rgb(17,17,17)"
             }
            },
            "type": "table"
           }
          ],
          "barpolar": [
           {
            "marker": {
             "line": {
              "color": "rgb(17,17,17)",
              "width": 0.5
             },
             "pattern": {
              "fillmode": "overlay",
              "size": 10,
              "solidity": 0.2
             }
            },
            "type": "barpolar"
           }
          ],
          "pie": [
           {
            "automargin": true,
            "type": "pie"
           }
          ]
         },
         "layout": {
          "autotypenumbers": "strict",
          "colorway": [
           "#636efa",
           "#EF553B",
           "#00cc96",
           "#ab63fa",
           "#FFA15A",
           "#19d3f3",
           "#FF6692",
           "#B6E880",
           "#FF97FF",
           "#FECB52"
          ],
          "font": {
           "color": "#f2f5fa"
          },
          "hovermode": "closest",
          "hoverlabel": {
           "align": "left"
          },
          "paper_bgcolor": "rgb(17,17,17)",
          "plot_bgcolor": "rgb(17,17,17)",
          "polar": {
           "bgcolor": "rgb(17,17,17)",
           "angularaxis": {
            "gridcolor": "#506784",
            "linecolor": "#506784",
            "ticks": ""
           },
           "radialaxis": {
            "gridcolor": "#506784",
            "linecolor": "#506784",
            "ticks": ""
           }
          },
          "ternary": {
           "bgcolor": "rgb(17,17,17)",
           "aaxis": {
            "gridcolor": "#506784",
            "linecolor": "#506784",
            "ticks": ""
           },
           "baxis": {
            "gridcolor": "#506784",
            "linecolor": "#506784",
            "ticks": ""
           },
           "caxis": {
            "gridcolor": "#506784",
            "linecolor": "#506784",
            "ticks": ""
           }
          },
          "coloraxis": {
           "colorbar": {
            "outlinewidth": 0,
            "ticks": ""
           }
          },
          "colorscale": {
           "sequential": [
            [
             0.0,
             "#0d0887"
            ],
            [
             0.1111111111111111,
             "#46039f"
            ],
            [
             0.2222222222222222,
             "#7201a8"
            ],
            [
             0.3333333333333333,
             "#9c179e"
            ],
            [
             0.4444444444444444,
             "#bd3786"
            ],
            [
             0.5555555555555556,
             "#d8576b"
            ],
            [
             0.6666666666666666,
             "#ed7953"
            ],
            [
             0.7777777777777778,
             "#fb9f3a"
            ],
            [
             0.8888888888888888,
             "#fdca26"
            ],
            [
             1.0,
             "#f0f921"
            ]
           ],
           "sequentialminus": [
            [
             0.0,
             "#0d0887"
            ],
            [
             0.1111111111111111,
             "#46039f"
            ],
            [
             0.2222222222222222,
             "#7201a8"
            ],
            [
             0.3333333333333333,
             "#9c179e"
            ],
            [
             0.4444444444444444,
             "#bd3786"
            ],
            [
             0.5555555555555556,
             "#d8576b"
            ],
            [
             0.6666666666666666,
             "#ed7953"
            ],
            [
             0.7777777777777778,
             "#fb9f3a"
            ],
            [
             0.8888888888888888,
             "#fdca26"
            ],
            [
             1.0,
             "#f0f921"
            ]
           ],
           "diverging": [
            [
             0,
             "#8e0152"
            ],
            [
             0.1,
             "#c51b7d"
            ],
            [
             0.2,
             "#de77ae"
            ],
            [
             0.3,
             "#f1b6da"
            ],
            [
             0.4,
             "#fde0ef"
            ],
            [
             0.5,
             "#f7f7f7"
            ],
            [
             0.6,
             "#e6f5d0"
            ],
            [
             0.7,
             "#b8e186"
            ],
            [
             0.8,
             "#7fbc41"
            ],
            [
             0.9,
             "#4d9221"
            ],
            [
             1,
             "#276419"
            ]
           ]
          },
          "xaxis": {
           "gridcolor": "#283442",
           "linecolor": "#506784",
           "ticks": "",
           "title": {
            "standoff": 15
           },
           "zerolinecolor": "#283442",
           "automargin": true,
           "zerolinewidth": 2
          },
          "yaxis": {
           "gridcolor": "#283442",
           "linecolor": "#506784",
           "ticks": "",
           "title": {
            "standoff": 15
           },
           "zerolinecolor": "#283442",
           "automargin": true,
           "zerolinewidth": 2
          },
          "scene": {
           "xaxis": {
            "backgroundcolor": "rgb(17,17,17)",
            "gridcolor": "#506784",
            "linecolor": "#506784",
            "showbackground": true,
            "ticks": "",
            "zerolinecolor": "#C8D4E3",
            "gridwidth": 2
           },
           "yaxis": {
            "backgroundcolor": "rgb(17,17,17)",
            "gridcolor": "#506784",
            "linecolor": "#506784",
            "showbackground": true,
            "ticks": "",
            "zerolinecolor": "#C8D4E3",
            "gridwidth": 2
           },
           "zaxis": {
            "backgroundcolor": "rgb(17,17,17)",
            "gridcolor": "#506784",
            "linecolor": "#506784",
            "showbackground": true,
            "ticks": "",
            "zerolinecolor": "#C8D4E3",
            "gridwidth": 2
           }
          },
          "shapedefaults": {
           "line": {
            "color": "#f2f5fa"
           }
          },
          "annotationdefaults": {
           "arrowcolor": "#f2f5fa",
           "arrowhead": 0,
           "arrowwidth": 1
          },
          "geo": {
           "bgcolor": "rgb(17,17,17)",
           "landcolor": "rgb(17,17,17)",
           "subunitcolor": "#506784",
           "showland": true,
           "showlakes": true,
           "lakecolor": "rgb(17,17,17)"
          },
          "title": {
           "x": 0.05
          },
          "updatemenudefaults": {
           "bgcolor": "#506784",
           "borderwidth": 0
          },
          "sliderdefaults": {
           "bgcolor": "#C8D4E3",
           "borderwidth": 1,
           "bordercolor": "rgb(17,17,17)",
           "tickwidth": 0
          },
          "mapbox": {
           "style": "dark"
          }
         }
        },
        "geo": {
         "domain": {
          "x": [
           0.0,
           1.0
          ],
          "y": [
           0.0,
           1.0
          ]
         },
         "center": {}
        },
        "coloraxis": {
         "colorbar": {
          "title": {
           "text": "Total Population"
          }
         },
         "colorscale": [
          [
           0.0,
           "#440154"
          ],
          [
           0.1111111111111111,
           "#482878"
          ],
          [
           0.2222222222222222,
           "#3e4989"
          ],
          [
           0.3333333333333333,
           "#31688e"
          ],
          [
           0.4444444444444444,
           "#26828e"
          ],
          [
           0.5555555555555556,
           "#1f9e89"
          ],
          [
           0.6666666666666666,
           "#35b779"
          ],
          [
           0.7777777777777778,
           "#6ece58"
          ],
          [
           0.8888888888888888,
           "#b5de2b"
          ],
          [
           1.0,
           "#fde725"
          ]
         ]
        },
        "legend": {
         "tracegroupgap": 0
        },
        "title": {
         "text": "Total Population in 2023"
        }
       },
       "config": {
        "plotlyServerURL": "https://plot.ly"
       }
      }
     },
     "metadata": {},
     "output_type": "display_data"
    }
   ],
   "execution_count": 5
  },
  {
   "metadata": {
    "ExecuteTime": {
     "end_time": "2025-07-14T11:12:14.939999Z",
     "start_time": "2025-07-14T11:12:14.916621Z"
    }
   },
   "cell_type": "code",
   "source": [
    "# make choropleth map of total population using plotly\n",
    "fig = px.choropleth(df[df['Year'] == 2023],\n",
    "                    locations=\"Country\",\n",
    "                    locationmode='country names',\n",
    "                    color=\"total_population\",\n",
    "                    hover_name=\"Country\",\n",
    "                    color_continuous_scale=px.colors.sequential.Viridis, # 'Viridis',\n",
    "                    title=\"Total Population in 2023\",\n",
    "                    labels={'total_population': 'Total Population'}\n",
    "                    )\n",
    "# update the plot type to orthographic\n",
    "fig.update_geos(projection_type=\"eckert4\") # 'natural earth', 'equirectangular', 'orthographic', 'mercator', 'miller', 'robinson', 'eckert4', 'azimuthal equal area', 'azimuthal equidistant', 'conic equal area', 'conic conformal', 'conic equidistant', 'gnomonic', 'stereographic', 'mollweide', 'hammer', 'transverse mercator', 'albers usa', 'winkel tripel', 'aitoff', 'sinusoidal'\n",
    "fig.show()"
   ],
   "id": "a2ded5bd5428b8c0",
   "outputs": [
    {
     "data": {
      "application/vnd.plotly.v1+json": {
       "data": [
        {
         "coloraxis": "coloraxis",
         "geo": "geo",
         "hovertemplate": "<b>%{hovertext}</b><br><br>Country=%{location}<br>Total Population=%{z}<extra></extra>",
         "hovertext": [
          "Afghanistan",
          "Bangladesh",
          "India",
          "Sri Lanka",
          "Pakistan"
         ],
         "locationmode": "country names",
         "locations": [
          "Afghanistan",
          "Bangladesh",
          "India",
          "Sri Lanka",
          "Pakistan"
         ],
         "name": "",
         "z": {
          "dtype": "f8",
          "bdata": "AAAASGXEg0EAAADcwXCkQQAAANfMbdVBAAAAgCAEdUEAAADePIGtQQ=="
         },
         "type": "choropleth"
        }
       ],
       "layout": {
        "template": {
         "data": {
          "histogram2dcontour": [
           {
            "type": "histogram2dcontour",
            "colorbar": {
             "outlinewidth": 0,
             "ticks": ""
            },
            "colorscale": [
             [
              0.0,
              "#0d0887"
             ],
             [
              0.1111111111111111,
              "#46039f"
             ],
             [
              0.2222222222222222,
              "#7201a8"
             ],
             [
              0.3333333333333333,
              "#9c179e"
             ],
             [
              0.4444444444444444,
              "#bd3786"
             ],
             [
              0.5555555555555556,
              "#d8576b"
             ],
             [
              0.6666666666666666,
              "#ed7953"
             ],
             [
              0.7777777777777778,
              "#fb9f3a"
             ],
             [
              0.8888888888888888,
              "#fdca26"
             ],
             [
              1.0,
              "#f0f921"
             ]
            ]
           }
          ],
          "choropleth": [
           {
            "type": "choropleth",
            "colorbar": {
             "outlinewidth": 0,
             "ticks": ""
            }
           }
          ],
          "histogram2d": [
           {
            "type": "histogram2d",
            "colorbar": {
             "outlinewidth": 0,
             "ticks": ""
            },
            "colorscale": [
             [
              0.0,
              "#0d0887"
             ],
             [
              0.1111111111111111,
              "#46039f"
             ],
             [
              0.2222222222222222,
              "#7201a8"
             ],
             [
              0.3333333333333333,
              "#9c179e"
             ],
             [
              0.4444444444444444,
              "#bd3786"
             ],
             [
              0.5555555555555556,
              "#d8576b"
             ],
             [
              0.6666666666666666,
              "#ed7953"
             ],
             [
              0.7777777777777778,
              "#fb9f3a"
             ],
             [
              0.8888888888888888,
              "#fdca26"
             ],
             [
              1.0,
              "#f0f921"
             ]
            ]
           }
          ],
          "heatmap": [
           {
            "type": "heatmap",
            "colorbar": {
             "outlinewidth": 0,
             "ticks": ""
            },
            "colorscale": [
             [
              0.0,
              "#0d0887"
             ],
             [
              0.1111111111111111,
              "#46039f"
             ],
             [
              0.2222222222222222,
              "#7201a8"
             ],
             [
              0.3333333333333333,
              "#9c179e"
             ],
             [
              0.4444444444444444,
              "#bd3786"
             ],
             [
              0.5555555555555556,
              "#d8576b"
             ],
             [
              0.6666666666666666,
              "#ed7953"
             ],
             [
              0.7777777777777778,
              "#fb9f3a"
             ],
             [
              0.8888888888888888,
              "#fdca26"
             ],
             [
              1.0,
              "#f0f921"
             ]
            ]
           }
          ],
          "contourcarpet": [
           {
            "type": "contourcarpet",
            "colorbar": {
             "outlinewidth": 0,
             "ticks": ""
            }
           }
          ],
          "contour": [
           {
            "type": "contour",
            "colorbar": {
             "outlinewidth": 0,
             "ticks": ""
            },
            "colorscale": [
             [
              0.0,
              "#0d0887"
             ],
             [
              0.1111111111111111,
              "#46039f"
             ],
             [
              0.2222222222222222,
              "#7201a8"
             ],
             [
              0.3333333333333333,
              "#9c179e"
             ],
             [
              0.4444444444444444,
              "#bd3786"
             ],
             [
              0.5555555555555556,
              "#d8576b"
             ],
             [
              0.6666666666666666,
              "#ed7953"
             ],
             [
              0.7777777777777778,
              "#fb9f3a"
             ],
             [
              0.8888888888888888,
              "#fdca26"
             ],
             [
              1.0,
              "#f0f921"
             ]
            ]
           }
          ],
          "surface": [
           {
            "type": "surface",
            "colorbar": {
             "outlinewidth": 0,
             "ticks": ""
            },
            "colorscale": [
             [
              0.0,
              "#0d0887"
             ],
             [
              0.1111111111111111,
              "#46039f"
             ],
             [
              0.2222222222222222,
              "#7201a8"
             ],
             [
              0.3333333333333333,
              "#9c179e"
             ],
             [
              0.4444444444444444,
              "#bd3786"
             ],
             [
              0.5555555555555556,
              "#d8576b"
             ],
             [
              0.6666666666666666,
              "#ed7953"
             ],
             [
              0.7777777777777778,
              "#fb9f3a"
             ],
             [
              0.8888888888888888,
              "#fdca26"
             ],
             [
              1.0,
              "#f0f921"
             ]
            ]
           }
          ],
          "mesh3d": [
           {
            "type": "mesh3d",
            "colorbar": {
             "outlinewidth": 0,
             "ticks": ""
            }
           }
          ],
          "scatter": [
           {
            "marker": {
             "line": {
              "color": "#283442"
             }
            },
            "type": "scatter"
           }
          ],
          "parcoords": [
           {
            "type": "parcoords",
            "line": {
             "colorbar": {
              "outlinewidth": 0,
              "ticks": ""
             }
            }
           }
          ],
          "scatterpolargl": [
           {
            "type": "scatterpolargl",
            "marker": {
             "colorbar": {
              "outlinewidth": 0,
              "ticks": ""
             }
            }
           }
          ],
          "bar": [
           {
            "error_x": {
             "color": "#f2f5fa"
            },
            "error_y": {
             "color": "#f2f5fa"
            },
            "marker": {
             "line": {
              "color": "rgb(17,17,17)",
              "width": 0.5
             },
             "pattern": {
              "fillmode": "overlay",
              "size": 10,
              "solidity": 0.2
             }
            },
            "type": "bar"
           }
          ],
          "scattergeo": [
           {
            "type": "scattergeo",
            "marker": {
             "colorbar": {
              "outlinewidth": 0,
              "ticks": ""
             }
            }
           }
          ],
          "scatterpolar": [
           {
            "type": "scatterpolar",
            "marker": {
             "colorbar": {
              "outlinewidth": 0,
              "ticks": ""
             }
            }
           }
          ],
          "histogram": [
           {
            "marker": {
             "pattern": {
              "fillmode": "overlay",
              "size": 10,
              "solidity": 0.2
             }
            },
            "type": "histogram"
           }
          ],
          "scattergl": [
           {
            "marker": {
             "line": {
              "color": "#283442"
             }
            },
            "type": "scattergl"
           }
          ],
          "scatter3d": [
           {
            "type": "scatter3d",
            "line": {
             "colorbar": {
              "outlinewidth": 0,
              "ticks": ""
             }
            },
            "marker": {
             "colorbar": {
              "outlinewidth": 0,
              "ticks": ""
             }
            }
           }
          ],
          "scattermap": [
           {
            "type": "scattermap",
            "marker": {
             "colorbar": {
              "outlinewidth": 0,
              "ticks": ""
             }
            }
           }
          ],
          "scattermapbox": [
           {
            "type": "scattermapbox",
            "marker": {
             "colorbar": {
              "outlinewidth": 0,
              "ticks": ""
             }
            }
           }
          ],
          "scatterternary": [
           {
            "type": "scatterternary",
            "marker": {
             "colorbar": {
              "outlinewidth": 0,
              "ticks": ""
             }
            }
           }
          ],
          "scattercarpet": [
           {
            "type": "scattercarpet",
            "marker": {
             "colorbar": {
              "outlinewidth": 0,
              "ticks": ""
             }
            }
           }
          ],
          "carpet": [
           {
            "aaxis": {
             "endlinecolor": "#A2B1C6",
             "gridcolor": "#506784",
             "linecolor": "#506784",
             "minorgridcolor": "#506784",
             "startlinecolor": "#A2B1C6"
            },
            "baxis": {
             "endlinecolor": "#A2B1C6",
             "gridcolor": "#506784",
             "linecolor": "#506784",
             "minorgridcolor": "#506784",
             "startlinecolor": "#A2B1C6"
            },
            "type": "carpet"
           }
          ],
          "table": [
           {
            "cells": {
             "fill": {
              "color": "#506784"
             },
             "line": {
              "color": "rgb(17,17,17)"
             }
            },
            "header": {
             "fill": {
              "color": "#2a3f5f"
             },
             "line": {
              "color": "rgb(17,17,17)"
             }
            },
            "type": "table"
           }
          ],
          "barpolar": [
           {
            "marker": {
             "line": {
              "color": "rgb(17,17,17)",
              "width": 0.5
             },
             "pattern": {
              "fillmode": "overlay",
              "size": 10,
              "solidity": 0.2
             }
            },
            "type": "barpolar"
           }
          ],
          "pie": [
           {
            "automargin": true,
            "type": "pie"
           }
          ]
         },
         "layout": {
          "autotypenumbers": "strict",
          "colorway": [
           "#636efa",
           "#EF553B",
           "#00cc96",
           "#ab63fa",
           "#FFA15A",
           "#19d3f3",
           "#FF6692",
           "#B6E880",
           "#FF97FF",
           "#FECB52"
          ],
          "font": {
           "color": "#f2f5fa"
          },
          "hovermode": "closest",
          "hoverlabel": {
           "align": "left"
          },
          "paper_bgcolor": "rgb(17,17,17)",
          "plot_bgcolor": "rgb(17,17,17)",
          "polar": {
           "bgcolor": "rgb(17,17,17)",
           "angularaxis": {
            "gridcolor": "#506784",
            "linecolor": "#506784",
            "ticks": ""
           },
           "radialaxis": {
            "gridcolor": "#506784",
            "linecolor": "#506784",
            "ticks": ""
           }
          },
          "ternary": {
           "bgcolor": "rgb(17,17,17)",
           "aaxis": {
            "gridcolor": "#506784",
            "linecolor": "#506784",
            "ticks": ""
           },
           "baxis": {
            "gridcolor": "#506784",
            "linecolor": "#506784",
            "ticks": ""
           },
           "caxis": {
            "gridcolor": "#506784",
            "linecolor": "#506784",
            "ticks": ""
           }
          },
          "coloraxis": {
           "colorbar": {
            "outlinewidth": 0,
            "ticks": ""
           }
          },
          "colorscale": {
           "sequential": [
            [
             0.0,
             "#0d0887"
            ],
            [
             0.1111111111111111,
             "#46039f"
            ],
            [
             0.2222222222222222,
             "#7201a8"
            ],
            [
             0.3333333333333333,
             "#9c179e"
            ],
            [
             0.4444444444444444,
             "#bd3786"
            ],
            [
             0.5555555555555556,
             "#d8576b"
            ],
            [
             0.6666666666666666,
             "#ed7953"
            ],
            [
             0.7777777777777778,
             "#fb9f3a"
            ],
            [
             0.8888888888888888,
             "#fdca26"
            ],
            [
             1.0,
             "#f0f921"
            ]
           ],
           "sequentialminus": [
            [
             0.0,
             "#0d0887"
            ],
            [
             0.1111111111111111,
             "#46039f"
            ],
            [
             0.2222222222222222,
             "#7201a8"
            ],
            [
             0.3333333333333333,
             "#9c179e"
            ],
            [
             0.4444444444444444,
             "#bd3786"
            ],
            [
             0.5555555555555556,
             "#d8576b"
            ],
            [
             0.6666666666666666,
             "#ed7953"
            ],
            [
             0.7777777777777778,
             "#fb9f3a"
            ],
            [
             0.8888888888888888,
             "#fdca26"
            ],
            [
             1.0,
             "#f0f921"
            ]
           ],
           "diverging": [
            [
             0,
             "#8e0152"
            ],
            [
             0.1,
             "#c51b7d"
            ],
            [
             0.2,
             "#de77ae"
            ],
            [
             0.3,
             "#f1b6da"
            ],
            [
             0.4,
             "#fde0ef"
            ],
            [
             0.5,
             "#f7f7f7"
            ],
            [
             0.6,
             "#e6f5d0"
            ],
            [
             0.7,
             "#b8e186"
            ],
            [
             0.8,
             "#7fbc41"
            ],
            [
             0.9,
             "#4d9221"
            ],
            [
             1,
             "#276419"
            ]
           ]
          },
          "xaxis": {
           "gridcolor": "#283442",
           "linecolor": "#506784",
           "ticks": "",
           "title": {
            "standoff": 15
           },
           "zerolinecolor": "#283442",
           "automargin": true,
           "zerolinewidth": 2
          },
          "yaxis": {
           "gridcolor": "#283442",
           "linecolor": "#506784",
           "ticks": "",
           "title": {
            "standoff": 15
           },
           "zerolinecolor": "#283442",
           "automargin": true,
           "zerolinewidth": 2
          },
          "scene": {
           "xaxis": {
            "backgroundcolor": "rgb(17,17,17)",
            "gridcolor": "#506784",
            "linecolor": "#506784",
            "showbackground": true,
            "ticks": "",
            "zerolinecolor": "#C8D4E3",
            "gridwidth": 2
           },
           "yaxis": {
            "backgroundcolor": "rgb(17,17,17)",
            "gridcolor": "#506784",
            "linecolor": "#506784",
            "showbackground": true,
            "ticks": "",
            "zerolinecolor": "#C8D4E3",
            "gridwidth": 2
           },
           "zaxis": {
            "backgroundcolor": "rgb(17,17,17)",
            "gridcolor": "#506784",
            "linecolor": "#506784",
            "showbackground": true,
            "ticks": "",
            "zerolinecolor": "#C8D4E3",
            "gridwidth": 2
           }
          },
          "shapedefaults": {
           "line": {
            "color": "#f2f5fa"
           }
          },
          "annotationdefaults": {
           "arrowcolor": "#f2f5fa",
           "arrowhead": 0,
           "arrowwidth": 1
          },
          "geo": {
           "bgcolor": "rgb(17,17,17)",
           "landcolor": "rgb(17,17,17)",
           "subunitcolor": "#506784",
           "showland": true,
           "showlakes": true,
           "lakecolor": "rgb(17,17,17)"
          },
          "title": {
           "x": 0.05
          },
          "updatemenudefaults": {
           "bgcolor": "#506784",
           "borderwidth": 0
          },
          "sliderdefaults": {
           "bgcolor": "#C8D4E3",
           "borderwidth": 1,
           "bordercolor": "rgb(17,17,17)",
           "tickwidth": 0
          },
          "mapbox": {
           "style": "dark"
          }
         }
        },
        "geo": {
         "domain": {
          "x": [
           0.0,
           1.0
          ],
          "y": [
           0.0,
           1.0
          ]
         },
         "center": {},
         "projection": {
          "type": "eckert4"
         }
        },
        "coloraxis": {
         "colorbar": {
          "title": {
           "text": "Total Population"
          }
         },
         "colorscale": [
          [
           0.0,
           "#440154"
          ],
          [
           0.1111111111111111,
           "#482878"
          ],
          [
           0.2222222222222222,
           "#3e4989"
          ],
          [
           0.3333333333333333,
           "#31688e"
          ],
          [
           0.4444444444444444,
           "#26828e"
          ],
          [
           0.5555555555555556,
           "#1f9e89"
          ],
          [
           0.6666666666666666,
           "#35b779"
          ],
          [
           0.7777777777777778,
           "#6ece58"
          ],
          [
           0.8888888888888888,
           "#b5de2b"
          ],
          [
           1.0,
           "#fde725"
          ]
         ]
        },
        "legend": {
         "tracegroupgap": 0
        },
        "title": {
         "text": "Total Population in 2023"
        }
       },
       "config": {
        "plotlyServerURL": "https://plot.ly"
       }
      }
     },
     "metadata": {},
     "output_type": "display_data"
    }
   ],
   "execution_count": 6
  },
  {
   "metadata": {
    "ExecuteTime": {
     "end_time": "2025-07-14T11:12:34.941417Z",
     "start_time": "2025-07-14T11:12:33.888689Z"
    }
   },
   "cell_type": "code",
   "source": [
    "# fetch data of world bank total population and gdp per capita for the year 2023\n",
    "import wbdata\n",
    "import pandas as pd\n",
    "import plotly.express as px\n",
    "import wbdata\n",
    "import datetime\n",
    "\n",
    "# Define the indicator for population (SP.POP.TOTL)\n",
    "indicator = {\n",
    "    'SP.POP.TOTL': 'total_population',\n",
    "    'NY.GDP.PCAP.CD': 'gdp_per_capita',\n",
    "    # net migration\n",
    "    'SM.POP.NETM': 'net_migration',\n",
    "             }\n",
    "\n",
    "# Define countries (India and Pakistan)\n",
    "countries = ['IN', 'PK', 'BD', 'LK', 'AF']  # 'IN' for India, 'PK' for Pakistan\n",
    "\n",
    "# Fetch data\n",
    "data = wbdata.get_dataframe(indicator,\n",
    "                            country=countries,\n",
    "                            )\n",
    "\n",
    "# Reset index to convert it into a DataFrame\n",
    "data.reset_index(inplace=True)\n",
    "\n",
    "# Rename columns for clarity\n",
    "data.rename(columns={'country': 'Country', 'date': 'Year'}, inplace=True)\n",
    "\n",
    "# Ensure Year column is numeric\n",
    "data['Year'] = pd.to_numeric(data['Year'])\n",
    "\n",
    "# Filter data between 1960 and 2023\n",
    "df = data[(data['Year'] <= 2023) & (data['Year'] >= 1960)]\n",
    "df.sample(5, random_state=42)\n",
    "# make choropleth map of total population using plotly\n",
    "fig = px.choropleth(df[df['Year'] == 2023],\n",
    "                    locations=\"Country\",\n",
    "                    locationmode='country names',\n",
    "                    color=\"gdp_per_capita\",\n",
    "                    hover_name=\"Country\",\n",
    "                    color_continuous_scale=px.colors.sequential.Viridis, # 'Viridis',\n",
    "                    title=\"Total Population in 2023\",\n",
    "                    labels={'gdp_per_capita': 'GDP Per Capita (Current US$)'}\n",
    "                    )\n",
    "# update the plot type to orthographic\n",
    "fig.update_geos(projection_type=\"eckert4\") # 'natural earth', 'equirectangular', 'orthographic', 'mercator', 'miller', 'robinson', 'eckert4', 'azimuthal equal area', 'azimuthal equidistant', 'conic equal area', 'conic conformal', 'conic equidistant', 'gnomonic', 'stereographic', 'mollweide', 'hammer', 'transverse mercator', 'albers usa', 'winkel tripel', 'aitoff', 'sinusoidal'\n",
    "fig.show()"
   ],
   "id": "8e7eb6f8ed6efca",
   "outputs": [
    {
     "data": {
      "application/vnd.plotly.v1+json": {
       "data": [
        {
         "coloraxis": "coloraxis",
         "geo": "geo",
         "hovertemplate": "<b>%{hovertext}</b><br><br>Country=%{location}<br>GDP Per Capita (Current US$)=%{z}<extra></extra>",
         "hovertext": [
          "Afghanistan",
          "Bangladesh",
          "India",
          "Sri Lanka",
          "Pakistan"
         ],
         "locationmode": "country names",
         "locations": [
          "Afghanistan",
          "Bangladesh",
          "India",
          "Sri Lanka",
          "Pakistan"
         ],
         "name": "",
         "z": {
          "dtype": "f8",
          "bdata": "aNEyViDceUByrf0UCe6jQE4Qo5k9xKNAr3XNw8etrUDqNTFWrVSVQA=="
         },
         "type": "choropleth"
        }
       ],
       "layout": {
        "template": {
         "data": {
          "histogram2dcontour": [
           {
            "type": "histogram2dcontour",
            "colorbar": {
             "outlinewidth": 0,
             "ticks": ""
            },
            "colorscale": [
             [
              0.0,
              "#0d0887"
             ],
             [
              0.1111111111111111,
              "#46039f"
             ],
             [
              0.2222222222222222,
              "#7201a8"
             ],
             [
              0.3333333333333333,
              "#9c179e"
             ],
             [
              0.4444444444444444,
              "#bd3786"
             ],
             [
              0.5555555555555556,
              "#d8576b"
             ],
             [
              0.6666666666666666,
              "#ed7953"
             ],
             [
              0.7777777777777778,
              "#fb9f3a"
             ],
             [
              0.8888888888888888,
              "#fdca26"
             ],
             [
              1.0,
              "#f0f921"
             ]
            ]
           }
          ],
          "choropleth": [
           {
            "type": "choropleth",
            "colorbar": {
             "outlinewidth": 0,
             "ticks": ""
            }
           }
          ],
          "histogram2d": [
           {
            "type": "histogram2d",
            "colorbar": {
             "outlinewidth": 0,
             "ticks": ""
            },
            "colorscale": [
             [
              0.0,
              "#0d0887"
             ],
             [
              0.1111111111111111,
              "#46039f"
             ],
             [
              0.2222222222222222,
              "#7201a8"
             ],
             [
              0.3333333333333333,
              "#9c179e"
             ],
             [
              0.4444444444444444,
              "#bd3786"
             ],
             [
              0.5555555555555556,
              "#d8576b"
             ],
             [
              0.6666666666666666,
              "#ed7953"
             ],
             [
              0.7777777777777778,
              "#fb9f3a"
             ],
             [
              0.8888888888888888,
              "#fdca26"
             ],
             [
              1.0,
              "#f0f921"
             ]
            ]
           }
          ],
          "heatmap": [
           {
            "type": "heatmap",
            "colorbar": {
             "outlinewidth": 0,
             "ticks": ""
            },
            "colorscale": [
             [
              0.0,
              "#0d0887"
             ],
             [
              0.1111111111111111,
              "#46039f"
             ],
             [
              0.2222222222222222,
              "#7201a8"
             ],
             [
              0.3333333333333333,
              "#9c179e"
             ],
             [
              0.4444444444444444,
              "#bd3786"
             ],
             [
              0.5555555555555556,
              "#d8576b"
             ],
             [
              0.6666666666666666,
              "#ed7953"
             ],
             [
              0.7777777777777778,
              "#fb9f3a"
             ],
             [
              0.8888888888888888,
              "#fdca26"
             ],
             [
              1.0,
              "#f0f921"
             ]
            ]
           }
          ],
          "contourcarpet": [
           {
            "type": "contourcarpet",
            "colorbar": {
             "outlinewidth": 0,
             "ticks": ""
            }
           }
          ],
          "contour": [
           {
            "type": "contour",
            "colorbar": {
             "outlinewidth": 0,
             "ticks": ""
            },
            "colorscale": [
             [
              0.0,
              "#0d0887"
             ],
             [
              0.1111111111111111,
              "#46039f"
             ],
             [
              0.2222222222222222,
              "#7201a8"
             ],
             [
              0.3333333333333333,
              "#9c179e"
             ],
             [
              0.4444444444444444,
              "#bd3786"
             ],
             [
              0.5555555555555556,
              "#d8576b"
             ],
             [
              0.6666666666666666,
              "#ed7953"
             ],
             [
              0.7777777777777778,
              "#fb9f3a"
             ],
             [
              0.8888888888888888,
              "#fdca26"
             ],
             [
              1.0,
              "#f0f921"
             ]
            ]
           }
          ],
          "surface": [
           {
            "type": "surface",
            "colorbar": {
             "outlinewidth": 0,
             "ticks": ""
            },
            "colorscale": [
             [
              0.0,
              "#0d0887"
             ],
             [
              0.1111111111111111,
              "#46039f"
             ],
             [
              0.2222222222222222,
              "#7201a8"
             ],
             [
              0.3333333333333333,
              "#9c179e"
             ],
             [
              0.4444444444444444,
              "#bd3786"
             ],
             [
              0.5555555555555556,
              "#d8576b"
             ],
             [
              0.6666666666666666,
              "#ed7953"
             ],
             [
              0.7777777777777778,
              "#fb9f3a"
             ],
             [
              0.8888888888888888,
              "#fdca26"
             ],
             [
              1.0,
              "#f0f921"
             ]
            ]
           }
          ],
          "mesh3d": [
           {
            "type": "mesh3d",
            "colorbar": {
             "outlinewidth": 0,
             "ticks": ""
            }
           }
          ],
          "scatter": [
           {
            "marker": {
             "line": {
              "color": "#283442"
             }
            },
            "type": "scatter"
           }
          ],
          "parcoords": [
           {
            "type": "parcoords",
            "line": {
             "colorbar": {
              "outlinewidth": 0,
              "ticks": ""
             }
            }
           }
          ],
          "scatterpolargl": [
           {
            "type": "scatterpolargl",
            "marker": {
             "colorbar": {
              "outlinewidth": 0,
              "ticks": ""
             }
            }
           }
          ],
          "bar": [
           {
            "error_x": {
             "color": "#f2f5fa"
            },
            "error_y": {
             "color": "#f2f5fa"
            },
            "marker": {
             "line": {
              "color": "rgb(17,17,17)",
              "width": 0.5
             },
             "pattern": {
              "fillmode": "overlay",
              "size": 10,
              "solidity": 0.2
             }
            },
            "type": "bar"
           }
          ],
          "scattergeo": [
           {
            "type": "scattergeo",
            "marker": {
             "colorbar": {
              "outlinewidth": 0,
              "ticks": ""
             }
            }
           }
          ],
          "scatterpolar": [
           {
            "type": "scatterpolar",
            "marker": {
             "colorbar": {
              "outlinewidth": 0,
              "ticks": ""
             }
            }
           }
          ],
          "histogram": [
           {
            "marker": {
             "pattern": {
              "fillmode": "overlay",
              "size": 10,
              "solidity": 0.2
             }
            },
            "type": "histogram"
           }
          ],
          "scattergl": [
           {
            "marker": {
             "line": {
              "color": "#283442"
             }
            },
            "type": "scattergl"
           }
          ],
          "scatter3d": [
           {
            "type": "scatter3d",
            "line": {
             "colorbar": {
              "outlinewidth": 0,
              "ticks": ""
             }
            },
            "marker": {
             "colorbar": {
              "outlinewidth": 0,
              "ticks": ""
             }
            }
           }
          ],
          "scattermap": [
           {
            "type": "scattermap",
            "marker": {
             "colorbar": {
              "outlinewidth": 0,
              "ticks": ""
             }
            }
           }
          ],
          "scattermapbox": [
           {
            "type": "scattermapbox",
            "marker": {
             "colorbar": {
              "outlinewidth": 0,
              "ticks": ""
             }
            }
           }
          ],
          "scatterternary": [
           {
            "type": "scatterternary",
            "marker": {
             "colorbar": {
              "outlinewidth": 0,
              "ticks": ""
             }
            }
           }
          ],
          "scattercarpet": [
           {
            "type": "scattercarpet",
            "marker": {
             "colorbar": {
              "outlinewidth": 0,
              "ticks": ""
             }
            }
           }
          ],
          "carpet": [
           {
            "aaxis": {
             "endlinecolor": "#A2B1C6",
             "gridcolor": "#506784",
             "linecolor": "#506784",
             "minorgridcolor": "#506784",
             "startlinecolor": "#A2B1C6"
            },
            "baxis": {
             "endlinecolor": "#A2B1C6",
             "gridcolor": "#506784",
             "linecolor": "#506784",
             "minorgridcolor": "#506784",
             "startlinecolor": "#A2B1C6"
            },
            "type": "carpet"
           }
          ],
          "table": [
           {
            "cells": {
             "fill": {
              "color": "#506784"
             },
             "line": {
              "color": "rgb(17,17,17)"
             }
            },
            "header": {
             "fill": {
              "color": "#2a3f5f"
             },
             "line": {
              "color": "rgb(17,17,17)"
             }
            },
            "type": "table"
           }
          ],
          "barpolar": [
           {
            "marker": {
             "line": {
              "color": "rgb(17,17,17)",
              "width": 0.5
             },
             "pattern": {
              "fillmode": "overlay",
              "size": 10,
              "solidity": 0.2
             }
            },
            "type": "barpolar"
           }
          ],
          "pie": [
           {
            "automargin": true,
            "type": "pie"
           }
          ]
         },
         "layout": {
          "autotypenumbers": "strict",
          "colorway": [
           "#636efa",
           "#EF553B",
           "#00cc96",
           "#ab63fa",
           "#FFA15A",
           "#19d3f3",
           "#FF6692",
           "#B6E880",
           "#FF97FF",
           "#FECB52"
          ],
          "font": {
           "color": "#f2f5fa"
          },
          "hovermode": "closest",
          "hoverlabel": {
           "align": "left"
          },
          "paper_bgcolor": "rgb(17,17,17)",
          "plot_bgcolor": "rgb(17,17,17)",
          "polar": {
           "bgcolor": "rgb(17,17,17)",
           "angularaxis": {
            "gridcolor": "#506784",
            "linecolor": "#506784",
            "ticks": ""
           },
           "radialaxis": {
            "gridcolor": "#506784",
            "linecolor": "#506784",
            "ticks": ""
           }
          },
          "ternary": {
           "bgcolor": "rgb(17,17,17)",
           "aaxis": {
            "gridcolor": "#506784",
            "linecolor": "#506784",
            "ticks": ""
           },
           "baxis": {
            "gridcolor": "#506784",
            "linecolor": "#506784",
            "ticks": ""
           },
           "caxis": {
            "gridcolor": "#506784",
            "linecolor": "#506784",
            "ticks": ""
           }
          },
          "coloraxis": {
           "colorbar": {
            "outlinewidth": 0,
            "ticks": ""
           }
          },
          "colorscale": {
           "sequential": [
            [
             0.0,
             "#0d0887"
            ],
            [
             0.1111111111111111,
             "#46039f"
            ],
            [
             0.2222222222222222,
             "#7201a8"
            ],
            [
             0.3333333333333333,
             "#9c179e"
            ],
            [
             0.4444444444444444,
             "#bd3786"
            ],
            [
             0.5555555555555556,
             "#d8576b"
            ],
            [
             0.6666666666666666,
             "#ed7953"
            ],
            [
             0.7777777777777778,
             "#fb9f3a"
            ],
            [
             0.8888888888888888,
             "#fdca26"
            ],
            [
             1.0,
             "#f0f921"
            ]
           ],
           "sequentialminus": [
            [
             0.0,
             "#0d0887"
            ],
            [
             0.1111111111111111,
             "#46039f"
            ],
            [
             0.2222222222222222,
             "#7201a8"
            ],
            [
             0.3333333333333333,
             "#9c179e"
            ],
            [
             0.4444444444444444,
             "#bd3786"
            ],
            [
             0.5555555555555556,
             "#d8576b"
            ],
            [
             0.6666666666666666,
             "#ed7953"
            ],
            [
             0.7777777777777778,
             "#fb9f3a"
            ],
            [
             0.8888888888888888,
             "#fdca26"
            ],
            [
             1.0,
             "#f0f921"
            ]
           ],
           "diverging": [
            [
             0,
             "#8e0152"
            ],
            [
             0.1,
             "#c51b7d"
            ],
            [
             0.2,
             "#de77ae"
            ],
            [
             0.3,
             "#f1b6da"
            ],
            [
             0.4,
             "#fde0ef"
            ],
            [
             0.5,
             "#f7f7f7"
            ],
            [
             0.6,
             "#e6f5d0"
            ],
            [
             0.7,
             "#b8e186"
            ],
            [
             0.8,
             "#7fbc41"
            ],
            [
             0.9,
             "#4d9221"
            ],
            [
             1,
             "#276419"
            ]
           ]
          },
          "xaxis": {
           "gridcolor": "#283442",
           "linecolor": "#506784",
           "ticks": "",
           "title": {
            "standoff": 15
           },
           "zerolinecolor": "#283442",
           "automargin": true,
           "zerolinewidth": 2
          },
          "yaxis": {
           "gridcolor": "#283442",
           "linecolor": "#506784",
           "ticks": "",
           "title": {
            "standoff": 15
           },
           "zerolinecolor": "#283442",
           "automargin": true,
           "zerolinewidth": 2
          },
          "scene": {
           "xaxis": {
            "backgroundcolor": "rgb(17,17,17)",
            "gridcolor": "#506784",
            "linecolor": "#506784",
            "showbackground": true,
            "ticks": "",
            "zerolinecolor": "#C8D4E3",
            "gridwidth": 2
           },
           "yaxis": {
            "backgroundcolor": "rgb(17,17,17)",
            "gridcolor": "#506784",
            "linecolor": "#506784",
            "showbackground": true,
            "ticks": "",
            "zerolinecolor": "#C8D4E3",
            "gridwidth": 2
           },
           "zaxis": {
            "backgroundcolor": "rgb(17,17,17)",
            "gridcolor": "#506784",
            "linecolor": "#506784",
            "showbackground": true,
            "ticks": "",
            "zerolinecolor": "#C8D4E3",
            "gridwidth": 2
           }
          },
          "shapedefaults": {
           "line": {
            "color": "#f2f5fa"
           }
          },
          "annotationdefaults": {
           "arrowcolor": "#f2f5fa",
           "arrowhead": 0,
           "arrowwidth": 1
          },
          "geo": {
           "bgcolor": "rgb(17,17,17)",
           "landcolor": "rgb(17,17,17)",
           "subunitcolor": "#506784",
           "showland": true,
           "showlakes": true,
           "lakecolor": "rgb(17,17,17)"
          },
          "title": {
           "x": 0.05
          },
          "updatemenudefaults": {
           "bgcolor": "#506784",
           "borderwidth": 0
          },
          "sliderdefaults": {
           "bgcolor": "#C8D4E3",
           "borderwidth": 1,
           "bordercolor": "rgb(17,17,17)",
           "tickwidth": 0
          },
          "mapbox": {
           "style": "dark"
          }
         }
        },
        "geo": {
         "domain": {
          "x": [
           0.0,
           1.0
          ],
          "y": [
           0.0,
           1.0
          ]
         },
         "center": {},
         "projection": {
          "type": "eckert4"
         }
        },
        "coloraxis": {
         "colorbar": {
          "title": {
           "text": "GDP Per Capita (Current US$)"
          }
         },
         "colorscale": [
          [
           0.0,
           "#440154"
          ],
          [
           0.1111111111111111,
           "#482878"
          ],
          [
           0.2222222222222222,
           "#3e4989"
          ],
          [
           0.3333333333333333,
           "#31688e"
          ],
          [
           0.4444444444444444,
           "#26828e"
          ],
          [
           0.5555555555555556,
           "#1f9e89"
          ],
          [
           0.6666666666666666,
           "#35b779"
          ],
          [
           0.7777777777777778,
           "#6ece58"
          ],
          [
           0.8888888888888888,
           "#b5de2b"
          ],
          [
           1.0,
           "#fde725"
          ]
         ]
        },
        "legend": {
         "tracegroupgap": 0
        },
        "title": {
         "text": "Total Population in 2023"
        }
       },
       "config": {
        "plotlyServerURL": "https://plot.ly"
       }
      }
     },
     "metadata": {},
     "output_type": "display_data"
    }
   ],
   "execution_count": 7
  },
  {
   "metadata": {
    "ExecuteTime": {
     "end_time": "2025-07-14T11:13:17.159846Z",
     "start_time": "2025-07-14T11:12:54.640364Z"
    }
   },
   "cell_type": "code",
   "source": [
    "# fetch data of world bank total population and gdp per capita for the year 2023\n",
    "import wbdata\n",
    "import pandas as pd\n",
    "import plotly.express as px\n",
    "import wbdata\n",
    "import datetime\n",
    "\n",
    "# Define the indicator for population (SP.POP.TOTL)\n",
    "indicator = {\n",
    "    'SP.POP.TOTL': 'total_population',\n",
    "    'NY.GDP.PCAP.CD': 'gdp_per_capita',\n",
    "    # net migration\n",
    "    'SM.POP.NETM': 'net_migration',\n",
    "             }\n",
    "\n",
    "# Define countries (India and Pakistan)\n",
    "# countries = ['IN', 'PK', 'BD', 'LK', 'AF']  # 'IN' for India, 'PK' for Pakistan\n",
    "\n",
    "# Fetch data\n",
    "data = wbdata.get_dataframe(indicator,\n",
    "                            # country=countries,\n",
    "                            )\n",
    "\n",
    "# Reset index to convert it into a DataFrame\n",
    "data.reset_index(inplace=True)\n",
    "\n",
    "# Rename columns for clarity\n",
    "data.rename(columns={'country': 'Country', 'date': 'Year'}, inplace=True)\n",
    "\n",
    "# Ensure Year column is numeric\n",
    "data['Year'] = pd.to_numeric(data['Year'])\n",
    "\n",
    "# Filter data between 1960 and 2023\n",
    "df = data[(data['Year'] <= 2023) & (data['Year'] >= 1960)]\n",
    "df.sample(5, random_state=42)\n",
    "# make choropleth map of total population using plotly\n",
    "fig = px.choropleth(df[df['Year'] == 2023],\n",
    "                    locations=\"Country\",\n",
    "                    locationmode='country names',\n",
    "                    color=\"gdp_per_capita\",\n",
    "                    hover_name=\"Country\",\n",
    "                    color_continuous_scale=px.colors.sequential.Viridis, # 'Viridis',\n",
    "                    title=\"Total Population in 2023\",\n",
    "                    labels={'gdp_per_capita': 'GDP Per Capita (Current US$)'}\n",
    "                    )\n",
    "# update the plot type to orthographic\n",
    "fig.update_geos(projection_type=\"orthographic\") # 'natural earth', 'equirectangular', 'orthographic', 'mercator', 'miller', 'robinson', 'eckert4', 'azimuthal equal area', 'azimuthal equidistant', 'conic equal area', 'conic conformal', 'conic equidistant', 'gnomonic', 'stereographic', 'mollweide', 'hammer', 'transverse mercator', 'albers usa', 'winkel tripel', 'aitoff', 'sinusoidal'\n",
    "fig.show()"
   ],
   "id": "1f5357f155f3264d",
   "outputs": [
    {
     "data": {
      "application/vnd.plotly.v1+json": {
       "data": [
        {
         "coloraxis": "coloraxis",
         "geo": "geo",
         "hovertemplate": "<b>%{hovertext}</b><br><br>Country=%{location}<br>GDP Per Capita (Current US$)=%{z}<extra></extra>",
         "hovertext": [
          "Africa Eastern and Southern",
          "Africa Western and Central",
          "Arab World",
          "Caribbean small states",
          "Central Europe and the Baltics",
          "Early-demographic dividend",
          "East Asia & Pacific",
          "East Asia & Pacific (excluding high income)",
          "East Asia & Pacific (IDA & IBRD countries)",
          "Euro area",
          "Europe & Central Asia",
          "Europe & Central Asia (excluding high income)",
          "Europe & Central Asia (IDA & IBRD countries)",
          "European Union",
          "Fragile and conflict affected situations",
          "Heavily indebted poor countries (HIPC)",
          "High income",
          "IBRD only",
          "IDA & IBRD total",
          "IDA blend",
          "IDA only",
          "IDA total",
          "Late-demographic dividend",
          "Latin America & Caribbean",
          "Latin America & Caribbean (excluding high income)",
          "Latin America & the Caribbean (IDA & IBRD countries)",
          "Least developed countries: UN classification",
          "Low & middle income",
          "Low income",
          "Lower middle income",
          "Middle East, North Africa, Afghanistan & Pakistan",
          "Middle East, North Africa, Afghanistan & Pakistan (excluding high income)",
          "Middle East, North Africa, Afghanistan & Pakistan (IDA & IBRD)",
          "Middle income",
          "North America",
          "Not classified",
          "OECD members",
          "Other small states",
          "Pacific island small states",
          "Post-demographic dividend",
          "Pre-demographic dividend",
          "Small states",
          "South Asia",
          "South Asia (IDA & IBRD)",
          "Sub-Saharan Africa",
          "Sub-Saharan Africa (excluding high income)",
          "Sub-Saharan Africa (IDA & IBRD countries)",
          "Upper middle income",
          "World",
          "Afghanistan",
          "Albania",
          "Algeria",
          "American Samoa",
          "Andorra",
          "Angola",
          "Antigua and Barbuda",
          "Argentina",
          "Armenia",
          "Aruba",
          "Australia",
          "Austria",
          "Azerbaijan",
          "Bahamas, The",
          "Bahrain",
          "Bangladesh",
          "Barbados",
          "Belarus",
          "Belgium",
          "Belize",
          "Benin",
          "Bermuda",
          "Bhutan",
          "Bolivia",
          "Bosnia and Herzegovina",
          "Botswana",
          "Brazil",
          "British Virgin Islands",
          "Brunei Darussalam",
          "Bulgaria",
          "Burkina Faso",
          "Burundi",
          "Cabo Verde",
          "Cambodia",
          "Cameroon",
          "Canada",
          "Cayman Islands",
          "Central African Republic",
          "Chad",
          "Channel Islands",
          "Chile",
          "China",
          "Colombia",
          "Comoros",
          "Congo, Dem. Rep.",
          "Congo, Rep.",
          "Costa Rica",
          "Cote d'Ivoire",
          "Croatia",
          "Cuba",
          "Curacao",
          "Cyprus",
          "Czechia",
          "Denmark",
          "Djibouti",
          "Dominica",
          "Dominican Republic",
          "Ecuador",
          "Egypt, Arab Rep.",
          "El Salvador",
          "Equatorial Guinea",
          "Eritrea",
          "Estonia",
          "Eswatini",
          "Ethiopia",
          "Faroe Islands",
          "Fiji",
          "Finland",
          "France",
          "French Polynesia",
          "Gabon",
          "Gambia, The",
          "Georgia",
          "Germany",
          "Ghana",
          "Gibraltar",
          "Greece",
          "Greenland",
          "Grenada",
          "Guam",
          "Guatemala",
          "Guinea",
          "Guinea-Bissau",
          "Guyana",
          "Haiti",
          "Honduras",
          "Hong Kong SAR, China",
          "Hungary",
          "Iceland",
          "India",
          "Indonesia",
          "Iran, Islamic Rep.",
          "Iraq",
          "Ireland",
          "Isle of Man",
          "Israel",
          "Italy",
          "Jamaica",
          "Japan",
          "Jordan",
          "Kazakhstan",
          "Kenya",
          "Kiribati",
          "Korea, Dem. People's Rep.",
          "Korea, Rep.",
          "Kosovo",
          "Kuwait",
          "Kyrgyz Republic",
          "Lao PDR",
          "Latvia",
          "Lebanon",
          "Lesotho",
          "Liberia",
          "Libya",
          "Liechtenstein",
          "Lithuania",
          "Luxembourg",
          "Macao SAR, China",
          "Madagascar",
          "Malawi",
          "Malaysia",
          "Maldives",
          "Mali",
          "Malta",
          "Marshall Islands",
          "Mauritania",
          "Mauritius",
          "Mexico",
          "Micronesia, Fed. Sts.",
          "Moldova",
          "Monaco",
          "Mongolia",
          "Montenegro",
          "Morocco",
          "Mozambique",
          "Myanmar",
          "Namibia",
          "Nauru",
          "Nepal",
          "Netherlands",
          "New Caledonia",
          "New Zealand",
          "Nicaragua",
          "Niger",
          "Nigeria",
          "North Macedonia",
          "Northern Mariana Islands",
          "Norway",
          "Oman",
          "Pakistan",
          "Palau",
          "Panama",
          "Papua New Guinea",
          "Paraguay",
          "Peru",
          "Philippines",
          "Poland",
          "Portugal",
          "Puerto Rico (US)",
          "Qatar",
          "Romania",
          "Russian Federation",
          "Rwanda",
          "Samoa",
          "San Marino",
          "Sao Tome and Principe",
          "Saudi Arabia",
          "Senegal",
          "Serbia",
          "Seychelles",
          "Sierra Leone",
          "Singapore",
          "Sint Maarten (Dutch part)",
          "Slovak Republic",
          "Slovenia",
          "Solomon Islands",
          "Somalia",
          "South Africa",
          "South Sudan",
          "Spain",
          "Sri Lanka",
          "St. Kitts and Nevis",
          "St. Lucia",
          "St. Martin (French part)",
          "St. Vincent and the Grenadines",
          "Sudan",
          "Suriname",
          "Sweden",
          "Switzerland",
          "Syrian Arab Republic",
          "Tajikistan",
          "Tanzania",
          "Thailand",
          "Timor-Leste",
          "Togo",
          "Tonga",
          "Trinidad and Tobago",
          "Tunisia",
          "Turkiye",
          "Turkmenistan",
          "Turks and Caicos Islands",
          "Tuvalu",
          "Uganda",
          "Ukraine",
          "United Arab Emirates",
          "United Kingdom",
          "United States",
          "Uruguay",
          "Uzbekistan",
          "Vanuatu",
          "Venezuela, RB",
          "Viet Nam",
          "Virgin Islands (U.S.)",
          "West Bank and Gaza",
          "Yemen, Rep.",
          "Zambia",
          "Zimbabwe"
         ],
         "locationmode": "country names",
         "locations": [
          "Africa Eastern and Southern",
          "Africa Western and Central",
          "Arab World",
          "Caribbean small states",
          "Central Europe and the Baltics",
          "Early-demographic dividend",
          "East Asia & Pacific",
          "East Asia & Pacific (excluding high income)",
          "East Asia & Pacific (IDA & IBRD countries)",
          "Euro area",
          "Europe & Central Asia",
          "Europe & Central Asia (excluding high income)",
          "Europe & Central Asia (IDA & IBRD countries)",
          "European Union",
          "Fragile and conflict affected situations",
          "Heavily indebted poor countries (HIPC)",
          "High income",
          "IBRD only",
          "IDA & IBRD total",
          "IDA blend",
          "IDA only",
          "IDA total",
          "Late-demographic dividend",
          "Latin America & Caribbean",
          "Latin America & Caribbean (excluding high income)",
          "Latin America & the Caribbean (IDA & IBRD countries)",
          "Least developed countries: UN classification",
          "Low & middle income",
          "Low income",
          "Lower middle income",
          "Middle East, North Africa, Afghanistan & Pakistan",
          "Middle East, North Africa, Afghanistan & Pakistan (excluding high income)",
          "Middle East, North Africa, Afghanistan & Pakistan (IDA & IBRD)",
          "Middle income",
          "North America",
          "Not classified",
          "OECD members",
          "Other small states",
          "Pacific island small states",
          "Post-demographic dividend",
          "Pre-demographic dividend",
          "Small states",
          "South Asia",
          "South Asia (IDA & IBRD)",
          "Sub-Saharan Africa",
          "Sub-Saharan Africa (excluding high income)",
          "Sub-Saharan Africa (IDA & IBRD countries)",
          "Upper middle income",
          "World",
          "Afghanistan",
          "Albania",
          "Algeria",
          "American Samoa",
          "Andorra",
          "Angola",
          "Antigua and Barbuda",
          "Argentina",
          "Armenia",
          "Aruba",
          "Australia",
          "Austria",
          "Azerbaijan",
          "Bahamas, The",
          "Bahrain",
          "Bangladesh",
          "Barbados",
          "Belarus",
          "Belgium",
          "Belize",
          "Benin",
          "Bermuda",
          "Bhutan",
          "Bolivia",
          "Bosnia and Herzegovina",
          "Botswana",
          "Brazil",
          "British Virgin Islands",
          "Brunei Darussalam",
          "Bulgaria",
          "Burkina Faso",
          "Burundi",
          "Cabo Verde",
          "Cambodia",
          "Cameroon",
          "Canada",
          "Cayman Islands",
          "Central African Republic",
          "Chad",
          "Channel Islands",
          "Chile",
          "China",
          "Colombia",
          "Comoros",
          "Congo, Dem. Rep.",
          "Congo, Rep.",
          "Costa Rica",
          "Cote d'Ivoire",
          "Croatia",
          "Cuba",
          "Curacao",
          "Cyprus",
          "Czechia",
          "Denmark",
          "Djibouti",
          "Dominica",
          "Dominican Republic",
          "Ecuador",
          "Egypt, Arab Rep.",
          "El Salvador",
          "Equatorial Guinea",
          "Eritrea",
          "Estonia",
          "Eswatini",
          "Ethiopia",
          "Faroe Islands",
          "Fiji",
          "Finland",
          "France",
          "French Polynesia",
          "Gabon",
          "Gambia, The",
          "Georgia",
          "Germany",
          "Ghana",
          "Gibraltar",
          "Greece",
          "Greenland",
          "Grenada",
          "Guam",
          "Guatemala",
          "Guinea",
          "Guinea-Bissau",
          "Guyana",
          "Haiti",
          "Honduras",
          "Hong Kong SAR, China",
          "Hungary",
          "Iceland",
          "India",
          "Indonesia",
          "Iran, Islamic Rep.",
          "Iraq",
          "Ireland",
          "Isle of Man",
          "Israel",
          "Italy",
          "Jamaica",
          "Japan",
          "Jordan",
          "Kazakhstan",
          "Kenya",
          "Kiribati",
          "Korea, Dem. People's Rep.",
          "Korea, Rep.",
          "Kosovo",
          "Kuwait",
          "Kyrgyz Republic",
          "Lao PDR",
          "Latvia",
          "Lebanon",
          "Lesotho",
          "Liberia",
          "Libya",
          "Liechtenstein",
          "Lithuania",
          "Luxembourg",
          "Macao SAR, China",
          "Madagascar",
          "Malawi",
          "Malaysia",
          "Maldives",
          "Mali",
          "Malta",
          "Marshall Islands",
          "Mauritania",
          "Mauritius",
          "Mexico",
          "Micronesia, Fed. Sts.",
          "Moldova",
          "Monaco",
          "Mongolia",
          "Montenegro",
          "Morocco",
          "Mozambique",
          "Myanmar",
          "Namibia",
          "Nauru",
          "Nepal",
          "Netherlands",
          "New Caledonia",
          "New Zealand",
          "Nicaragua",
          "Niger",
          "Nigeria",
          "North Macedonia",
          "Northern Mariana Islands",
          "Norway",
          "Oman",
          "Pakistan",
          "Palau",
          "Panama",
          "Papua New Guinea",
          "Paraguay",
          "Peru",
          "Philippines",
          "Poland",
          "Portugal",
          "Puerto Rico (US)",
          "Qatar",
          "Romania",
          "Russian Federation",
          "Rwanda",
          "Samoa",
          "San Marino",
          "Sao Tome and Principe",
          "Saudi Arabia",
          "Senegal",
          "Serbia",
          "Seychelles",
          "Sierra Leone",
          "Singapore",
          "Sint Maarten (Dutch part)",
          "Slovak Republic",
          "Slovenia",
          "Solomon Islands",
          "Somalia",
          "South Africa",
          "South Sudan",
          "Spain",
          "Sri Lanka",
          "St. Kitts and Nevis",
          "St. Lucia",
          "St. Martin (French part)",
          "St. Vincent and the Grenadines",
          "Sudan",
          "Suriname",
          "Sweden",
          "Switzerland",
          "Syrian Arab Republic",
          "Tajikistan",
          "Tanzania",
          "Thailand",
          "Timor-Leste",
          "Togo",
          "Tonga",
          "Trinidad and Tobago",
          "Tunisia",
          "Turkiye",
          "Turkmenistan",
          "Turks and Caicos Islands",
          "Tuvalu",
          "Uganda",
          "Ukraine",
          "United Arab Emirates",
          "United Kingdom",
          "United States",
          "Uruguay",
          "Uzbekistan",
          "Vanuatu",
          "Venezuela, RB",
          "Viet Nam",
          "Virgin Islands (U.S.)",
          "West Bank and Gaza",
          "Yemen, Rep.",
          "Zambia",
          "Zimbabwe"
         ],
         "name": "",
         "z": {
          "dtype": "f8",
          "bdata": "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"
         },
         "type": "choropleth"
        }
       ],
       "layout": {
        "template": {
         "data": {
          "histogram2dcontour": [
           {
            "type": "histogram2dcontour",
            "colorbar": {
             "outlinewidth": 0,
             "ticks": ""
            },
            "colorscale": [
             [
              0.0,
              "#0d0887"
             ],
             [
              0.1111111111111111,
              "#46039f"
             ],
             [
              0.2222222222222222,
              "#7201a8"
             ],
             [
              0.3333333333333333,
              "#9c179e"
             ],
             [
              0.4444444444444444,
              "#bd3786"
             ],
             [
              0.5555555555555556,
              "#d8576b"
             ],
             [
              0.6666666666666666,
              "#ed7953"
             ],
             [
              0.7777777777777778,
              "#fb9f3a"
             ],
             [
              0.8888888888888888,
              "#fdca26"
             ],
             [
              1.0,
              "#f0f921"
             ]
            ]
           }
          ],
          "choropleth": [
           {
            "type": "choropleth",
            "colorbar": {
             "outlinewidth": 0,
             "ticks": ""
            }
           }
          ],
          "histogram2d": [
           {
            "type": "histogram2d",
            "colorbar": {
             "outlinewidth": 0,
             "ticks": ""
            },
            "colorscale": [
             [
              0.0,
              "#0d0887"
             ],
             [
              0.1111111111111111,
              "#46039f"
             ],
             [
              0.2222222222222222,
              "#7201a8"
             ],
             [
              0.3333333333333333,
              "#9c179e"
             ],
             [
              0.4444444444444444,
              "#bd3786"
             ],
             [
              0.5555555555555556,
              "#d8576b"
             ],
             [
              0.6666666666666666,
              "#ed7953"
             ],
             [
              0.7777777777777778,
              "#fb9f3a"
             ],
             [
              0.8888888888888888,
              "#fdca26"
             ],
             [
              1.0,
              "#f0f921"
             ]
            ]
           }
          ],
          "heatmap": [
           {
            "type": "heatmap",
            "colorbar": {
             "outlinewidth": 0,
             "ticks": ""
            },
            "colorscale": [
             [
              0.0,
              "#0d0887"
             ],
             [
              0.1111111111111111,
              "#46039f"
             ],
             [
              0.2222222222222222,
              "#7201a8"
             ],
             [
              0.3333333333333333,
              "#9c179e"
             ],
             [
              0.4444444444444444,
              "#bd3786"
             ],
             [
              0.5555555555555556,
              "#d8576b"
             ],
             [
              0.6666666666666666,
              "#ed7953"
             ],
             [
              0.7777777777777778,
              "#fb9f3a"
             ],
             [
              0.8888888888888888,
              "#fdca26"
             ],
             [
              1.0,
              "#f0f921"
             ]
            ]
           }
          ],
          "contourcarpet": [
           {
            "type": "contourcarpet",
            "colorbar": {
             "outlinewidth": 0,
             "ticks": ""
            }
           }
          ],
          "contour": [
           {
            "type": "contour",
            "colorbar": {
             "outlinewidth": 0,
             "ticks": ""
            },
            "colorscale": [
             [
              0.0,
              "#0d0887"
             ],
             [
              0.1111111111111111,
              "#46039f"
             ],
             [
              0.2222222222222222,
              "#7201a8"
             ],
             [
              0.3333333333333333,
              "#9c179e"
             ],
             [
              0.4444444444444444,
              "#bd3786"
             ],
             [
              0.5555555555555556,
              "#d8576b"
             ],
             [
              0.6666666666666666,
              "#ed7953"
             ],
             [
              0.7777777777777778,
              "#fb9f3a"
             ],
             [
              0.8888888888888888,
              "#fdca26"
             ],
             [
              1.0,
              "#f0f921"
             ]
            ]
           }
          ],
          "surface": [
           {
            "type": "surface",
            "colorbar": {
             "outlinewidth": 0,
             "ticks": ""
            },
            "colorscale": [
             [
              0.0,
              "#0d0887"
             ],
             [
              0.1111111111111111,
              "#46039f"
             ],
             [
              0.2222222222222222,
              "#7201a8"
             ],
             [
              0.3333333333333333,
              "#9c179e"
             ],
             [
              0.4444444444444444,
              "#bd3786"
             ],
             [
              0.5555555555555556,
              "#d8576b"
             ],
             [
              0.6666666666666666,
              "#ed7953"
             ],
             [
              0.7777777777777778,
              "#fb9f3a"
             ],
             [
              0.8888888888888888,
              "#fdca26"
             ],
             [
              1.0,
              "#f0f921"
             ]
            ]
           }
          ],
          "mesh3d": [
           {
            "type": "mesh3d",
            "colorbar": {
             "outlinewidth": 0,
             "ticks": ""
            }
           }
          ],
          "scatter": [
           {
            "marker": {
             "line": {
              "color": "#283442"
             }
            },
            "type": "scatter"
           }
          ],
          "parcoords": [
           {
            "type": "parcoords",
            "line": {
             "colorbar": {
              "outlinewidth": 0,
              "ticks": ""
             }
            }
           }
          ],
          "scatterpolargl": [
           {
            "type": "scatterpolargl",
            "marker": {
             "colorbar": {
              "outlinewidth": 0,
              "ticks": ""
             }
            }
           }
          ],
          "bar": [
           {
            "error_x": {
             "color": "#f2f5fa"
            },
            "error_y": {
             "color": "#f2f5fa"
            },
            "marker": {
             "line": {
              "color": "rgb(17,17,17)",
              "width": 0.5
             },
             "pattern": {
              "fillmode": "overlay",
              "size": 10,
              "solidity": 0.2
             }
            },
            "type": "bar"
           }
          ],
          "scattergeo": [
           {
            "type": "scattergeo",
            "marker": {
             "colorbar": {
              "outlinewidth": 0,
              "ticks": ""
             }
            }
           }
          ],
          "scatterpolar": [
           {
            "type": "scatterpolar",
            "marker": {
             "colorbar": {
              "outlinewidth": 0,
              "ticks": ""
             }
            }
           }
          ],
          "histogram": [
           {
            "marker": {
             "pattern": {
              "fillmode": "overlay",
              "size": 10,
              "solidity": 0.2
             }
            },
            "type": "histogram"
           }
          ],
          "scattergl": [
           {
            "marker": {
             "line": {
              "color": "#283442"
             }
            },
            "type": "scattergl"
           }
          ],
          "scatter3d": [
           {
            "type": "scatter3d",
            "line": {
             "colorbar": {
              "outlinewidth": 0,
              "ticks": ""
             }
            },
            "marker": {
             "colorbar": {
              "outlinewidth": 0,
              "ticks": ""
             }
            }
           }
          ],
          "scattermap": [
           {
            "type": "scattermap",
            "marker": {
             "colorbar": {
              "outlinewidth": 0,
              "ticks": ""
             }
            }
           }
          ],
          "scattermapbox": [
           {
            "type": "scattermapbox",
            "marker": {
             "colorbar": {
              "outlinewidth": 0,
              "ticks": ""
             }
            }
           }
          ],
          "scatterternary": [
           {
            "type": "scatterternary",
            "marker": {
             "colorbar": {
              "outlinewidth": 0,
              "ticks": ""
             }
            }
           }
          ],
          "scattercarpet": [
           {
            "type": "scattercarpet",
            "marker": {
             "colorbar": {
              "outlinewidth": 0,
              "ticks": ""
             }
            }
           }
          ],
          "carpet": [
           {
            "aaxis": {
             "endlinecolor": "#A2B1C6",
             "gridcolor": "#506784",
             "linecolor": "#506784",
             "minorgridcolor": "#506784",
             "startlinecolor": "#A2B1C6"
            },
            "baxis": {
             "endlinecolor": "#A2B1C6",
             "gridcolor": "#506784",
             "linecolor": "#506784",
             "minorgridcolor": "#506784",
             "startlinecolor": "#A2B1C6"
            },
            "type": "carpet"
           }
          ],
          "table": [
           {
            "cells": {
             "fill": {
              "color": "#506784"
             },
             "line": {
              "color": "rgb(17,17,17)"
             }
            },
            "header": {
             "fill": {
              "color": "#2a3f5f"
             },
             "line": {
              "color": "rgb(17,17,17)"
             }
            },
            "type": "table"
           }
          ],
          "barpolar": [
           {
            "marker": {
             "line": {
              "color": "rgb(17,17,17)",
              "width": 0.5
             },
             "pattern": {
              "fillmode": "overlay",
              "size": 10,
              "solidity": 0.2
             }
            },
            "type": "barpolar"
           }
          ],
          "pie": [
           {
            "automargin": true,
            "type": "pie"
           }
          ]
         },
         "layout": {
          "autotypenumbers": "strict",
          "colorway": [
           "#636efa",
           "#EF553B",
           "#00cc96",
           "#ab63fa",
           "#FFA15A",
           "#19d3f3",
           "#FF6692",
           "#B6E880",
           "#FF97FF",
           "#FECB52"
          ],
          "font": {
           "color": "#f2f5fa"
          },
          "hovermode": "closest",
          "hoverlabel": {
           "align": "left"
          },
          "paper_bgcolor": "rgb(17,17,17)",
          "plot_bgcolor": "rgb(17,17,17)",
          "polar": {
           "bgcolor": "rgb(17,17,17)",
           "angularaxis": {
            "gridcolor": "#506784",
            "linecolor": "#506784",
            "ticks": ""
           },
           "radialaxis": {
            "gridcolor": "#506784",
            "linecolor": "#506784",
            "ticks": ""
           }
          },
          "ternary": {
           "bgcolor": "rgb(17,17,17)",
           "aaxis": {
            "gridcolor": "#506784",
            "linecolor": "#506784",
            "ticks": ""
           },
           "baxis": {
            "gridcolor": "#506784",
            "linecolor": "#506784",
            "ticks": ""
           },
           "caxis": {
            "gridcolor": "#506784",
            "linecolor": "#506784",
            "ticks": ""
           }
          },
          "coloraxis": {
           "colorbar": {
            "outlinewidth": 0,
            "ticks": ""
           }
          },
          "colorscale": {
           "sequential": [
            [
             0.0,
             "#0d0887"
            ],
            [
             0.1111111111111111,
             "#46039f"
            ],
            [
             0.2222222222222222,
             "#7201a8"
            ],
            [
             0.3333333333333333,
             "#9c179e"
            ],
            [
             0.4444444444444444,
             "#bd3786"
            ],
            [
             0.5555555555555556,
             "#d8576b"
            ],
            [
             0.6666666666666666,
             "#ed7953"
            ],
            [
             0.7777777777777778,
             "#fb9f3a"
            ],
            [
             0.8888888888888888,
             "#fdca26"
            ],
            [
             1.0,
             "#f0f921"
            ]
           ],
           "sequentialminus": [
            [
             0.0,
             "#0d0887"
            ],
            [
             0.1111111111111111,
             "#46039f"
            ],
            [
             0.2222222222222222,
             "#7201a8"
            ],
            [
             0.3333333333333333,
             "#9c179e"
            ],
            [
             0.4444444444444444,
             "#bd3786"
            ],
            [
             0.5555555555555556,
             "#d8576b"
            ],
            [
             0.6666666666666666,
             "#ed7953"
            ],
            [
             0.7777777777777778,
             "#fb9f3a"
            ],
            [
             0.8888888888888888,
             "#fdca26"
            ],
            [
             1.0,
             "#f0f921"
            ]
           ],
           "diverging": [
            [
             0,
             "#8e0152"
            ],
            [
             0.1,
             "#c51b7d"
            ],
            [
             0.2,
             "#de77ae"
            ],
            [
             0.3,
             "#f1b6da"
            ],
            [
             0.4,
             "#fde0ef"
            ],
            [
             0.5,
             "#f7f7f7"
            ],
            [
             0.6,
             "#e6f5d0"
            ],
            [
             0.7,
             "#b8e186"
            ],
            [
             0.8,
             "#7fbc41"
            ],
            [
             0.9,
             "#4d9221"
            ],
            [
             1,
             "#276419"
            ]
           ]
          },
          "xaxis": {
           "gridcolor": "#283442",
           "linecolor": "#506784",
           "ticks": "",
           "title": {
            "standoff": 15
           },
           "zerolinecolor": "#283442",
           "automargin": true,
           "zerolinewidth": 2
          },
          "yaxis": {
           "gridcolor": "#283442",
           "linecolor": "#506784",
           "ticks": "",
           "title": {
            "standoff": 15
           },
           "zerolinecolor": "#283442",
           "automargin": true,
           "zerolinewidth": 2
          },
          "scene": {
           "xaxis": {
            "backgroundcolor": "rgb(17,17,17)",
            "gridcolor": "#506784",
            "linecolor": "#506784",
            "showbackground": true,
            "ticks": "",
            "zerolinecolor": "#C8D4E3",
            "gridwidth": 2
           },
           "yaxis": {
            "backgroundcolor": "rgb(17,17,17)",
            "gridcolor": "#506784",
            "linecolor": "#506784",
            "showbackground": true,
            "ticks": "",
            "zerolinecolor": "#C8D4E3",
            "gridwidth": 2
           },
           "zaxis": {
            "backgroundcolor": "rgb(17,17,17)",
            "gridcolor": "#506784",
            "linecolor": "#506784",
            "showbackground": true,
            "ticks": "",
            "zerolinecolor": "#C8D4E3",
            "gridwidth": 2
           }
          },
          "shapedefaults": {
           "line": {
            "color": "#f2f5fa"
           }
          },
          "annotationdefaults": {
           "arrowcolor": "#f2f5fa",
           "arrowhead": 0,
           "arrowwidth": 1
          },
          "geo": {
           "bgcolor": "rgb(17,17,17)",
           "landcolor": "rgb(17,17,17)",
           "subunitcolor": "#506784",
           "showland": true,
           "showlakes": true,
           "lakecolor": "rgb(17,17,17)"
          },
          "title": {
           "x": 0.05
          },
          "updatemenudefaults": {
           "bgcolor": "#506784",
           "borderwidth": 0
          },
          "sliderdefaults": {
           "bgcolor": "#C8D4E3",
           "borderwidth": 1,
           "bordercolor": "rgb(17,17,17)",
           "tickwidth": 0
          },
          "mapbox": {
           "style": "dark"
          }
         }
        },
        "geo": {
         "domain": {
          "x": [
           0.0,
           1.0
          ],
          "y": [
           0.0,
           1.0
          ]
         },
         "center": {},
         "projection": {
          "type": "orthographic"
         }
        },
        "coloraxis": {
         "colorbar": {
          "title": {
           "text": "GDP Per Capita (Current US$)"
          }
         },
         "colorscale": [
          [
           0.0,
           "#440154"
          ],
          [
           0.1111111111111111,
           "#482878"
          ],
          [
           0.2222222222222222,
           "#3e4989"
          ],
          [
           0.3333333333333333,
           "#31688e"
          ],
          [
           0.4444444444444444,
           "#26828e"
          ],
          [
           0.5555555555555556,
           "#1f9e89"
          ],
          [
           0.6666666666666666,
           "#35b779"
          ],
          [
           0.7777777777777778,
           "#6ece58"
          ],
          [
           0.8888888888888888,
           "#b5de2b"
          ],
          [
           1.0,
           "#fde725"
          ]
         ]
        },
        "legend": {
         "tracegroupgap": 0
        },
        "title": {
         "text": "Total Population in 2023"
        }
       },
       "config": {
        "plotlyServerURL": "https://plot.ly"
       }
      }
     },
     "metadata": {},
     "output_type": "display_data"
    }
   ],
   "execution_count": 8
  },
  {
   "metadata": {
    "ExecuteTime": {
     "end_time": "2025-07-14T11:14:07.139202Z",
     "start_time": "2025-07-14T11:14:07.062486Z"
    }
   },
   "cell_type": "code",
   "source": [
    "# fetch data of world bank total population and gdp per capita for the year 2023\n",
    "import wbdata\n",
    "import pandas as pd\n",
    "import plotly.express as px\n",
    "import wbdata\n",
    "import datetime\n",
    "\n",
    "# Define the indicator for population (SP.POP.TOTL)\n",
    "indicator = {\n",
    "    'SP.POP.TOTL': 'total_population',\n",
    "    'NY.GDP.PCAP.CD': 'gdp_per_capita',\n",
    "    # net migration\n",
    "    'SM.POP.NETM': 'net_migration',\n",
    "             }\n",
    "\n",
    "# Define countries (India and Pakistan)\n",
    "countries = ['IN', 'PK', 'BD', 'LK', 'AF']  # 'IN' for India, 'PK' for Pakistan\n",
    "\n",
    "# Fetch data\n",
    "data = wbdata.get_dataframe(indicator,\n",
    "                            country=countries,\n",
    "                            )\n",
    "\n",
    "# Reset index to convert it into a DataFrame\n",
    "data.reset_index(inplace=True)\n",
    "\n",
    "# Rename columns for clarity\n",
    "data.rename(columns={'country': 'Country', 'date': 'Year'}, inplace=True)\n",
    "\n",
    "# Ensure Year column is numeric\n",
    "data['Year'] = pd.to_numeric(data['Year'])\n",
    "\n",
    "# Filter data between 1960 and 2023\n",
    "df = data[(data['Year'] <= 2023) & (data['Year'] >= 1960)]\n",
    "df.sample(5, random_state=42)\n",
    "# sort the data by Year\n",
    "df.sort_values(by='Year', inplace=True)\n",
    "# make choropleth map of total population using plotly\n",
    "fig = px.choropleth(df,\n",
    "                    animation_frame=\"Year\",\n",
    "                    locations=\"Country\",\n",
    "                    locationmode='country names',\n",
    "                    color=\"gdp_per_capita\",\n",
    "                    hover_name=\"Country\",\n",
    "                    color_continuous_scale=px.colors.sequential.Viridis, # 'Viridis',\n",
    "                    title=\"Total Population in 2023\",\n",
    "                    labels={'gdp_per_capita': 'GDP Per Capita (Current US$)'}\n",
    "                    )\n",
    "# update the plot type to orthographic\n",
    "# fig.update_geos(projection_type=\"orthographic\") # 'natural earth', 'equirectangular', 'orthographic', 'mercator', 'miller', 'robinson', 'eckert4', 'azimuthal equal area', 'azimuthal equidistant', 'conic equal area', 'conic conformal', 'conic equidistant', 'gnomonic', 'stereographic', 'mollweide', 'hammer', 'transverse mercator', 'albers usa', 'winkel tripel', 'aitoff', 'sinusoidal'\n",
    "fig.show()"
   ],
   "id": "f63e28e4fd92df21",
   "outputs": [
    {
     "name": "stderr",
     "output_type": "stream",
     "text": [
      "/var/folders/_n/z_w0t0b966z1tkdx_06dpz940000gn/T/ipykernel_4849/2455552430.py:37: SettingWithCopyWarning:\n",
      "\n",
      "\n",
      "A value is trying to be set on a copy of a slice from a DataFrame\n",
      "\n",
      "See the caveats in the documentation: https://pandas.pydata.org/pandas-docs/stable/user_guide/indexing.html#returning-a-view-versus-a-copy\n",
      "\n"
     ]
    },
    {
     "data": {
      "application/vnd.plotly.v1+json": {
       "data": [
        {
         "coloraxis": "coloraxis",
         "geo": "geo",
         "hovertemplate": "<b>%{hovertext}</b><br><br>Year=1960<br>Country=%{location}<br>GDP Per Capita (Current US$)=%{z}<extra></extra>",
         "hovertext": [
          "Pakistan",
          "Bangladesh",
          "India",
          "Sri Lanka",
          "Afghanistan"
         ],
         "locationmode": "country names",
         "locations": [
          "Pakistan",
          "Bangladesh",
          "India",
          "Sri Lanka",
          "Afghanistan"
         ],
         "name": "",
         "z": {
          "dtype": "f8",
          "bdata": "Da7B2oqBVEDE0cU/zZ5UQIMEViKzO1VA1QDN67c9YkAAAAAAAAD4fw=="
         },
         "type": "choropleth"
        }
       ],
       "layout": {
        "template": {
         "data": {
          "histogram2dcontour": [
           {
            "type": "histogram2dcontour",
            "colorbar": {
             "outlinewidth": 0,
             "ticks": ""
            },
            "colorscale": [
             [
              0.0,
              "#0d0887"
             ],
             [
              0.1111111111111111,
              "#46039f"
             ],
             [
              0.2222222222222222,
              "#7201a8"
             ],
             [
              0.3333333333333333,
              "#9c179e"
             ],
             [
              0.4444444444444444,
              "#bd3786"
             ],
             [
              0.5555555555555556,
              "#d8576b"
             ],
             [
              0.6666666666666666,
              "#ed7953"
             ],
             [
              0.7777777777777778,
              "#fb9f3a"
             ],
             [
              0.8888888888888888,
              "#fdca26"
             ],
             [
              1.0,
              "#f0f921"
             ]
            ]
           }
          ],
          "choropleth": [
           {
            "type": "choropleth",
            "colorbar": {
             "outlinewidth": 0,
             "ticks": ""
            }
           }
          ],
          "histogram2d": [
           {
            "type": "histogram2d",
            "colorbar": {
             "outlinewidth": 0,
             "ticks": ""
            },
            "colorscale": [
             [
              0.0,
              "#0d0887"
             ],
             [
              0.1111111111111111,
              "#46039f"
             ],
             [
              0.2222222222222222,
              "#7201a8"
             ],
             [
              0.3333333333333333,
              "#9c179e"
             ],
             [
              0.4444444444444444,
              "#bd3786"
             ],
             [
              0.5555555555555556,
              "#d8576b"
             ],
             [
              0.6666666666666666,
              "#ed7953"
             ],
             [
              0.7777777777777778,
              "#fb9f3a"
             ],
             [
              0.8888888888888888,
              "#fdca26"
             ],
             [
              1.0,
              "#f0f921"
             ]
            ]
           }
          ],
          "heatmap": [
           {
            "type": "heatmap",
            "colorbar": {
             "outlinewidth": 0,
             "ticks": ""
            },
            "colorscale": [
             [
              0.0,
              "#0d0887"
             ],
             [
              0.1111111111111111,
              "#46039f"
             ],
             [
              0.2222222222222222,
              "#7201a8"
             ],
             [
              0.3333333333333333,
              "#9c179e"
             ],
             [
              0.4444444444444444,
              "#bd3786"
             ],
             [
              0.5555555555555556,
              "#d8576b"
             ],
             [
              0.6666666666666666,
              "#ed7953"
             ],
             [
              0.7777777777777778,
              "#fb9f3a"
             ],
             [
              0.8888888888888888,
              "#fdca26"
             ],
             [
              1.0,
              "#f0f921"
             ]
            ]
           }
          ],
          "contourcarpet": [
           {
            "type": "contourcarpet",
            "colorbar": {
             "outlinewidth": 0,
             "ticks": ""
            }
           }
          ],
          "contour": [
           {
            "type": "contour",
            "colorbar": {
             "outlinewidth": 0,
             "ticks": ""
            },
            "colorscale": [
             [
              0.0,
              "#0d0887"
             ],
             [
              0.1111111111111111,
              "#46039f"
             ],
             [
              0.2222222222222222,
              "#7201a8"
             ],
             [
              0.3333333333333333,
              "#9c179e"
             ],
             [
              0.4444444444444444,
              "#bd3786"
             ],
             [
              0.5555555555555556,
              "#d8576b"
             ],
             [
              0.6666666666666666,
              "#ed7953"
             ],
             [
              0.7777777777777778,
              "#fb9f3a"
             ],
             [
              0.8888888888888888,
              "#fdca26"
             ],
             [
              1.0,
              "#f0f921"
             ]
            ]
           }
          ],
          "surface": [
           {
            "type": "surface",
            "colorbar": {
             "outlinewidth": 0,
             "ticks": ""
            },
            "colorscale": [
             [
              0.0,
              "#0d0887"
             ],
             [
              0.1111111111111111,
              "#46039f"
             ],
             [
              0.2222222222222222,
              "#7201a8"
             ],
             [
              0.3333333333333333,
              "#9c179e"
             ],
             [
              0.4444444444444444,
              "#bd3786"
             ],
             [
              0.5555555555555556,
              "#d8576b"
             ],
             [
              0.6666666666666666,
              "#ed7953"
             ],
             [
              0.7777777777777778,
              "#fb9f3a"
             ],
             [
              0.8888888888888888,
              "#fdca26"
             ],
             [
              1.0,
              "#f0f921"
             ]
            ]
           }
          ],
          "mesh3d": [
           {
            "type": "mesh3d",
            "colorbar": {
             "outlinewidth": 0,
             "ticks": ""
            }
           }
          ],
          "scatter": [
           {
            "marker": {
             "line": {
              "color": "#283442"
             }
            },
            "type": "scatter"
           }
          ],
          "parcoords": [
           {
            "type": "parcoords",
            "line": {
             "colorbar": {
              "outlinewidth": 0,
              "ticks": ""
             }
            }
           }
          ],
          "scatterpolargl": [
           {
            "type": "scatterpolargl",
            "marker": {
             "colorbar": {
              "outlinewidth": 0,
              "ticks": ""
             }
            }
           }
          ],
          "bar": [
           {
            "error_x": {
             "color": "#f2f5fa"
            },
            "error_y": {
             "color": "#f2f5fa"
            },
            "marker": {
             "line": {
              "color": "rgb(17,17,17)",
              "width": 0.5
             },
             "pattern": {
              "fillmode": "overlay",
              "size": 10,
              "solidity": 0.2
             }
            },
            "type": "bar"
           }
          ],
          "scattergeo": [
           {
            "type": "scattergeo",
            "marker": {
             "colorbar": {
              "outlinewidth": 0,
              "ticks": ""
             }
            }
           }
          ],
          "scatterpolar": [
           {
            "type": "scatterpolar",
            "marker": {
             "colorbar": {
              "outlinewidth": 0,
              "ticks": ""
             }
            }
           }
          ],
          "histogram": [
           {
            "marker": {
             "pattern": {
              "fillmode": "overlay",
              "size": 10,
              "solidity": 0.2
             }
            },
            "type": "histogram"
           }
          ],
          "scattergl": [
           {
            "marker": {
             "line": {
              "color": "#283442"
             }
            },
            "type": "scattergl"
           }
          ],
          "scatter3d": [
           {
            "type": "scatter3d",
            "line": {
             "colorbar": {
              "outlinewidth": 0,
              "ticks": ""
             }
            },
            "marker": {
             "colorbar": {
              "outlinewidth": 0,
              "ticks": ""
             }
            }
           }
          ],
          "scattermap": [
           {
            "type": "scattermap",
            "marker": {
             "colorbar": {
              "outlinewidth": 0,
              "ticks": ""
             }
            }
           }
          ],
          "scattermapbox": [
           {
            "type": "scattermapbox",
            "marker": {
             "colorbar": {
              "outlinewidth": 0,
              "ticks": ""
             }
            }
           }
          ],
          "scatterternary": [
           {
            "type": "scatterternary",
            "marker": {
             "colorbar": {
              "outlinewidth": 0,
              "ticks": ""
             }
            }
           }
          ],
          "scattercarpet": [
           {
            "type": "scattercarpet",
            "marker": {
             "colorbar": {
              "outlinewidth": 0,
              "ticks": ""
             }
            }
           }
          ],
          "carpet": [
           {
            "aaxis": {
             "endlinecolor": "#A2B1C6",
             "gridcolor": "#506784",
             "linecolor": "#506784",
             "minorgridcolor": "#506784",
             "startlinecolor": "#A2B1C6"
            },
            "baxis": {
             "endlinecolor": "#A2B1C6",
             "gridcolor": "#506784",
             "linecolor": "#506784",
             "minorgridcolor": "#506784",
             "startlinecolor": "#A2B1C6"
            },
            "type": "carpet"
           }
          ],
          "table": [
           {
            "cells": {
             "fill": {
              "color": "#506784"
             },
             "line": {
              "color": "rgb(17,17,17)"
             }
            },
            "header": {
             "fill": {
              "color": "#2a3f5f"
             },
             "line": {
              "color": "rgb(17,17,17)"
             }
            },
            "type": "table"
           }
          ],
          "barpolar": [
           {
            "marker": {
             "line": {
              "color": "rgb(17,17,17)",
              "width": 0.5
             },
             "pattern": {
              "fillmode": "overlay",
              "size": 10,
              "solidity": 0.2
             }
            },
            "type": "barpolar"
           }
          ],
          "pie": [
           {
            "automargin": true,
            "type": "pie"
           }
          ]
         },
         "layout": {
          "autotypenumbers": "strict",
          "colorway": [
           "#636efa",
           "#EF553B",
           "#00cc96",
           "#ab63fa",
           "#FFA15A",
           "#19d3f3",
           "#FF6692",
           "#B6E880",
           "#FF97FF",
           "#FECB52"
          ],
          "font": {
           "color": "#f2f5fa"
          },
          "hovermode": "closest",
          "hoverlabel": {
           "align": "left"
          },
          "paper_bgcolor": "rgb(17,17,17)",
          "plot_bgcolor": "rgb(17,17,17)",
          "polar": {
           "bgcolor": "rgb(17,17,17)",
           "angularaxis": {
            "gridcolor": "#506784",
            "linecolor": "#506784",
            "ticks": ""
           },
           "radialaxis": {
            "gridcolor": "#506784",
            "linecolor": "#506784",
            "ticks": ""
           }
          },
          "ternary": {
           "bgcolor": "rgb(17,17,17)",
           "aaxis": {
            "gridcolor": "#506784",
            "linecolor": "#506784",
            "ticks": ""
           },
           "baxis": {
            "gridcolor": "#506784",
            "linecolor": "#506784",
            "ticks": ""
           },
           "caxis": {
            "gridcolor": "#506784",
            "linecolor": "#506784",
            "ticks": ""
           }
          },
          "coloraxis": {
           "colorbar": {
            "outlinewidth": 0,
            "ticks": ""
           }
          },
          "colorscale": {
           "sequential": [
            [
             0.0,
             "#0d0887"
            ],
            [
             0.1111111111111111,
             "#46039f"
            ],
            [
             0.2222222222222222,
             "#7201a8"
            ],
            [
             0.3333333333333333,
             "#9c179e"
            ],
            [
             0.4444444444444444,
             "#bd3786"
            ],
            [
             0.5555555555555556,
             "#d8576b"
            ],
            [
             0.6666666666666666,
             "#ed7953"
            ],
            [
             0.7777777777777778,
             "#fb9f3a"
            ],
            [
             0.8888888888888888,
             "#fdca26"
            ],
            [
             1.0,
             "#f0f921"
            ]
           ],
           "sequentialminus": [
            [
             0.0,
             "#0d0887"
            ],
            [
             0.1111111111111111,
             "#46039f"
            ],
            [
             0.2222222222222222,
             "#7201a8"
            ],
            [
             0.3333333333333333,
             "#9c179e"
            ],
            [
             0.4444444444444444,
             "#bd3786"
            ],
            [
             0.5555555555555556,
             "#d8576b"
            ],
            [
             0.6666666666666666,
             "#ed7953"
            ],
            [
             0.7777777777777778,
             "#fb9f3a"
            ],
            [
             0.8888888888888888,
             "#fdca26"
            ],
            [
             1.0,
             "#f0f921"
            ]
           ],
           "diverging": [
            [
             0,
             "#8e0152"
            ],
            [
             0.1,
             "#c51b7d"
            ],
            [
             0.2,
             "#de77ae"
            ],
            [
             0.3,
             "#f1b6da"
            ],
            [
             0.4,
             "#fde0ef"
            ],
            [
             0.5,
             "#f7f7f7"
            ],
            [
             0.6,
             "#e6f5d0"
            ],
            [
             0.7,
             "#b8e186"
            ],
            [
             0.8,
             "#7fbc41"
            ],
            [
             0.9,
             "#4d9221"
            ],
            [
             1,
             "#276419"
            ]
           ]
          },
          "xaxis": {
           "gridcolor": "#283442",
           "linecolor": "#506784",
           "ticks": "",
           "title": {
            "standoff": 15
           },
           "zerolinecolor": "#283442",
           "automargin": true,
           "zerolinewidth": 2
          },
          "yaxis": {
           "gridcolor": "#283442",
           "linecolor": "#506784",
           "ticks": "",
           "title": {
            "standoff": 15
           },
           "zerolinecolor": "#283442",
           "automargin": true,
           "zerolinewidth": 2
          },
          "scene": {
           "xaxis": {
            "backgroundcolor": "rgb(17,17,17)",
            "gridcolor": "#506784",
            "linecolor": "#506784",
            "showbackground": true,
            "ticks": "",
            "zerolinecolor": "#C8D4E3",
            "gridwidth": 2
           },
           "yaxis": {
            "backgroundcolor": "rgb(17,17,17)",
            "gridcolor": "#506784",
            "linecolor": "#506784",
            "showbackground": true,
            "ticks": "",
            "zerolinecolor": "#C8D4E3",
            "gridwidth": 2
           },
           "zaxis": {
            "backgroundcolor": "rgb(17,17,17)",
            "gridcolor": "#506784",
            "linecolor": "#506784",
            "showbackground": true,
            "ticks": "",
            "zerolinecolor": "#C8D4E3",
            "gridwidth": 2
           }
          },
          "shapedefaults": {
           "line": {
            "color": "#f2f5fa"
           }
          },
          "annotationdefaults": {
           "arrowcolor": "#f2f5fa",
           "arrowhead": 0,
           "arrowwidth": 1
          },
          "geo": {
           "bgcolor": "rgb(17,17,17)",
           "landcolor": "rgb(17,17,17)",
           "subunitcolor": "#506784",
           "showland": true,
           "showlakes": true,
           "lakecolor": "rgb(17,17,17)"
          },
          "title": {
           "x": 0.05
          },
          "updatemenudefaults": {
           "bgcolor": "#506784",
           "borderwidth": 0
          },
          "sliderdefaults": {
           "bgcolor": "#C8D4E3",
           "borderwidth": 1,
           "bordercolor": "rgb(17,17,17)",
           "tickwidth": 0
          },
          "mapbox": {
           "style": "dark"
          }
         }
        },
        "geo": {
         "domain": {
          "x": [
           0.0,
           1.0
          ],
          "y": [
           0.0,
           1.0
          ]
         },
         "center": {}
        },
        "coloraxis": {
         "colorbar": {
          "title": {
           "text": "GDP Per Capita (Current US$)"
          }
         },
         "colorscale": [
          [
           0.0,
           "#440154"
          ],
          [
           0.1111111111111111,
           "#482878"
          ],
          [
           0.2222222222222222,
           "#3e4989"
          ],
          [
           0.3333333333333333,
           "#31688e"
          ],
          [
           0.4444444444444444,
           "#26828e"
          ],
          [
           0.5555555555555556,
           "#1f9e89"
          ],
          [
           0.6666666666666666,
           "#35b779"
          ],
          [
           0.7777777777777778,
           "#6ece58"
          ],
          [
           0.8888888888888888,
           "#b5de2b"
          ],
          [
           1.0,
           "#fde725"
          ]
         ]
        },
        "legend": {
         "tracegroupgap": 0
        },
        "title": {
         "text": "Total Population in 2023"
        },
        "updatemenus": [
         {
          "buttons": [
           {
            "args": [
             null,
             {
              "frame": {
               "duration": 500,
               "redraw": true
              },
              "mode": "immediate",
              "fromcurrent": true,
              "transition": {
               "duration": 500,
               "easing": "linear"
              }
             }
            ],
            "label": "&#9654;",
            "method": "animate"
           },
           {
            "args": [
             [
              null
             ],
             {
              "frame": {
               "duration": 0,
               "redraw": true
              },
              "mode": "immediate",
              "fromcurrent": true,
              "transition": {
               "duration": 0,
               "easing": "linear"
              }
             }
            ],
            "label": "&#9724;",
            "method": "animate"
           }
          ],
          "direction": "left",
          "pad": {
           "r": 10,
           "t": 70
          },
          "showactive": false,
          "type": "buttons",
          "x": 0.1,
          "xanchor": "right",
          "y": 0,
          "yanchor": "top"
         }
        ],
        "sliders": [
         {
          "active": 0,
          "currentvalue": {
           "prefix": "Year="
          },
          "len": 0.9,
          "pad": {
           "b": 10,
           "t": 60
          },
          "steps": [
           {
            "args": [
             [
              "1960"
             ],
             {
              "frame": {
               "duration": 0,
               "redraw": true
              },
              "mode": "immediate",
              "fromcurrent": true,
              "transition": {
               "duration": 0,
               "easing": "linear"
              }
             }
            ],
            "label": "1960",
            "method": "animate"
           },
           {
            "args": [
             [
              "1961"
             ],
             {
              "frame": {
               "duration": 0,
               "redraw": true
              },
              "mode": "immediate",
              "fromcurrent": true,
              "transition": {
               "duration": 0,
               "easing": "linear"
              }
             }
            ],
            "label": "1961",
            "method": "animate"
           },
           {
            "args": [
             [
              "1962"
             ],
             {
              "frame": {
               "duration": 0,
               "redraw": true
              },
              "mode": "immediate",
              "fromcurrent": true,
              "transition": {
               "duration": 0,
               "easing": "linear"
              }
             }
            ],
            "label": "1962",
            "method": "animate"
           },
           {
            "args": [
             [
              "1963"
             ],
             {
              "frame": {
               "duration": 0,
               "redraw": true
              },
              "mode": "immediate",
              "fromcurrent": true,
              "transition": {
               "duration": 0,
               "easing": "linear"
              }
             }
            ],
            "label": "1963",
            "method": "animate"
           },
           {
            "args": [
             [
              "1964"
             ],
             {
              "frame": {
               "duration": 0,
               "redraw": true
              },
              "mode": "immediate",
              "fromcurrent": true,
              "transition": {
               "duration": 0,
               "easing": "linear"
              }
             }
            ],
            "label": "1964",
            "method": "animate"
           },
           {
            "args": [
             [
              "1965"
             ],
             {
              "frame": {
               "duration": 0,
               "redraw": true
              },
              "mode": "immediate",
              "fromcurrent": true,
              "transition": {
               "duration": 0,
               "easing": "linear"
              }
             }
            ],
            "label": "1965",
            "method": "animate"
           },
           {
            "args": [
             [
              "1966"
             ],
             {
              "frame": {
               "duration": 0,
               "redraw": true
              },
              "mode": "immediate",
              "fromcurrent": true,
              "transition": {
               "duration": 0,
               "easing": "linear"
              }
             }
            ],
            "label": "1966",
            "method": "animate"
           },
           {
            "args": [
             [
              "1967"
             ],
             {
              "frame": {
               "duration": 0,
               "redraw": true
              },
              "mode": "immediate",
              "fromcurrent": true,
              "transition": {
               "duration": 0,
               "easing": "linear"
              }
             }
            ],
            "label": "1967",
            "method": "animate"
           },
           {
            "args": [
             [
              "1968"
             ],
             {
              "frame": {
               "duration": 0,
               "redraw": true
              },
              "mode": "immediate",
              "fromcurrent": true,
              "transition": {
               "duration": 0,
               "easing": "linear"
              }
             }
            ],
            "label": "1968",
            "method": "animate"
           },
           {
            "args": [
             [
              "1969"
             ],
             {
              "frame": {
               "duration": 0,
               "redraw": true
              },
              "mode": "immediate",
              "fromcurrent": true,
              "transition": {
               "duration": 0,
               "easing": "linear"
              }
             }
            ],
            "label": "1969",
            "method": "animate"
           },
           {
            "args": [
             [
              "1970"
             ],
             {
              "frame": {
               "duration": 0,
               "redraw": true
              },
              "mode": "immediate",
              "fromcurrent": true,
              "transition": {
               "duration": 0,
               "easing": "linear"
              }
             }
            ],
            "label": "1970",
            "method": "animate"
           },
           {
            "args": [
             [
              "1971"
             ],
             {
              "frame": {
               "duration": 0,
               "redraw": true
              },
              "mode": "immediate",
              "fromcurrent": true,
              "transition": {
               "duration": 0,
               "easing": "linear"
              }
             }
            ],
            "label": "1971",
            "method": "animate"
           },
           {
            "args": [
             [
              "1972"
             ],
             {
              "frame": {
               "duration": 0,
               "redraw": true
              },
              "mode": "immediate",
              "fromcurrent": true,
              "transition": {
               "duration": 0,
               "easing": "linear"
              }
             }
            ],
            "label": "1972",
            "method": "animate"
           },
           {
            "args": [
             [
              "1973"
             ],
             {
              "frame": {
               "duration": 0,
               "redraw": true
              },
              "mode": "immediate",
              "fromcurrent": true,
              "transition": {
               "duration": 0,
               "easing": "linear"
              }
             }
            ],
            "label": "1973",
            "method": "animate"
           },
           {
            "args": [
             [
              "1974"
             ],
             {
              "frame": {
               "duration": 0,
               "redraw": true
              },
              "mode": "immediate",
              "fromcurrent": true,
              "transition": {
               "duration": 0,
               "easing": "linear"
              }
             }
            ],
            "label": "1974",
            "method": "animate"
           },
           {
            "args": [
             [
              "1975"
             ],
             {
              "frame": {
               "duration": 0,
               "redraw": true
              },
              "mode": "immediate",
              "fromcurrent": true,
              "transition": {
               "duration": 0,
               "easing": "linear"
              }
             }
            ],
            "label": "1975",
            "method": "animate"
           },
           {
            "args": [
             [
              "1976"
             ],
             {
              "frame": {
               "duration": 0,
               "redraw": true
              },
              "mode": "immediate",
              "fromcurrent": true,
              "transition": {
               "duration": 0,
               "easing": "linear"
              }
             }
            ],
            "label": "1976",
            "method": "animate"
           },
           {
            "args": [
             [
              "1977"
             ],
             {
              "frame": {
               "duration": 0,
               "redraw": true
              },
              "mode": "immediate",
              "fromcurrent": true,
              "transition": {
               "duration": 0,
               "easing": "linear"
              }
             }
            ],
            "label": "1977",
            "method": "animate"
           },
           {
            "args": [
             [
              "1978"
             ],
             {
              "frame": {
               "duration": 0,
               "redraw": true
              },
              "mode": "immediate",
              "fromcurrent": true,
              "transition": {
               "duration": 0,
               "easing": "linear"
              }
             }
            ],
            "label": "1978",
            "method": "animate"
           },
           {
            "args": [
             [
              "1979"
             ],
             {
              "frame": {
               "duration": 0,
               "redraw": true
              },
              "mode": "immediate",
              "fromcurrent": true,
              "transition": {
               "duration": 0,
               "easing": "linear"
              }
             }
            ],
            "label": "1979",
            "method": "animate"
           },
           {
            "args": [
             [
              "1980"
             ],
             {
              "frame": {
               "duration": 0,
               "redraw": true
              },
              "mode": "immediate",
              "fromcurrent": true,
              "transition": {
               "duration": 0,
               "easing": "linear"
              }
             }
            ],
            "label": "1980",
            "method": "animate"
           },
           {
            "args": [
             [
              "1981"
             ],
             {
              "frame": {
               "duration": 0,
               "redraw": true
              },
              "mode": "immediate",
              "fromcurrent": true,
              "transition": {
               "duration": 0,
               "easing": "linear"
              }
             }
            ],
            "label": "1981",
            "method": "animate"
           },
           {
            "args": [
             [
              "1982"
             ],
             {
              "frame": {
               "duration": 0,
               "redraw": true
              },
              "mode": "immediate",
              "fromcurrent": true,
              "transition": {
               "duration": 0,
               "easing": "linear"
              }
             }
            ],
            "label": "1982",
            "method": "animate"
           },
           {
            "args": [
             [
              "1983"
             ],
             {
              "frame": {
               "duration": 0,
               "redraw": true
              },
              "mode": "immediate",
              "fromcurrent": true,
              "transition": {
               "duration": 0,
               "easing": "linear"
              }
             }
            ],
            "label": "1983",
            "method": "animate"
           },
           {
            "args": [
             [
              "1984"
             ],
             {
              "frame": {
               "duration": 0,
               "redraw": true
              },
              "mode": "immediate",
              "fromcurrent": true,
              "transition": {
               "duration": 0,
               "easing": "linear"
              }
             }
            ],
            "label": "1984",
            "method": "animate"
           },
           {
            "args": [
             [
              "1985"
             ],
             {
              "frame": {
               "duration": 0,
               "redraw": true
              },
              "mode": "immediate",
              "fromcurrent": true,
              "transition": {
               "duration": 0,
               "easing": "linear"
              }
             }
            ],
            "label": "1985",
            "method": "animate"
           },
           {
            "args": [
             [
              "1986"
             ],
             {
              "frame": {
               "duration": 0,
               "redraw": true
              },
              "mode": "immediate",
              "fromcurrent": true,
              "transition": {
               "duration": 0,
               "easing": "linear"
              }
             }
            ],
            "label": "1986",
            "method": "animate"
           },
           {
            "args": [
             [
              "1987"
             ],
             {
              "frame": {
               "duration": 0,
               "redraw": true
              },
              "mode": "immediate",
              "fromcurrent": true,
              "transition": {
               "duration": 0,
               "easing": "linear"
              }
             }
            ],
            "label": "1987",
            "method": "animate"
           },
           {
            "args": [
             [
              "1988"
             ],
             {
              "frame": {
               "duration": 0,
               "redraw": true
              },
              "mode": "immediate",
              "fromcurrent": true,
              "transition": {
               "duration": 0,
               "easing": "linear"
              }
             }
            ],
            "label": "1988",
            "method": "animate"
           },
           {
            "args": [
             [
              "1989"
             ],
             {
              "frame": {
               "duration": 0,
               "redraw": true
              },
              "mode": "immediate",
              "fromcurrent": true,
              "transition": {
               "duration": 0,
               "easing": "linear"
              }
             }
            ],
            "label": "1989",
            "method": "animate"
           },
           {
            "args": [
             [
              "1990"
             ],
             {
              "frame": {
               "duration": 0,
               "redraw": true
              },
              "mode": "immediate",
              "fromcurrent": true,
              "transition": {
               "duration": 0,
               "easing": "linear"
              }
             }
            ],
            "label": "1990",
            "method": "animate"
           },
           {
            "args": [
             [
              "1991"
             ],
             {
              "frame": {
               "duration": 0,
               "redraw": true
              },
              "mode": "immediate",
              "fromcurrent": true,
              "transition": {
               "duration": 0,
               "easing": "linear"
              }
             }
            ],
            "label": "1991",
            "method": "animate"
           },
           {
            "args": [
             [
              "1992"
             ],
             {
              "frame": {
               "duration": 0,
               "redraw": true
              },
              "mode": "immediate",
              "fromcurrent": true,
              "transition": {
               "duration": 0,
               "easing": "linear"
              }
             }
            ],
            "label": "1992",
            "method": "animate"
           },
           {
            "args": [
             [
              "1993"
             ],
             {
              "frame": {
               "duration": 0,
               "redraw": true
              },
              "mode": "immediate",
              "fromcurrent": true,
              "transition": {
               "duration": 0,
               "easing": "linear"
              }
             }
            ],
            "label": "1993",
            "method": "animate"
           },
           {
            "args": [
             [
              "1994"
             ],
             {
              "frame": {
               "duration": 0,
               "redraw": true
              },
              "mode": "immediate",
              "fromcurrent": true,
              "transition": {
               "duration": 0,
               "easing": "linear"
              }
             }
            ],
            "label": "1994",
            "method": "animate"
           },
           {
            "args": [
             [
              "1995"
             ],
             {
              "frame": {
               "duration": 0,
               "redraw": true
              },
              "mode": "immediate",
              "fromcurrent": true,
              "transition": {
               "duration": 0,
               "easing": "linear"
              }
             }
            ],
            "label": "1995",
            "method": "animate"
           },
           {
            "args": [
             [
              "1996"
             ],
             {
              "frame": {
               "duration": 0,
               "redraw": true
              },
              "mode": "immediate",
              "fromcurrent": true,
              "transition": {
               "duration": 0,
               "easing": "linear"
              }
             }
            ],
            "label": "1996",
            "method": "animate"
           },
           {
            "args": [
             [
              "1997"
             ],
             {
              "frame": {
               "duration": 0,
               "redraw": true
              },
              "mode": "immediate",
              "fromcurrent": true,
              "transition": {
               "duration": 0,
               "easing": "linear"
              }
             }
            ],
            "label": "1997",
            "method": "animate"
           },
           {
            "args": [
             [
              "1998"
             ],
             {
              "frame": {
               "duration": 0,
               "redraw": true
              },
              "mode": "immediate",
              "fromcurrent": true,
              "transition": {
               "duration": 0,
               "easing": "linear"
              }
             }
            ],
            "label": "1998",
            "method": "animate"
           },
           {
            "args": [
             [
              "1999"
             ],
             {
              "frame": {
               "duration": 0,
               "redraw": true
              },
              "mode": "immediate",
              "fromcurrent": true,
              "transition": {
               "duration": 0,
               "easing": "linear"
              }
             }
            ],
            "label": "1999",
            "method": "animate"
           },
           {
            "args": [
             [
              "2000"
             ],
             {
              "frame": {
               "duration": 0,
               "redraw": true
              },
              "mode": "immediate",
              "fromcurrent": true,
              "transition": {
               "duration": 0,
               "easing": "linear"
              }
             }
            ],
            "label": "2000",
            "method": "animate"
           },
           {
            "args": [
             [
              "2001"
             ],
             {
              "frame": {
               "duration": 0,
               "redraw": true
              },
              "mode": "immediate",
              "fromcurrent": true,
              "transition": {
               "duration": 0,
               "easing": "linear"
              }
             }
            ],
            "label": "2001",
            "method": "animate"
           },
           {
            "args": [
             [
              "2002"
             ],
             {
              "frame": {
               "duration": 0,
               "redraw": true
              },
              "mode": "immediate",
              "fromcurrent": true,
              "transition": {
               "duration": 0,
               "easing": "linear"
              }
             }
            ],
            "label": "2002",
            "method": "animate"
           },
           {
            "args": [
             [
              "2003"
             ],
             {
              "frame": {
               "duration": 0,
               "redraw": true
              },
              "mode": "immediate",
              "fromcurrent": true,
              "transition": {
               "duration": 0,
               "easing": "linear"
              }
             }
            ],
            "label": "2003",
            "method": "animate"
           },
           {
            "args": [
             [
              "2004"
             ],
             {
              "frame": {
               "duration": 0,
               "redraw": true
              },
              "mode": "immediate",
              "fromcurrent": true,
              "transition": {
               "duration": 0,
               "easing": "linear"
              }
             }
            ],
            "label": "2004",
            "method": "animate"
           },
           {
            "args": [
             [
              "2005"
             ],
             {
              "frame": {
               "duration": 0,
               "redraw": true
              },
              "mode": "immediate",
              "fromcurrent": true,
              "transition": {
               "duration": 0,
               "easing": "linear"
              }
             }
            ],
            "label": "2005",
            "method": "animate"
           },
           {
            "args": [
             [
              "2006"
             ],
             {
              "frame": {
               "duration": 0,
               "redraw": true
              },
              "mode": "immediate",
              "fromcurrent": true,
              "transition": {
               "duration": 0,
               "easing": "linear"
              }
             }
            ],
            "label": "2006",
            "method": "animate"
           },
           {
            "args": [
             [
              "2007"
             ],
             {
              "frame": {
               "duration": 0,
               "redraw": true
              },
              "mode": "immediate",
              "fromcurrent": true,
              "transition": {
               "duration": 0,
               "easing": "linear"
              }
             }
            ],
            "label": "2007",
            "method": "animate"
           },
           {
            "args": [
             [
              "2008"
             ],
             {
              "frame": {
               "duration": 0,
               "redraw": true
              },
              "mode": "immediate",
              "fromcurrent": true,
              "transition": {
               "duration": 0,
               "easing": "linear"
              }
             }
            ],
            "label": "2008",
            "method": "animate"
           },
           {
            "args": [
             [
              "2009"
             ],
             {
              "frame": {
               "duration": 0,
               "redraw": true
              },
              "mode": "immediate",
              "fromcurrent": true,
              "transition": {
               "duration": 0,
               "easing": "linear"
              }
             }
            ],
            "label": "2009",
            "method": "animate"
           },
           {
            "args": [
             [
              "2010"
             ],
             {
              "frame": {
               "duration": 0,
               "redraw": true
              },
              "mode": "immediate",
              "fromcurrent": true,
              "transition": {
               "duration": 0,
               "easing": "linear"
              }
             }
            ],
            "label": "2010",
            "method": "animate"
           },
           {
            "args": [
             [
              "2011"
             ],
             {
              "frame": {
               "duration": 0,
               "redraw": true
              },
              "mode": "immediate",
              "fromcurrent": true,
              "transition": {
               "duration": 0,
               "easing": "linear"
              }
             }
            ],
            "label": "2011",
            "method": "animate"
           },
           {
            "args": [
             [
              "2012"
             ],
             {
              "frame": {
               "duration": 0,
               "redraw": true
              },
              "mode": "immediate",
              "fromcurrent": true,
              "transition": {
               "duration": 0,
               "easing": "linear"
              }
             }
            ],
            "label": "2012",
            "method": "animate"
           },
           {
            "args": [
             [
              "2013"
             ],
             {
              "frame": {
               "duration": 0,
               "redraw": true
              },
              "mode": "immediate",
              "fromcurrent": true,
              "transition": {
               "duration": 0,
               "easing": "linear"
              }
             }
            ],
            "label": "2013",
            "method": "animate"
           },
           {
            "args": [
             [
              "2014"
             ],
             {
              "frame": {
               "duration": 0,
               "redraw": true
              },
              "mode": "immediate",
              "fromcurrent": true,
              "transition": {
               "duration": 0,
               "easing": "linear"
              }
             }
            ],
            "label": "2014",
            "method": "animate"
           },
           {
            "args": [
             [
              "2015"
             ],
             {
              "frame": {
               "duration": 0,
               "redraw": true
              },
              "mode": "immediate",
              "fromcurrent": true,
              "transition": {
               "duration": 0,
               "easing": "linear"
              }
             }
            ],
            "label": "2015",
            "method": "animate"
           },
           {
            "args": [
             [
              "2016"
             ],
             {
              "frame": {
               "duration": 0,
               "redraw": true
              },
              "mode": "immediate",
              "fromcurrent": true,
              "transition": {
               "duration": 0,
               "easing": "linear"
              }
             }
            ],
            "label": "2016",
            "method": "animate"
           },
           {
            "args": [
             [
              "2017"
             ],
             {
              "frame": {
               "duration": 0,
               "redraw": true
              },
              "mode": "immediate",
              "fromcurrent": true,
              "transition": {
               "duration": 0,
               "easing": "linear"
              }
             }
            ],
            "label": "2017",
            "method": "animate"
           },
           {
            "args": [
             [
              "2018"
             ],
             {
              "frame": {
               "duration": 0,
               "redraw": true
              },
              "mode": "immediate",
              "fromcurrent": true,
              "transition": {
               "duration": 0,
               "easing": "linear"
              }
             }
            ],
            "label": "2018",
            "method": "animate"
           },
           {
            "args": [
             [
              "2019"
             ],
             {
              "frame": {
               "duration": 0,
               "redraw": true
              },
              "mode": "immediate",
              "fromcurrent": true,
              "transition": {
               "duration": 0,
               "easing": "linear"
              }
             }
            ],
            "label": "2019",
            "method": "animate"
           },
           {
            "args": [
             [
              "2020"
             ],
             {
              "frame": {
               "duration": 0,
               "redraw": true
              },
              "mode": "immediate",
              "fromcurrent": true,
              "transition": {
               "duration": 0,
               "easing": "linear"
              }
             }
            ],
            "label": "2020",
            "method": "animate"
           },
           {
            "args": [
             [
              "2021"
             ],
             {
              "frame": {
               "duration": 0,
               "redraw": true
              },
              "mode": "immediate",
              "fromcurrent": true,
              "transition": {
               "duration": 0,
               "easing": "linear"
              }
             }
            ],
            "label": "2021",
            "method": "animate"
           },
           {
            "args": [
             [
              "2022"
             ],
             {
              "frame": {
               "duration": 0,
               "redraw": true
              },
              "mode": "immediate",
              "fromcurrent": true,
              "transition": {
               "duration": 0,
               "easing": "linear"
              }
             }
            ],
            "label": "2022",
            "method": "animate"
           },
           {
            "args": [
             [
              "2023"
             ],
             {
              "frame": {
               "duration": 0,
               "redraw": true
              },
              "mode": "immediate",
              "fromcurrent": true,
              "transition": {
               "duration": 0,
               "easing": "linear"
              }
             }
            ],
            "label": "2023",
            "method": "animate"
           }
          ],
          "x": 0.1,
          "xanchor": "left",
          "y": 0,
          "yanchor": "top"
         }
        ]
       },
       "frames": [
        {
         "data": [
          {
           "coloraxis": "coloraxis",
           "geo": "geo",
           "hovertemplate": "<b>%{hovertext}</b><br><br>Year=1960<br>Country=%{location}<br>GDP Per Capita (Current US$)=%{z}<extra></extra>",
           "hovertext": [
            "Pakistan",
            "Bangladesh",
            "India",
            "Sri Lanka",
            "Afghanistan"
           ],
           "locationmode": "country names",
           "locations": [
            "Pakistan",
            "Bangladesh",
            "India",
            "Sri Lanka",
            "Afghanistan"
           ],
           "name": "",
           "z": {
            "dtype": "f8",
            "bdata": "Da7B2oqBVEDE0cU/zZ5UQIMEViKzO1VA1QDN67c9YkAAAAAAAAD4fw=="
           },
           "type": "choropleth"
          }
         ],
         "name": "1960"
        },
        {
         "data": [
          {
           "coloraxis": "coloraxis",
           "geo": "geo",
           "hovertemplate": "<b>%{hovertext}</b><br><br>Year=1961<br>Country=%{location}<br>GDP Per Capita (Current US$)=%{z}<extra></extra>",
           "hovertext": [
            "Bangladesh",
            "India",
            "Afghanistan",
            "Sri Lanka",
            "Pakistan"
           ],
           "locationmode": "country names",
           "locations": [
            "Bangladesh",
            "India",
            "Afghanistan",
            "Sri Lanka",
            "Pakistan"
           ],
           "name": "",
           "z": {
            "dtype": "f8",
            "bdata": "lNjRypaXVkBhMRCqpfZVQAAAAAAAAPh/AvnmitQ8YkC8fzzhx/FVQA=="
           },
           "type": "choropleth"
          }
         ],
         "name": "1961"
        },
        {
         "data": [
          {
           "coloraxis": "coloraxis",
           "geo": "geo",
           "hovertemplate": "<b>%{hovertext}</b><br><br>Year=1962<br>Country=%{location}<br>GDP Per Capita (Current US$)=%{z}<extra></extra>",
           "hovertext": [
            "Pakistan",
            "India",
            "Bangladesh",
            "Afghanistan",
            "Sri Lanka"
           ],
           "locationmode": "country names",
           "locations": [
            "Pakistan",
            "India",
            "Bangladesh",
            "Afghanistan",
            "Sri Lanka"
           ],
           "name": "",
           "z": {
            "dtype": "f8",
            "bdata": "23RNwkBgVkAWXCkezAxXQGafmRO5JVdAAAAAAAAA+H+DsxwoQ6xhQA=="
           },
           "type": "choropleth"
          }
         ],
         "name": "1962"
        },
        {
         "data": [
          {
           "coloraxis": "coloraxis",
           "geo": "geo",
           "hovertemplate": "<b>%{hovertext}</b><br><br>Year=1963<br>Country=%{location}<br>GDP Per Capita (Current US$)=%{z}<extra></extra>",
           "hovertext": [
            "India",
            "Afghanistan",
            "Bangladesh",
            "Pakistan",
            "Sri Lanka"
           ],
           "locationmode": "country names",
           "locations": [
            "India",
            "Afghanistan",
            "Bangladesh",
            "Pakistan",
            "Sri Lanka"
           ],
           "name": "",
           "z": {
            "dtype": "f8",
            "bdata": "4lZsY9fbWUAAAAAAAAD4f9seFakciVdAhlWl5qdpV0Ad3f+cjNZdQA=="
           },
           "type": "choropleth"
          }
         ],
         "name": "1963"
        },
        {
         "data": [
          {
           "coloraxis": "coloraxis",
           "geo": "geo",
           "hovertemplate": "<b>%{hovertext}</b><br><br>Year=1964<br>Country=%{location}<br>GDP Per Capita (Current US$)=%{z}<extra></extra>",
           "hovertext": [
            "Pakistan",
            "India",
            "Bangladesh",
            "Sri Lanka",
            "Afghanistan"
           ],
           "locationmode": "country names",
           "locations": [
            "Pakistan",
            "India",
            "Bangladesh",
            "Sri Lanka",
            "Afghanistan"
           ],
           "name": "",
           "z": {
            "dtype": "f8",
            "bdata": "Vt9VxWydWUDRLATDz3ZdQMX4v9QCJVdAzfQ/mUa8XkAAAAAAAAD4fw=="
           },
           "type": "choropleth"
          }
         ],
         "name": "1964"
        },
        {
         "data": [
          {
           "coloraxis": "coloraxis",
           "geo": "geo",
           "hovertemplate": "<b>%{hovertext}</b><br><br>Year=1965<br>Country=%{location}<br>GDP Per Capita (Current US$)=%{z}<extra></extra>",
           "hovertext": [
            "Bangladesh",
            "India",
            "Afghanistan",
            "Pakistan",
            "Sri Lanka"
           ],
           "locationmode": "country names",
           "locations": [
            "Bangladesh",
            "India",
            "Afghanistan",
            "Pakistan",
            "Sri Lanka"
           ],
           "name": "",
           "z": {
            "dtype": "f8",
            "bdata": "4OtaWKqmWECZMIlMiGBeQAAAAAAAAPh/XDEiHE1kXECdwza9JHJjQA=="
           },
           "type": "choropleth"
          }
         ],
         "name": "1965"
        },
        {
         "data": [
          {
           "coloraxis": "coloraxis",
           "geo": "geo",
           "hovertemplate": "<b>%{hovertext}</b><br><br>Year=1966<br>Country=%{location}<br>GDP Per Capita (Current US$)=%{z}<extra></extra>",
           "hovertext": [
            "Afghanistan",
            "Sri Lanka",
            "Pakistan",
            "Bangladesh",
            "India"
           ],
           "locationmode": "country names",
           "locations": [
            "Afghanistan",
            "Sri Lanka",
            "Pakistan",
            "Bangladesh",
            "India"
           ],
           "name": "",
           "z": {
            "dtype": "f8",
            "bdata": "AAAAAAAA+H9kqpedZJNjQELtXrutjl5A9bSg8QIbWkAea3fBxcFWQA=="
           },
           "type": "choropleth"
          }
         ],
         "name": "1966"
        },
        {
         "data": [
          {
           "coloraxis": "coloraxis",
           "geo": "geo",
           "hovertemplate": "<b>%{hovertext}</b><br><br>Year=1967<br>Country=%{location}<br>GDP Per Capita (Current US$)=%{z}<extra></extra>",
           "hovertext": [
            "Afghanistan",
            "Sri Lanka",
            "Bangladesh",
            "India",
            "Pakistan"
           ],
           "locationmode": "country names",
           "locations": [
            "Afghanistan",
            "Sri Lanka",
            "Bangladesh",
            "India",
            "Pakistan"
           ],
           "name": "",
           "z": {
            "dtype": "f8",
            "bdata": "AAAAAAAA+H9spsgwb0lkQEw0o7NujVxA8gm/gbB/WEApWOheGOZgQA=="
           },
           "type": "choropleth"
          }
         ],
         "name": "1967"
        },
        {
         "data": [
          {
           "coloraxis": "coloraxis",
           "geo": "geo",
           "hovertemplate": "<b>%{hovertext}</b><br><br>Year=1968<br>Country=%{location}<br>GDP Per Capita (Current US$)=%{z}<extra></extra>",
           "hovertext": [
            "Afghanistan",
            "Sri Lanka",
            "Pakistan",
            "India",
            "Bangladesh"
           ],
           "locationmode": "country names",
           "locations": [
            "Afghanistan",
            "Sri Lanka",
            "Pakistan",
            "India",
            "Bangladesh"
           ],
           "name": "",
           "z": {
            "dtype": "f8",
            "bdata": "AAAAAAAA+H+v1ubOmi9jQCwBgqXdsWFAObcKp6JjWUCHirjTjppcQA=="
           },
           "type": "choropleth"
          }
         ],
         "name": "1968"
        },
        {
         "data": [
          {
           "coloraxis": "coloraxis",
           "geo": "geo",
           "hovertemplate": "<b>%{hovertext}</b><br><br>Year=1969<br>Country=%{location}<br>GDP Per Capita (Current US$)=%{z}<extra></extra>",
           "hovertext": [
            "Pakistan",
            "Bangladesh",
            "Sri Lanka",
            "Afghanistan",
            "India"
           ],
           "locationmode": "country names",
           "locations": [
            "Pakistan",
            "Bangladesh",
            "Sri Lanka",
            "Afghanistan",
            "India"
           ],
           "name": "",
           "z": {
            "dtype": "f8",
            "bdata": "t/sSlOmQYkD8guAGV3hfQAnZMhppc2RAAAAAAAAA+H/IPqMNkl5bQA=="
           },
           "type": "choropleth"
          }
         ],
         "name": "1969"
        },
        {
         "data": [
          {
           "coloraxis": "coloraxis",
           "geo": "geo",
           "hovertemplate": "<b>%{hovertext}</b><br><br>Year=1970<br>Country=%{location}<br>GDP Per Capita (Current US$)=%{z}<extra></extra>",
           "hovertext": [
            "Pakistan",
            "Afghanistan",
            "India",
            "Bangladesh",
            "Sri Lanka"
           ],
           "locationmode": "country names",
           "locations": [
            "Pakistan",
            "Afghanistan",
            "India",
            "Bangladesh",
            "Sri Lanka"
           ],
           "name": "",
           "z": {
            "dtype": "f8",
            "bdata": "m2aPnC/VZEAAAAAAAAD4f+R2LpC9llxAL8tzLPtGYEC8XWBJ01xnQA=="
           },
           "type": "choropleth"
          }
         ],
         "name": "1970"
        },
        {
         "data": [
          {
           "coloraxis": "coloraxis",
           "geo": "geo",
           "hovertemplate": "<b>%{hovertext}</b><br><br>Year=1971<br>Country=%{location}<br>GDP Per Capita (Current US$)=%{z}<extra></extra>",
           "hovertext": [
            "Bangladesh",
            "Sri Lanka",
            "Pakistan",
            "Afghanistan",
            "India"
           ],
           "locationmode": "country names",
           "locations": [
            "Bangladesh",
            "Sri Lanka",
            "Pakistan",
            "Afghanistan",
            "India"
           ],
           "name": "",
           "z": {
            "dtype": "f8",
            "bdata": "PAiQcywiX0BHpcl9WJhnQFdGmGaEjmVAAAAAAAAA+H9vbpjgjiteQA=="
           },
           "type": "choropleth"
          }
         ],
         "name": "1971"
        },
        {
         "data": [
          {
           "coloraxis": "coloraxis",
           "geo": "geo",
           "hovertemplate": "<b>%{hovertext}</b><br><br>Year=1972<br>Country=%{location}<br>GDP Per Capita (Current US$)=%{z}<extra></extra>",
           "hovertext": [
            "Afghanistan",
            "Sri Lanka",
            "Bangladesh",
            "India",
            "Pakistan"
           ],
           "locationmode": "country names",
           "locations": [
            "Afghanistan",
            "Sri Lanka",
            "Bangladesh",
            "India",
            "Pakistan"
           ],
           "name": "",
           "z": {
            "dtype": "f8",
            "bdata": "AAAAAAAA+H8hWJKoQOxoQAwLcF6F8VVAY0cZP1NRX0Bd33sDXoJiQA=="
           },
           "type": "choropleth"
          }
         ],
         "name": "1972"
        },
        {
         "data": [
          {
           "coloraxis": "coloraxis",
           "geo": "geo",
           "hovertemplate": "<b>%{hovertext}</b><br><br>Year=1973<br>Country=%{location}<br>GDP Per Capita (Current US$)=%{z}<extra></extra>",
           "hovertext": [
            "Sri Lanka",
            "India",
            "Afghanistan",
            "Bangladesh",
            "Pakistan"
           ],
           "locationmode": "country names",
           "locations": [
            "Sri Lanka",
            "India",
            "Afghanistan",
            "Bangladesh",
            "Pakistan"
           ],
           "name": "",
           "z": {
            "dtype": "f8",
            "bdata": "vQl/mXKFa0BXLlsXMVJiQAAAAAAAAPh/Iq1NQEVsW0DVgC6F32BYQA=="
           },
           "type": "choropleth"
          }
         ],
         "name": "1973"
        },
        {
         "data": [
          {
           "coloraxis": "coloraxis",
           "geo": "geo",
           "hovertemplate": "<b>%{hovertext}</b><br><br>Year=1974<br>Country=%{location}<br>GDP Per Capita (Current US$)=%{z}<extra></extra>",
           "hovertext": [
            "Pakistan",
            "India",
            "Afghanistan",
            "Bangladesh",
            "Sri Lanka"
           ],
           "locationmode": "country names",
           "locations": [
            "Pakistan",
            "India",
            "Afghanistan",
            "Bangladesh",
            "Sri Lanka"
           ],
           "name": "",
           "z": {
            "dtype": "f8",
            "bdata": "0XUwPiqAYEA2rQyhY9ZkQAAAAAAAAPh/OyJRiZCfZEB4w10baspwQA=="
           },
           "type": "choropleth"
          }
         ],
         "name": "1974"
        },
        {
         "data": [
          {
           "coloraxis": "coloraxis",
           "geo": "geo",
           "hovertemplate": "<b>%{hovertext}</b><br><br>Year=1975<br>Country=%{location}<br>GDP Per Capita (Current US$)=%{z}<extra></extra>",
           "hovertext": [
            "Pakistan",
            "India",
            "Afghanistan",
            "Bangladesh",
            "Sri Lanka"
           ],
           "locationmode": "country names",
           "locations": [
            "Pakistan",
            "India",
            "Afghanistan",
            "Bangladesh",
            "Sri Lanka"
           ],
           "name": "",
           "z": {
            "dtype": "f8",
            "bdata": "OxWYGdE1ZEDRsooyxiJkQAAAAAAAAPh/uA/rcrw5b0Bl9cszJX1xQA=="
           },
           "type": "choropleth"
          }
         ],
         "name": "1975"
        },
        {
         "data": [
          {
           "coloraxis": "coloraxis",
           "geo": "geo",
           "hovertemplate": "<b>%{hovertext}</b><br><br>Year=1976<br>Country=%{location}<br>GDP Per Capita (Current US$)=%{z}<extra></extra>",
           "hovertext": [
            "India",
            "Bangladesh",
            "Sri Lanka",
            "Afghanistan",
            "Pakistan"
           ],
           "locationmode": "country names",
           "locations": [
            "India",
            "Bangladesh",
            "Sri Lanka",
            "Afghanistan",
            "Pakistan"
           ],
           "name": "",
           "z": {
            "dtype": "f8",
            "bdata": "nOJfCdeDZEBQLxTWWqxfQKePbuzSRHBAAAAAAAAA+H9GiKrvgvtmQA=="
           },
           "type": "choropleth"
          }
         ],
         "name": "1976"
        },
        {
         "data": [
          {
           "coloraxis": "coloraxis",
           "geo": "geo",
           "hovertemplate": "<b>%{hovertext}</b><br><br>Year=1977<br>Country=%{location}<br>GDP Per Capita (Current US$)=%{z}<extra></extra>",
           "hovertext": [
            "Pakistan",
            "Afghanistan",
            "Sri Lanka",
            "Bangladesh",
            "India"
           ],
           "locationmode": "country names",
           "locations": [
            "Pakistan",
            "Afghanistan",
            "Sri Lanka",
            "Bangladesh",
            "India"
           ],
           "name": "",
           "z": {
            "dtype": "f8",
            "bdata": "aa9LO7CVaUAAAAAAAAD4f93Q9EViQnJA4gUMP9F4XUCOzkL6vLJnQA=="
           },
           "type": "choropleth"
          }
         ],
         "name": "1977"
        },
        {
         "data": [
          {
           "coloraxis": "coloraxis",
           "geo": "geo",
           "hovertemplate": "<b>%{hovertext}</b><br><br>Year=1978<br>Country=%{location}<br>GDP Per Capita (Current US$)=%{z}<extra></extra>",
           "hovertext": [
            "Bangladesh",
            "Sri Lanka",
            "Pakistan",
            "Afghanistan",
            "India"
           ],
           "locationmode": "country names",
           "locations": [
            "Bangladesh",
            "Sri Lanka",
            "Pakistan",
            "Afghanistan",
            "India"
           ],
           "name": "",
           "z": {
            "dtype": "f8",
            "bdata": "9FNXTGDKY0Bnas4J499nQJoQ8y9gLW1AAAAAAAAA+H/VgnM1cyxqQA=="
           },
           "type": "choropleth"
          }
         ],
         "name": "1978"
        },
        {
         "data": [
          {
           "coloraxis": "coloraxis",
           "geo": "geo",
           "hovertemplate": "<b>%{hovertext}</b><br><br>Year=1979<br>Country=%{location}<br>GDP Per Capita (Current US$)=%{z}<extra></extra>",
           "hovertext": [
            "Bangladesh",
            "Pakistan",
            "Sri Lanka",
            "Afghanistan",
            "India"
           ],
           "locationmode": "country names",
           "locations": [
            "Bangladesh",
            "Pakistan",
            "Sri Lanka",
            "Afghanistan",
            "India"
           ],
           "name": "",
           "z": {
            "dtype": "f8",
            "bdata": "purSvy6kZkDncpspVydvQICrR17N2GxAAAAAAAAA+H+agdZoqX5sQA=="
           },
           "type": "choropleth"
          }
         ],
         "name": "1979"
        },
        {
         "data": [
          {
           "coloraxis": "coloraxis",
           "geo": "geo",
           "hovertemplate": "<b>%{hovertext}</b><br><br>Year=1980<br>Country=%{location}<br>GDP Per Capita (Current US$)=%{z}<extra></extra>",
           "hovertext": [
            "Sri Lanka",
            "Afghanistan",
            "India",
            "Pakistan",
            "Bangladesh"
           ],
           "locationmode": "country names",
           "locations": [
            "Sri Lanka",
            "Afghanistan",
            "India",
            "Pakistan",
            "Bangladesh"
           ],
           "name": "",
           "z": {
            "dtype": "f8",
            "bdata": "VCTYd+LwcEAAAAAAAAD4f6b8+41L8XBAjaOs5y33cUBv0WtAbMJpQA=="
           },
           "type": "choropleth"
          }
         ],
         "name": "1980"
        },
        {
         "data": [
          {
           "coloraxis": "coloraxis",
           "geo": "geo",
           "hovertemplate": "<b>%{hovertext}</b><br><br>Year=1981<br>Country=%{location}<br>GDP Per Capita (Current US$)=%{z}<extra></extra>",
           "hovertext": [
            "Afghanistan",
            "Bangladesh",
            "Pakistan",
            "Sri Lanka",
            "India"
           ],
           "locationmode": "country names",
           "locations": [
            "Afghanistan",
            "Bangladesh",
            "Pakistan",
            "Sri Lanka",
            "India"
           ],
           "name": "",
           "z": {
            "dtype": "f8",
            "bdata": "AAAAAAAA+H+INYl8uQdsQDB+PcQUeHRAdV8CxThHckCrlRnmbS9xQA=="
           },
           "type": "choropleth"
          }
         ],
         "name": "1981"
        },
        {
         "data": [
          {
           "coloraxis": "coloraxis",
           "geo": "geo",
           "hovertemplate": "<b>%{hovertext}</b><br><br>Year=1982<br>Country=%{location}<br>GDP Per Capita (Current US$)=%{z}<extra></extra>",
           "hovertext": [
            "Afghanistan",
            "Bangladesh",
            "India",
            "Pakistan",
            "Sri Lanka"
           ],
           "locationmode": "country names",
           "locations": [
            "Afghanistan",
            "Bangladesh",
            "India",
            "Pakistan",
            "Sri Lanka"
           ],
           "name": "",
           "z": {
            "dtype": "f8",
            "bdata": "AAAAAAAA+H9xDoL6EfNoQEonkfdnanFAiJ8GlzyOdUClb9B4U39zQA=="
           },
           "type": "choropleth"
          }
         ],
         "name": "1982"
        },
        {
         "data": [
          {
           "coloraxis": "coloraxis",
           "geo": "geo",
           "hovertemplate": "<b>%{hovertext}</b><br><br>Year=1983<br>Country=%{location}<br>GDP Per Capita (Current US$)=%{z}<extra></extra>",
           "hovertext": [
            "Afghanistan",
            "Pakistan",
            "Bangladesh",
            "India",
            "Sri Lanka"
           ],
           "locationmode": "country names",
           "locations": [
            "Afghanistan",
            "Pakistan",
            "Bangladesh",
            "India",
            "Sri Lanka"
           ],
           "name": "",
           "z": {
            "dtype": "f8",
            "bdata": "AAAAAAAA+H+so1vjknFzQAzCJeKdFmdAKIRJEv9/ckDi4CGhK/10QA=="
           },
           "type": "choropleth"
          }
         ],
         "name": "1983"
        },
        {
         "data": [
          {
           "coloraxis": "coloraxis",
           "geo": "geo",
           "hovertemplate": "<b>%{hovertext}</b><br><br>Year=1984<br>Country=%{location}<br>GDP Per Capita (Current US$)=%{z}<extra></extra>",
           "hovertext": [
            "Bangladesh",
            "India",
            "Afghanistan",
            "Sri Lanka",
            "Pakistan"
           ],
           "locationmode": "country names",
           "locations": [
            "Bangladesh",
            "India",
            "Afghanistan",
            "Sri Lanka",
            "Pakistan"
           ],
           "name": "",
           "z": {
            "dtype": "f8",
            "bdata": "hUAcsestaEAHkDhCzJBxQAAAAAAAAPh/E+kc9Ol1eEA9XD2uh3V0QA=="
           },
           "type": "choropleth"
          }
         ],
         "name": "1984"
        },
        {
         "data": [
          {
           "coloraxis": "coloraxis",
           "geo": "geo",
           "hovertemplate": "<b>%{hovertext}</b><br><br>Year=1985<br>Country=%{location}<br>GDP Per Capita (Current US$)=%{z}<extra></extra>",
           "hovertext": [
            "India",
            "Pakistan",
            "Afghanistan",
            "Sri Lanka",
            "Bangladesh"
           ],
           "locationmode": "country names",
           "locations": [
            "India",
            "Pakistan",
            "Afghanistan",
            "Sri Lanka",
            "Bangladesh"
           ],
           "name": "",
           "z": {
            "dtype": "f8",
            "bdata": "ZzyqJdrOckCqwO4XBNFzQAAAAAAAAPh/5HW+28gJeEAFMMK3C8drQA=="
           },
           "type": "choropleth"
          }
         ],
         "name": "1985"
        },
        {
         "data": [
          {
           "coloraxis": "coloraxis",
           "geo": "geo",
           "hovertemplate": "<b>%{hovertext}</b><br><br>Year=1986<br>Country=%{location}<br>GDP Per Capita (Current US$)=%{z}<extra></extra>",
           "hovertext": [
            "Sri Lanka",
            "Bangladesh",
            "Pakistan",
            "India",
            "Afghanistan"
           ],
           "locationmode": "country names",
           "locations": [
            "Sri Lanka",
            "Bangladesh",
            "Pakistan",
            "India",
            "Afghanistan"
           ],
           "name": "",
           "z": {
            "dtype": "f8",
            "bdata": "BvwVNKJyeUBUxsGOxIRqQOo/riQkn3NA+Jm6llquc0AAAAAAAAD4fw=="
           },
           "type": "choropleth"
          }
         ],
         "name": "1986"
        },
        {
         "data": [
          {
           "coloraxis": "coloraxis",
           "geo": "geo",
           "hovertemplate": "<b>%{hovertext}</b><br><br>Year=1987<br>Country=%{location}<br>GDP Per Capita (Current US$)=%{z}<extra></extra>",
           "hovertext": [
            "Bangladesh",
            "Sri Lanka",
            "India",
            "Pakistan",
            "Afghanistan"
           ],
           "locationmode": "country names",
           "locations": [
            "Bangladesh",
            "Sri Lanka",
            "India",
            "Pakistan",
            "Afghanistan"
           ],
           "name": "",
           "z": {
            "dtype": "f8",
            "bdata": "/yGtmPzvbEDg8PTHMD16QOP1rnMOj3VA4kX/m9HTc0AAAAAAAAD4fw=="
           },
           "type": "choropleth"
          }
         ],
         "name": "1987"
        },
        {
         "data": [
          {
           "coloraxis": "coloraxis",
           "geo": "geo",
           "hovertemplate": "<b>%{hovertext}</b><br><br>Year=1988<br>Country=%{location}<br>GDP Per Capita (Current US$)=%{z}<extra></extra>",
           "hovertext": [
            "Bangladesh",
            "Afghanistan",
            "Pakistan",
            "India",
            "Sri Lanka"
           ],
           "locationmode": "country names",
           "locations": [
            "Bangladesh",
            "Afghanistan",
            "Pakistan",
            "India",
            "Sri Lanka"
           ],
           "name": "",
           "z": {
            "dtype": "f8",
            "bdata": "vAQoz9j8bkAAAAAAAAD4f2ZLDjWsHXZA/qqjrMBndkBLvEW0PyB7QA=="
           },
           "type": "choropleth"
          }
         ],
         "name": "1988"
        },
        {
         "data": [
          {
           "coloraxis": "coloraxis",
           "geo": "geo",
           "hovertemplate": "<b>%{hovertext}</b><br><br>Year=1989<br>Country=%{location}<br>GDP Per Capita (Current US$)=%{z}<extra></extra>",
           "hovertext": [
            "Afghanistan",
            "Pakistan",
            "Bangladesh",
            "India",
            "Sri Lanka"
           ],
           "locationmode": "country names",
           "locations": [
            "Afghanistan",
            "Pakistan",
            "Bangladesh",
            "India",
            "Sri Lanka"
           ],
           "name": "",
           "z": {
            "dtype": "f8",
            "bdata": "AAAAAAAA+H9uIX9hiFl2QIfzuG4XcHBA0ZqXeaTedUAXwzTaYeB6QA=="
           },
           "type": "choropleth"
          }
         ],
         "name": "1989"
        },
        {
         "data": [
          {
           "coloraxis": "coloraxis",
           "geo": "geo",
           "hovertemplate": "<b>%{hovertext}</b><br><br>Year=1990<br>Country=%{location}<br>GDP Per Capita (Current US$)=%{z}<extra></extra>",
           "hovertext": [
            "India",
            "Bangladesh",
            "Afghanistan",
            "Pakistan",
            "Sri Lanka"
           ],
           "locationmode": "country names",
           "locations": [
            "India",
            "Bangladesh",
            "Afghanistan",
            "Pakistan",
            "Sri Lanka"
           ],
           "name": "",
           "z": {
            "dtype": "f8",
            "bdata": "aQuk/l8xd0AE7WIb3LBxQAAAAAAAAPh/nnHwnkmHdUDs3kJCa7N+QA=="
           },
           "type": "choropleth"
          }
         ],
         "name": "1990"
        },
        {
         "data": [
          {
           "coloraxis": "coloraxis",
           "geo": "geo",
           "hovertemplate": "<b>%{hovertext}</b><br><br>Year=1991<br>Country=%{location}<br>GDP Per Capita (Current US$)=%{z}<extra></extra>",
           "hovertext": [
            "Sri Lanka",
            "Bangladesh",
            "India",
            "Pakistan",
            "Afghanistan"
           ],
           "locationmode": "country names",
           "locations": [
            "Sri Lanka",
            "Bangladesh",
            "India",
            "Pakistan",
            "Afghanistan"
           ],
           "name": "",
           "z": {
            "dtype": "f8",
            "bdata": "NlRnElcSgUCHG28HCgFxQAr2RFUvGXNAjLFBR1HAd0AAAAAAAAD4fw=="
           },
           "type": "choropleth"
          }
         ],
         "name": "1991"
        },
        {
         "data": [
          {
           "coloraxis": "coloraxis",
           "geo": "geo",
           "hovertemplate": "<b>%{hovertext}</b><br><br>Year=1992<br>Country=%{location}<br>GDP Per Capita (Current US$)=%{z}<extra></extra>",
           "hovertext": [
            "Pakistan",
            "Sri Lanka",
            "India",
            "Bangladesh",
            "Afghanistan"
           ],
           "locationmode": "country names",
           "locations": [
            "Pakistan",
            "Sri Lanka",
            "India",
            "Bangladesh",
            "Afghanistan"
           ],
           "name": "",
           "z": {
            "dtype": "f8",
            "bdata": "bkGu2NW6eEB5TE6uPR2CQAOnamjr8nNAYg3i73AXcUAAAAAAAAD4fw=="
           },
           "type": "choropleth"
          }
         ],
         "name": "1992"
        },
        {
         "data": [
          {
           "coloraxis": "coloraxis",
           "geo": "geo",
           "hovertemplate": "<b>%{hovertext}</b><br><br>Year=1993<br>Country=%{location}<br>GDP Per Capita (Current US$)=%{z}<extra></extra>",
           "hovertext": [
            "Sri Lanka",
            "Bangladesh",
            "Pakistan",
            "India",
            "Afghanistan"
           ],
           "locationmode": "country names",
           "locations": [
            "Sri Lanka",
            "Bangladesh",
            "Pakistan",
            "India",
            "Afghanistan"
           ],
           "name": "",
           "z": {
            "dtype": "f8",
            "bdata": "K2On0tr5gkCyZtDLHYxxQFazAtM1fnlA0imYKijuckAAAAAAAAD4fw=="
           },
           "type": "choropleth"
          }
         ],
         "name": "1993"
        },
        {
         "data": [
          {
           "coloraxis": "coloraxis",
           "geo": "geo",
           "hovertemplate": "<b>%{hovertext}</b><br><br>Year=1994<br>Country=%{location}<br>GDP Per Capita (Current US$)=%{z}<extra></extra>",
           "hovertext": [
            "Bangladesh",
            "Sri Lanka",
            "India",
            "Pakistan",
            "Afghanistan"
           ],
           "locationmode": "country names",
           "locations": [
            "Bangladesh",
            "Sri Lanka",
            "India",
            "Pakistan",
            "Afghanistan"
           ],
           "name": "",
           "z": {
            "dtype": "f8",
            "bdata": "idupBKaJcUC5bXzjJDKFQImE9Fe/u3VAodWyekv/eEAAAAAAAAD4fw=="
           },
           "type": "choropleth"
          }
         ],
         "name": "1994"
        },
        {
         "data": [
          {
           "coloraxis": "coloraxis",
           "geo": "geo",
           "hovertemplate": "<b>%{hovertext}</b><br><br>Year=1995<br>Country=%{location}<br>GDP Per Capita (Current US$)=%{z}<extra></extra>",
           "hovertext": [
            "Afghanistan",
            "Sri Lanka",
            "Pakistan",
            "Bangladesh",
            "India"
           ],
           "locationmode": "country names",
           "locations": [
            "Afghanistan",
            "Sri Lanka",
            "Pakistan",
            "Bangladesh",
            "India"
           ],
           "name": "",
           "z": {
            "dtype": "f8",
            "bdata": "AAAAAAAA+H+0+DC/tC6HQOg5t/HNKHxAnvqzwVZXc0C4kgLr0HJ3QA=="
           },
           "type": "choropleth"
          }
         ],
         "name": "1995"
        },
        {
         "data": [
          {
           "coloraxis": "coloraxis",
           "geo": "geo",
           "hovertemplate": "<b>%{hovertext}</b><br><br>Year=1996<br>Country=%{location}<br>GDP Per Capita (Current US$)=%{z}<extra></extra>",
           "hovertext": [
            "Afghanistan",
            "Pakistan",
            "Sri Lanka",
            "India",
            "Bangladesh"
           ],
           "locationmode": "country names",
           "locations": [
            "Afghanistan",
            "Pakistan",
            "Sri Lanka",
            "India",
            "Bangladesh"
           ],
           "name": "",
           "z": {
            "dtype": "f8",
            "bdata": "AAAAAAAA+H+bPUCO8498QERI1vmJQYhAUB/Ugb8QeUBo/2rfrz53QA=="
           },
           "type": "choropleth"
          }
         ],
         "name": "1996"
        },
        {
         "data": [
          {
           "coloraxis": "coloraxis",
           "geo": "geo",
           "hovertemplate": "<b>%{hovertext}</b><br><br>Year=1997<br>Country=%{location}<br>GDP Per Capita (Current US$)=%{z}<extra></extra>",
           "hovertext": [
            "Bangladesh",
            "Sri Lanka",
            "Pakistan",
            "Afghanistan",
            "India"
           ],
           "locationmode": "country names",
           "locations": [
            "Bangladesh",
            "Sri Lanka",
            "Pakistan",
            "Afghanistan",
            "India"
           ],
           "name": "",
           "z": {
            "dtype": "f8",
            "bdata": "8E7fBY+0d0Ci83g6SdiJQOx0wL1+YHtAAAAAAAAA+H/pLC1dpgN6QA=="
           },
           "type": "choropleth"
          }
         ],
         "name": "1997"
        },
        {
         "data": [
          {
           "coloraxis": "coloraxis",
           "geo": "geo",
           "hovertemplate": "<b>%{hovertext}</b><br><br>Year=1998<br>Country=%{location}<br>GDP Per Capita (Current US$)=%{z}<extra></extra>",
           "hovertext": [
            "Sri Lanka",
            "Pakistan",
            "Afghanistan",
            "Bangladesh",
            "India"
           ],
           "locationmode": "country names",
           "locations": [
            "Sri Lanka",
            "Pakistan",
            "Afghanistan",
            "Bangladesh",
            "India"
           ],
           "name": "",
           "z": {
            "dtype": "f8",
            "bdata": "ua36NP+KikD9bJ9YQod6QAAAAAAAAPh/IZxmv94ZeEBaxugEGNp5QA=="
           },
           "type": "choropleth"
          }
         ],
         "name": "1998"
        },
        {
         "data": [
          {
           "coloraxis": "coloraxis",
           "geo": "geo",
           "hovertemplate": "<b>%{hovertext}</b><br><br>Year=1999<br>Country=%{location}<br>GDP Per Capita (Current US$)=%{z}<extra></extra>",
           "hovertext": [
            "Pakistan",
            "Sri Lanka",
            "Bangladesh",
            "Afghanistan",
            "India"
           ],
           "locationmode": "country names",
           "locations": [
            "Pakistan",
            "Sri Lanka",
            "Bangladesh",
            "Afghanistan",
            "India"
           ],
           "name": "",
           "z": {
            "dtype": "f8",
            "bdata": "lFH39PwjekBbRtqsXtOJQPosOuyHQXhAAAAAAAAA+H+xZIwN2Z57QA=="
           },
           "type": "choropleth"
          }
         ],
         "name": "1999"
        },
        {
         "data": [
          {
           "coloraxis": "coloraxis",
           "geo": "geo",
           "hovertemplate": "<b>%{hovertext}</b><br><br>Year=2000<br>Country=%{location}<br>GDP Per Capita (Current US$)=%{z}<extra></extra>",
           "hovertext": [
            "India",
            "Pakistan",
            "Afghanistan",
            "Sri Lanka",
            "Bangladesh"
           ],
           "locationmode": "country names",
           "locations": [
            "India",
            "Pakistan",
            "Afghanistan",
            "Sri Lanka",
            "Bangladesh"
           ],
           "name": "",
           "z": {
            "dtype": "f8",
            "bdata": "J4aS5QCse0A5fgLvtBKEQGotiq7K3WVAINPivq9zikDlcaRPu8p4QA=="
           },
           "type": "choropleth"
          }
         ],
         "name": "2000"
        },
        {
         "data": [
          {
           "coloraxis": "coloraxis",
           "geo": "geo",
           "hovertemplate": "<b>%{hovertext}</b><br><br>Year=2001<br>Country=%{location}<br>GDP Per Capita (Current US$)=%{z}<extra></extra>",
           "hovertext": [
            "Bangladesh",
            "Sri Lanka",
            "Pakistan",
            "India",
            "Afghanistan"
           ],
           "locationmode": "country names",
           "locations": [
            "Bangladesh",
            "Sri Lanka",
            "Pakistan",
            "India",
            "Afghanistan"
           ],
           "name": "",
           "z": {
            "dtype": "f8",
            "bdata": "w7/Kp4CqeEAt5qEqWhyJQD09MhyED4NAbLbj9bklfEBM4H1InlZhQA=="
           },
           "type": "choropleth"
          }
         ],
         "name": "2001"
        },
        {
         "data": [
          {
           "coloraxis": "coloraxis",
           "geo": "geo",
           "hovertemplate": "<b>%{hovertext}</b><br><br>Year=2002<br>Country=%{location}<br>GDP Per Capita (Current US$)=%{z}<extra></extra>",
           "hovertext": [
            "Bangladesh",
            "Sri Lanka",
            "Pakistan",
            "Afghanistan",
            "India"
           ],
           "locationmode": "country names",
           "locations": [
            "Bangladesh",
            "Sri Lanka",
            "Pakistan",
            "Afghanistan",
            "India"
           ],
           "name": "",
           "z": {
            "dtype": "f8",
            "bdata": "tLktyS6eeED292H1fBeKQH9qHa9/v4JA20la5IdeZkDUe+wbZlJ9QA=="
           },
           "type": "choropleth"
          }
         ],
         "name": "2002"
        },
        {
         "data": [
          {
           "coloraxis": "coloraxis",
           "geo": "geo",
           "hovertemplate": "<b>%{hovertext}</b><br><br>Year=2003<br>Country=%{location}<br>GDP Per Capita (Current US$)=%{z}<extra></extra>",
           "hovertext": [
            "India",
            "Bangladesh",
            "Sri Lanka",
            "Pakistan",
            "Afghanistan"
           ],
           "locationmode": "country names",
           "locations": [
            "India",
            "Bangladesh",
            "Sri Lanka",
            "Pakistan",
            "Afghanistan"
           ],
           "name": "",
           "z": {
            "dtype": "f8",
            "bdata": "9DUzIyUBgUCJbZ4d+6t6QGHOxtsOk41ACv52x4gDhUA9vRcu4NtoQA=="
           },
           "type": "choropleth"
          }
         ],
         "name": "2003"
        },
        {
         "data": [
          {
           "coloraxis": "coloraxis",
           "geo": "geo",
           "hovertemplate": "<b>%{hovertext}</b><br><br>Year=2004<br>Country=%{location}<br>GDP Per Capita (Current US$)=%{z}<extra></extra>",
           "hovertext": [
            "India",
            "Bangladesh",
            "Pakistan",
            "Afghanistan",
            "Sri Lanka"
           ],
           "locationmode": "country names",
           "locations": [
            "India",
            "Bangladesh",
            "Pakistan",
            "Afghanistan",
            "Sri Lanka"
           ],
           "name": "",
           "z": {
            "dtype": "f8",
            "bdata": "kiCiExKCg0BgLGUD03l8QEhFdc03H4hAv0E/2m+4a0DnqeKTexKQQA=="
           },
           "type": "choropleth"
          }
         ],
         "name": "2004"
        },
        {
         "data": [
          {
           "coloraxis": "coloraxis",
           "geo": "geo",
           "hovertemplate": "<b>%{hovertext}</b><br><br>Year=2005<br>Country=%{location}<br>GDP Per Capita (Current US$)=%{z}<extra></extra>",
           "hovertext": [
            "Pakistan",
            "Bangladesh",
            "India",
            "Sri Lanka",
            "Afghanistan"
           ],
           "locationmode": "country names",
           "locations": [
            "Pakistan",
            "Bangladesh",
            "India",
            "Sri Lanka",
            "Afghanistan"
           ],
           "name": "",
           "z": {
            "dtype": "f8",
            "bdata": "VpbIefXciUABcAqlXwF+QAmSs5bnM4ZA4F70OeHckkDZ1nhe5cVvQA=="
           },
           "type": "choropleth"
          }
         ],
         "name": "2005"
        },
        {
         "data": [
          {
           "coloraxis": "coloraxis",
           "geo": "geo",
           "hovertemplate": "<b>%{hovertext}</b><br><br>Year=2006<br>Country=%{location}<br>GDP Per Capita (Current US$)=%{z}<extra></extra>",
           "hovertext": [
            "Bangladesh",
            "Pakistan",
            "India",
            "Sri Lanka",
            "Afghanistan"
           ],
           "locationmode": "country names",
           "locations": [
            "Bangladesh",
            "Pakistan",
            "India",
            "Sri Lanka",
            "Afghanistan"
           ],
           "name": "",
           "z": {
            "dtype": "f8",
            "bdata": "TmdPWzWmfkBzhaMP/SaMQEudzclYDYlA10XuZwa2lUA59gQyfyNxQA=="
           },
           "type": "choropleth"
          }
         ],
         "name": "2006"
        },
        {
         "data": [
          {
           "coloraxis": "coloraxis",
           "geo": "geo",
           "hovertemplate": "<b>%{hovertext}</b><br><br>Year=2007<br>Country=%{location}<br>GDP Per Capita (Current US$)=%{z}<extra></extra>",
           "hovertext": [
            "Sri Lanka",
            "Afghanistan",
            "Pakistan",
            "India",
            "Bangladesh"
           ],
           "locationmode": "country names",
           "locations": [
            "Sri Lanka",
            "Afghanistan",
            "Pakistan",
            "India",
            "Bangladesh"
           ],
           "name": "",
           "z": {
            "dtype": "f8",
            "bdata": "H3JRvYmqmEDz6tUHkoN3QCvayo24MI9Aq6ncuxjvj0DuyGfZpM+AQA=="
           },
           "type": "choropleth"
          }
         ],
         "name": "2007"
        },
        {
         "data": [
          {
           "coloraxis": "coloraxis",
           "geo": "geo",
           "hovertemplate": "<b>%{hovertext}</b><br><br>Year=2008<br>Country=%{location}<br>GDP Per Capita (Current US$)=%{z}<extra></extra>",
           "hovertext": [
            "India",
            "Sri Lanka",
            "Afghanistan",
            "Pakistan",
            "Bangladesh"
           ],
           "locationmode": "country names",
           "locations": [
            "India",
            "Sri Lanka",
            "Afghanistan",
            "Pakistan",
            "Bangladesh"
           ],
           "name": "",
           "z": {
            "dtype": "f8",
            "bdata": "sPojHCgEj0D3J7DNVtaeQFWFzFe723dAkaKWSCyskEAWmV8PfyiDQA=="
           },
           "type": "choropleth"
          }
         ],
         "name": "2008"
        },
        {
         "data": [
          {
           "coloraxis": "coloraxis",
           "geo": "geo",
           "hovertemplate": "<b>%{hovertext}</b><br><br>Year=2009<br>Country=%{location}<br>GDP Per Capita (Current US$)=%{z}<extra></extra>",
           "hovertext": [
            "Afghanistan",
            "Pakistan",
            "Bangladesh",
            "Sri Lanka",
            "India"
           ],
           "locationmode": "country names",
           "locations": [
            "Afghanistan",
            "Pakistan",
            "Bangladesh",
            "Sri Lanka",
            "India"
           ],
           "name": "",
           "z": {
            "dtype": "f8",
            "bdata": "QThG+ttAfECLFMH1TR6OQL7qExuxOYVAmdafOaOqn0BWGTaKzBuRQA=="
           },
           "type": "choropleth"
          }
         ],
         "name": "2009"
        },
        {
         "data": [
          {
           "coloraxis": "coloraxis",
           "geo": "geo",
           "hovertemplate": "<b>%{hovertext}</b><br><br>Year=2010<br>Country=%{location}<br>GDP Per Capita (Current US$)=%{z}<extra></extra>",
           "hovertext": [
            "Bangladesh",
            "Sri Lanka",
            "India",
            "Afghanistan",
            "Pakistan"
           ],
           "locationmode": "country names",
           "locations": [
            "Bangladesh",
            "Sri Lanka",
            "India",
            "Afghanistan",
            "Pakistan"
           ],
           "name": "",
           "z": {
            "dtype": "f8",
            "bdata": "vsPeDRWrh0DJNEhPvPClQDzEKNsTDpVA+zPb1/iEgUDBV/zCb9qOQA=="
           },
           "type": "choropleth"
          }
         ],
         "name": "2010"
        },
        {
         "data": [
          {
           "coloraxis": "coloraxis",
           "geo": "geo",
           "hovertemplate": "<b>%{hovertext}</b><br><br>Year=2011<br>Country=%{location}<br>GDP Per Capita (Current US$)=%{z}<extra></extra>",
           "hovertext": [
            "Pakistan",
            "Bangladesh",
            "Sri Lanka",
            "Afghanistan",
            "India"
           ],
           "locationmode": "country names",
           "locations": [
            "Pakistan",
            "Bangladesh",
            "Sri Lanka",
            "Afghanistan",
            "India"
           ],
           "name": "",
           "z": {
            "dtype": "f8",
            "bdata": "ARkbyPCukUDrgg8QsiqKQGVlhivqMalAtb53so71gkAG329Y2JWWQA=="
           },
           "type": "choropleth"
          }
         ],
         "name": "2011"
        },
        {
         "data": [
          {
           "coloraxis": "coloraxis",
           "geo": "geo",
           "hovertemplate": "<b>%{hovertext}</b><br><br>Year=2012<br>Country=%{location}<br>GDP Per Capita (Current US$)=%{z}<extra></extra>",
           "hovertext": [
            "Afghanistan",
            "Bangladesh",
            "India",
            "Sri Lanka",
            "Pakistan"
           ],
           "locationmode": "country names",
           "locations": [
            "Afghanistan",
            "Bangladesh",
            "India",
            "Sri Lanka",
            "Pakistan"
           ],
           "name": "",
           "z": {
            "dtype": "f8",
            "bdata": "DteYSlZbhED8Iw69cd2KQGAbHLlJVZZA4m4hYI3/qUCGClCCddGSQA=="
           },
           "type": "choropleth"
          }
         ],
         "name": "2012"
        },
        {
         "data": [
          {
           "coloraxis": "coloraxis",
           "geo": "geo",
           "hovertemplate": "<b>%{hovertext}</b><br><br>Year=2013<br>Country=%{location}<br>GDP Per Capita (Current US$)=%{z}<extra></extra>",
           "hovertext": [
            "Afghanistan",
            "India",
            "Sri Lanka",
            "Bangladesh",
            "Pakistan"
           ],
           "locationmode": "country names",
           "locations": [
            "Afghanistan",
            "India",
            "Sri Lanka",
            "Bangladesh",
            "Pakistan"
           ],
           "name": "",
           "z": {
            "dtype": "f8",
            "bdata": "m5sFYbLog0CnrQM7YGOWQNgAZFY7Oa1AdTZlmhryjUB25p5tvCWTQA=="
           },
           "type": "choropleth"
          }
         ],
         "name": "2013"
        },
        {
         "data": [
          {
           "coloraxis": "coloraxis",
           "geo": "geo",
           "hovertemplate": "<b>%{hovertext}</b><br><br>Year=2014<br>Country=%{location}<br>GDP Per Capita (Current US$)=%{z}<extra></extra>",
           "hovertext": [
            "Pakistan",
            "Sri Lanka",
            "Afghanistan",
            "Bangladesh",
            "India"
           ],
           "locationmode": "country names",
           "locations": [
            "Pakistan",
            "Sri Lanka",
            "Afghanistan",
            "Bangladesh",
            "India"
           ],
           "name": "",
           "z": {
            "dtype": "f8",
            "bdata": "T5NbIXTKk0DozGaY1gevQF9wVYVwiINA976/FdkZkUAQ1QEtiUeYQA=="
           },
           "type": "choropleth"
          }
         ],
         "name": "2014"
        },
        {
         "data": [
          {
           "coloraxis": "coloraxis",
           "geo": "geo",
           "hovertemplate": "<b>%{hovertext}</b><br><br>Year=2015<br>Country=%{location}<br>GDP Per Capita (Current US$)=%{z}<extra></extra>",
           "hovertext": [
            "Sri Lanka",
            "Pakistan",
            "India",
            "Afghanistan",
            "Bangladesh"
           ],
           "locationmode": "country names",
           "locations": [
            "Sri Lanka",
            "Pakistan",
            "India",
            "Afghanistan",
            "Bangladesh"
           ],
           "name": "",
           "z": {
            "dtype": "f8",
            "bdata": "Hi/ggW6zr0AVcE5+4ZGVQKXwaR3+v5hA+gjRzo6sgUBqEYvAiyGTQA=="
           },
           "type": "choropleth"
          }
         ],
         "name": "2015"
        },
        {
         "data": [
          {
           "coloraxis": "coloraxis",
           "geo": "geo",
           "hovertemplate": "<b>%{hovertext}</b><br><br>Year=2016<br>Country=%{location}<br>GDP Per Capita (Current US$)=%{z}<extra></extra>",
           "hovertext": [
            "India",
            "Afghanistan",
            "Bangladesh",
            "Sri Lanka",
            "Pakistan"
           ],
           "locationmode": "country names",
           "locations": [
            "India",
            "Afghanistan",
            "Bangladesh",
            "Sri Lanka",
            "Pakistan"
           ],
           "name": "",
           "z": {
            "dtype": "f8",
            "bdata": "RkO3JAmumkCC4KRgqFCAQPPMt54ixZlAkd/dIDE1sEAy5ew1xEKWQA=="
           },
           "type": "choropleth"
          }
         ],
         "name": "2016"
        },
        {
         "data": [
          {
           "coloraxis": "coloraxis",
           "geo": "geo",
           "hovertemplate": "<b>%{hovertext}</b><br><br>Year=2017<br>Country=%{location}<br>GDP Per Capita (Current US$)=%{z}<extra></extra>",
           "hovertext": [
            "Sri Lanka",
            "Pakistan",
            "India",
            "Afghanistan",
            "Bangladesh"
           ],
           "locationmode": "country names",
           "locations": [
            "Sri Lanka",
            "Pakistan",
            "India",
            "Afghanistan",
            "Bangladesh"
           ],
           "name": "",
           "z": {
            "dtype": "f8",
            "bdata": "+vRcZuMusUACg7U58LyXQJhe+DFreJ5A7sA9F8JrgEAgbpwwVEycQA=="
           },
           "type": "choropleth"
          }
         ],
         "name": "2017"
        },
        {
         "data": [
          {
           "coloraxis": "coloraxis",
           "geo": "geo",
           "hovertemplate": "<b>%{hovertext}</b><br><br>Year=2018<br>Country=%{location}<br>GDP Per Capita (Current US$)=%{z}<extra></extra>",
           "hovertext": [
            "Pakistan",
            "India",
            "Bangladesh",
            "Afghanistan",
            "Sri Lanka"
           ],
           "locationmode": "country names",
           "locations": [
            "Pakistan",
            "India",
            "Bangladesh",
            "Afghanistan",
            "Sri Lanka"
           ],
           "name": "",
           "z": {
            "dtype": "f8",
            "bdata": "2ZwDQ1qFmEAEizSpBLmeQJk2p5P5tJ5Aq5w/QmW1fkAdUwObjwaxQA=="
           },
           "type": "choropleth"
          }
         ],
         "name": "2018"
        },
        {
         "data": [
          {
           "coloraxis": "coloraxis",
           "geo": "geo",
           "hovertemplate": "<b>%{hovertext}</b><br><br>Year=2019<br>Country=%{location}<br>GDP Per Capita (Current US$)=%{z}<extra></extra>",
           "hovertext": [
            "Bangladesh",
            "India",
            "Afghanistan",
            "Sri Lanka",
            "Pakistan"
           ],
           "locationmode": "country names",
           "locations": [
            "Bangladesh",
            "India",
            "Afghanistan",
            "Sri Lanka",
            "Pakistan"
           ],
           "name": "",
           "z": {
            "dtype": "f8",
            "bdata": "qE2JEpmjoEBUMJ3stuWfQFVfgdujCX9AHo+APOXjr0BRPWjqqrmVQA=="
           },
           "type": "choropleth"
          }
         ],
         "name": "2019"
        },
        {
         "data": [
          {
           "coloraxis": "coloraxis",
           "geo": "geo",
           "hovertemplate": "<b>%{hovertext}</b><br><br>Year=2020<br>Country=%{location}<br>GDP Per Capita (Current US$)=%{z}<extra></extra>",
           "hovertext": [
            "Afghanistan",
            "Bangladesh",
            "Pakistan",
            "Sri Lanka",
            "India"
           ],
           "locationmode": "country names",
           "locations": [
            "Afghanistan",
            "Bangladesh",
            "Pakistan",
            "Sri Lanka",
            "India"
           ],
           "name": "",
           "z": {
            "dtype": "f8",
            "bdata": "VMXBz5fsf0DbkIWas5GhQLn0deOW+ZNAhzCu5zMPrkC2vWmJK8ydQA=="
           },
           "type": "choropleth"
          }
         ],
         "name": "2020"
        },
        {
         "data": [
          {
           "coloraxis": "coloraxis",
           "geo": "geo",
           "hovertemplate": "<b>%{hovertext}</b><br><br>Year=2021<br>Country=%{location}<br>GDP Per Capita (Current US$)=%{z}<extra></extra>",
           "hovertext": [
            "Afghanistan",
            "Bangladesh",
            "Sri Lanka",
            "India",
            "Pakistan"
           ],
           "locationmode": "country names",
           "locations": [
            "Afghanistan",
            "Bangladesh",
            "Sri Lanka",
            "India",
            "Pakistan"
           ],
           "name": "",
           "z": {
            "dtype": "f8",
            "bdata": "HXk2fvBHdkBOAYTHsmWjQARctr/sOa9Aa9i3STp/oUBj/pPiRr2WQA=="
           },
           "type": "choropleth"
          }
         ],
         "name": "2021"
        },
        {
         "data": [
          {
           "coloraxis": "coloraxis",
           "geo": "geo",
           "hovertemplate": "<b>%{hovertext}</b><br><br>Year=2022<br>Country=%{location}<br>GDP Per Capita (Current US$)=%{z}<extra></extra>",
           "hovertext": [
            "Pakistan",
            "Afghanistan",
            "Sri Lanka",
            "India",
            "Bangladesh"
           ],
           "locationmode": "country names",
           "locations": [
            "Pakistan",
            "Afghanistan",
            "Sri Lanka",
            "India",
            "Bangladesh"
           ],
           "name": "",
           "z": {
            "dtype": "f8",
            "bdata": "ov6Sj0oJmECZdI6uLVR2QMklqeNFHapAFCjWhuVWokB1d4fL+DilQA=="
           },
           "type": "choropleth"
          }
         ],
         "name": "2022"
        },
        {
         "data": [
          {
           "coloraxis": "coloraxis",
           "geo": "geo",
           "hovertemplate": "<b>%{hovertext}</b><br><br>Year=2023<br>Country=%{location}<br>GDP Per Capita (Current US$)=%{z}<extra></extra>",
           "hovertext": [
            "India",
            "Bangladesh",
            "Pakistan",
            "Sri Lanka",
            "Afghanistan"
           ],
           "locationmode": "country names",
           "locations": [
            "India",
            "Bangladesh",
            "Pakistan",
            "Sri Lanka",
            "Afghanistan"
           ],
           "name": "",
           "z": {
            "dtype": "f8",
            "bdata": "ThCjmT3Eo0Byrf0UCe6jQOo1MVatVJVAr3XNw8etrUBo0TJWINx5QA=="
           },
           "type": "choropleth"
          }
         ],
         "name": "2023"
        }
       ],
       "config": {
        "plotlyServerURL": "https://plot.ly"
       }
      }
     },
     "metadata": {},
     "output_type": "display_data"
    }
   ],
   "execution_count": 10
  },
  {
   "metadata": {
    "ExecuteTime": {
     "end_time": "2025-07-14T11:16:31.934736Z",
     "start_time": "2025-07-14T11:15:52.061184Z"
    }
   },
   "cell_type": "code",
   "source": [
    "import wbdata\n",
    "import pandas as pd\n",
    "import plotly.express as px\n",
    "import os\n",
    "from moviepy import ImageSequenceClip\n",
    "\n",
    "# Define the indicator for population (SP.POP.TOTL) and GDP per capita (NY.GDP.PCAP.CD)\n",
    "indicator = {\n",
    "    'SP.POP.TOTL': 'total_population',\n",
    "    'NY.GDP.PCAP.CD': 'gdp_per_capita',\n",
    "}\n",
    "\n",
    "# Define countries\n",
    "# countries = ['IN', 'PK', 'BD', 'LK', 'AF']\n",
    "\n",
    "# Fetch data\n",
    "data = wbdata.get_dataframe(indicator,\n",
    "                            # country=countries,\n",
    "                            )\n",
    "data.reset_index(inplace=True)\n",
    "data.rename(columns={'country': 'Country', 'date': 'Year'}, inplace=True)\n",
    "data['Year'] = pd.to_numeric(data['Year'])\n",
    "\n",
    "# Handle missing values\n",
    "# Replace missing gdp_per_capita and total_population with 0\n",
    "data['gdp_per_capita'] = data['gdp_per_capita'].fillna(0)\n",
    "data['total_population'] = data['total_population'].fillna(0)\n",
    "\n",
    "# Filter data for valid years\n",
    "df = data[(data['Year'] <= 2023) & (data['Year'] >= 1960)]\n",
    "df.sort_values(by='Year', inplace=True)\n",
    "\n",
    "# Check for missing or invalid data after filtering\n",
    "if df.isnull().values.any():\n",
    "    print(\"Data still contains missing values. Please check.\")\n",
    "    print(df[df.isnull().any(axis=1)])  # Print rows with missing values\n",
    "\n",
    "# Directory to save frames\n",
    "frames_dir = \"frames_map\"\n",
    "os.makedirs(frames_dir, exist_ok=True)\n",
    "\n",
    "# Save each frame as an image\n",
    "unique_years = df['Year'].unique()\n",
    "for i, year in enumerate(unique_years):\n",
    "    # Filter data for the current year\n",
    "    filtered_df = df[df['Year'] == year]\n",
    "\n",
    "    # Create the choropleth map for the current year\n",
    "    frame_fig = px.choropleth(\n",
    "        filtered_df,\n",
    "        locations=\"Country\",\n",
    "        locationmode='country names',\n",
    "        color=\"gdp_per_capita\",\n",
    "        hover_name=\"Country\",\n",
    "        color_continuous_scale=px.colors.sequential.Viridis,\n",
    "        title=f\"GDP Per Capita (Current US$) - {year}\",\n",
    "        labels={'gdp_per_capita': 'GDP Per Capita'}\n",
    "    )\n",
    "\n",
    "    # Save the frame image using Kaleido\n",
    "    frame_filename = os.path.join(frames_dir, f\"frame_{i:03d}.png\")\n",
    "    frame_fig.write_image(frame_filename, engine=\"kaleido\")\n",
    "\n",
    "# Create a GIF or MP4 using moviepy\n",
    "image_files = [os.path.join(frames_dir, f) for f in sorted(os.listdir(frames_dir)) if f.endswith('.png')]\n",
    "clip = ImageSequenceClip(image_files, fps=2)  # Adjust FPS for animation speed\n",
    "\n",
    "# Save as GIF\n",
    "clip.write_gif(\"animated_map.gif\", fps=2)\n",
    "\n",
    "# # Save as MP4\n",
    "# clip.write_videofile(\"./05_maps_animation/animated_map.mp4\", fps=2)\n",
    "\n",
    "# # Save HD video\n",
    "# clip.write_videofile(\"./05_maps_animation/animated_map_HD.mp4\", fps=2, codec=\"libx264\", preset=\"ultrafast\", bitrate=\"3000k\")\n"
   ],
   "id": "2cbb340fae6cfd78",
   "outputs": [
    {
     "name": "stderr",
     "output_type": "stream",
     "text": [
      "/var/folders/_n/z_w0t0b966z1tkdx_06dpz940000gn/T/ipykernel_4849/4159035164.py:31: SettingWithCopyWarning:\n",
      "\n",
      "\n",
      "A value is trying to be set on a copy of a slice from a DataFrame\n",
      "\n",
      "See the caveats in the documentation: https://pandas.pydata.org/pandas-docs/stable/user_guide/indexing.html#returning-a-view-versus-a-copy\n",
      "\n",
      "/var/folders/_n/z_w0t0b966z1tkdx_06dpz940000gn/T/ipykernel_4849/4159035164.py:62: DeprecationWarning:\n",
      "\n",
      "\n",
      "Support for the 'engine' argument is deprecated and will be removed after September 2025.\n",
      "Kaleido will be the only supported engine at that time.\n",
      "\n",
      "\n",
      "/var/folders/_n/z_w0t0b966z1tkdx_06dpz940000gn/T/ipykernel_4849/4159035164.py:62: DeprecationWarning:\n",
      "\n",
      "\n",
      "Support for the 'engine' argument is deprecated and will be removed after September 2025.\n",
      "Kaleido will be the only supported engine at that time.\n",
      "\n",
      "\n",
      "/var/folders/_n/z_w0t0b966z1tkdx_06dpz940000gn/T/ipykernel_4849/4159035164.py:62: DeprecationWarning:\n",
      "\n",
      "\n",
      "Support for the 'engine' argument is deprecated and will be removed after September 2025.\n",
      "Kaleido will be the only supported engine at that time.\n",
      "\n",
      "\n",
      "/var/folders/_n/z_w0t0b966z1tkdx_06dpz940000gn/T/ipykernel_4849/4159035164.py:62: DeprecationWarning:\n",
      "\n",
      "\n",
      "Support for the 'engine' argument is deprecated and will be removed after September 2025.\n",
      "Kaleido will be the only supported engine at that time.\n",
      "\n",
      "\n",
      "/var/folders/_n/z_w0t0b966z1tkdx_06dpz940000gn/T/ipykernel_4849/4159035164.py:62: DeprecationWarning:\n",
      "\n",
      "\n",
      "Support for the 'engine' argument is deprecated and will be removed after September 2025.\n",
      "Kaleido will be the only supported engine at that time.\n",
      "\n",
      "\n",
      "/var/folders/_n/z_w0t0b966z1tkdx_06dpz940000gn/T/ipykernel_4849/4159035164.py:62: DeprecationWarning:\n",
      "\n",
      "\n",
      "Support for the 'engine' argument is deprecated and will be removed after September 2025.\n",
      "Kaleido will be the only supported engine at that time.\n",
      "\n",
      "\n",
      "/var/folders/_n/z_w0t0b966z1tkdx_06dpz940000gn/T/ipykernel_4849/4159035164.py:62: DeprecationWarning:\n",
      "\n",
      "\n",
      "Support for the 'engine' argument is deprecated and will be removed after September 2025.\n",
      "Kaleido will be the only supported engine at that time.\n",
      "\n",
      "\n",
      "/var/folders/_n/z_w0t0b966z1tkdx_06dpz940000gn/T/ipykernel_4849/4159035164.py:62: DeprecationWarning:\n",
      "\n",
      "\n",
      "Support for the 'engine' argument is deprecated and will be removed after September 2025.\n",
      "Kaleido will be the only supported engine at that time.\n",
      "\n",
      "\n",
      "/var/folders/_n/z_w0t0b966z1tkdx_06dpz940000gn/T/ipykernel_4849/4159035164.py:62: DeprecationWarning:\n",
      "\n",
      "\n",
      "Support for the 'engine' argument is deprecated and will be removed after September 2025.\n",
      "Kaleido will be the only supported engine at that time.\n",
      "\n",
      "\n",
      "/var/folders/_n/z_w0t0b966z1tkdx_06dpz940000gn/T/ipykernel_4849/4159035164.py:62: DeprecationWarning:\n",
      "\n",
      "\n",
      "Support for the 'engine' argument is deprecated and will be removed after September 2025.\n",
      "Kaleido will be the only supported engine at that time.\n",
      "\n",
      "\n",
      "/var/folders/_n/z_w0t0b966z1tkdx_06dpz940000gn/T/ipykernel_4849/4159035164.py:62: DeprecationWarning:\n",
      "\n",
      "\n",
      "Support for the 'engine' argument is deprecated and will be removed after September 2025.\n",
      "Kaleido will be the only supported engine at that time.\n",
      "\n",
      "\n",
      "/var/folders/_n/z_w0t0b966z1tkdx_06dpz940000gn/T/ipykernel_4849/4159035164.py:62: DeprecationWarning:\n",
      "\n",
      "\n",
      "Support for the 'engine' argument is deprecated and will be removed after September 2025.\n",
      "Kaleido will be the only supported engine at that time.\n",
      "\n",
      "\n",
      "/var/folders/_n/z_w0t0b966z1tkdx_06dpz940000gn/T/ipykernel_4849/4159035164.py:62: DeprecationWarning:\n",
      "\n",
      "\n",
      "Support for the 'engine' argument is deprecated and will be removed after September 2025.\n",
      "Kaleido will be the only supported engine at that time.\n",
      "\n",
      "\n",
      "/var/folders/_n/z_w0t0b966z1tkdx_06dpz940000gn/T/ipykernel_4849/4159035164.py:62: DeprecationWarning:\n",
      "\n",
      "\n",
      "Support for the 'engine' argument is deprecated and will be removed after September 2025.\n",
      "Kaleido will be the only supported engine at that time.\n",
      "\n",
      "\n",
      "/var/folders/_n/z_w0t0b966z1tkdx_06dpz940000gn/T/ipykernel_4849/4159035164.py:62: DeprecationWarning:\n",
      "\n",
      "\n",
      "Support for the 'engine' argument is deprecated and will be removed after September 2025.\n",
      "Kaleido will be the only supported engine at that time.\n",
      "\n",
      "\n",
      "/var/folders/_n/z_w0t0b966z1tkdx_06dpz940000gn/T/ipykernel_4849/4159035164.py:62: DeprecationWarning:\n",
      "\n",
      "\n",
      "Support for the 'engine' argument is deprecated and will be removed after September 2025.\n",
      "Kaleido will be the only supported engine at that time.\n",
      "\n",
      "\n",
      "/var/folders/_n/z_w0t0b966z1tkdx_06dpz940000gn/T/ipykernel_4849/4159035164.py:62: DeprecationWarning:\n",
      "\n",
      "\n",
      "Support for the 'engine' argument is deprecated and will be removed after September 2025.\n",
      "Kaleido will be the only supported engine at that time.\n",
      "\n",
      "\n",
      "/var/folders/_n/z_w0t0b966z1tkdx_06dpz940000gn/T/ipykernel_4849/4159035164.py:62: DeprecationWarning:\n",
      "\n",
      "\n",
      "Support for the 'engine' argument is deprecated and will be removed after September 2025.\n",
      "Kaleido will be the only supported engine at that time.\n",
      "\n",
      "\n",
      "/var/folders/_n/z_w0t0b966z1tkdx_06dpz940000gn/T/ipykernel_4849/4159035164.py:62: DeprecationWarning:\n",
      "\n",
      "\n",
      "Support for the 'engine' argument is deprecated and will be removed after September 2025.\n",
      "Kaleido will be the only supported engine at that time.\n",
      "\n",
      "\n",
      "/var/folders/_n/z_w0t0b966z1tkdx_06dpz940000gn/T/ipykernel_4849/4159035164.py:62: DeprecationWarning:\n",
      "\n",
      "\n",
      "Support for the 'engine' argument is deprecated and will be removed after September 2025.\n",
      "Kaleido will be the only supported engine at that time.\n",
      "\n",
      "\n",
      "/var/folders/_n/z_w0t0b966z1tkdx_06dpz940000gn/T/ipykernel_4849/4159035164.py:62: DeprecationWarning:\n",
      "\n",
      "\n",
      "Support for the 'engine' argument is deprecated and will be removed after September 2025.\n",
      "Kaleido will be the only supported engine at that time.\n",
      "\n",
      "\n",
      "/var/folders/_n/z_w0t0b966z1tkdx_06dpz940000gn/T/ipykernel_4849/4159035164.py:62: DeprecationWarning:\n",
      "\n",
      "\n",
      "Support for the 'engine' argument is deprecated and will be removed after September 2025.\n",
      "Kaleido will be the only supported engine at that time.\n",
      "\n",
      "\n",
      "/var/folders/_n/z_w0t0b966z1tkdx_06dpz940000gn/T/ipykernel_4849/4159035164.py:62: DeprecationWarning:\n",
      "\n",
      "\n",
      "Support for the 'engine' argument is deprecated and will be removed after September 2025.\n",
      "Kaleido will be the only supported engine at that time.\n",
      "\n",
      "\n",
      "/var/folders/_n/z_w0t0b966z1tkdx_06dpz940000gn/T/ipykernel_4849/4159035164.py:62: DeprecationWarning:\n",
      "\n",
      "\n",
      "Support for the 'engine' argument is deprecated and will be removed after September 2025.\n",
      "Kaleido will be the only supported engine at that time.\n",
      "\n",
      "\n",
      "/var/folders/_n/z_w0t0b966z1tkdx_06dpz940000gn/T/ipykernel_4849/4159035164.py:62: DeprecationWarning:\n",
      "\n",
      "\n",
      "Support for the 'engine' argument is deprecated and will be removed after September 2025.\n",
      "Kaleido will be the only supported engine at that time.\n",
      "\n",
      "\n",
      "/var/folders/_n/z_w0t0b966z1tkdx_06dpz940000gn/T/ipykernel_4849/4159035164.py:62: DeprecationWarning:\n",
      "\n",
      "\n",
      "Support for the 'engine' argument is deprecated and will be removed after September 2025.\n",
      "Kaleido will be the only supported engine at that time.\n",
      "\n",
      "\n",
      "/var/folders/_n/z_w0t0b966z1tkdx_06dpz940000gn/T/ipykernel_4849/4159035164.py:62: DeprecationWarning:\n",
      "\n",
      "\n",
      "Support for the 'engine' argument is deprecated and will be removed after September 2025.\n",
      "Kaleido will be the only supported engine at that time.\n",
      "\n",
      "\n",
      "/var/folders/_n/z_w0t0b966z1tkdx_06dpz940000gn/T/ipykernel_4849/4159035164.py:62: DeprecationWarning:\n",
      "\n",
      "\n",
      "Support for the 'engine' argument is deprecated and will be removed after September 2025.\n",
      "Kaleido will be the only supported engine at that time.\n",
      "\n",
      "\n",
      "/var/folders/_n/z_w0t0b966z1tkdx_06dpz940000gn/T/ipykernel_4849/4159035164.py:62: DeprecationWarning:\n",
      "\n",
      "\n",
      "Support for the 'engine' argument is deprecated and will be removed after September 2025.\n",
      "Kaleido will be the only supported engine at that time.\n",
      "\n",
      "\n",
      "/var/folders/_n/z_w0t0b966z1tkdx_06dpz940000gn/T/ipykernel_4849/4159035164.py:62: DeprecationWarning:\n",
      "\n",
      "\n",
      "Support for the 'engine' argument is deprecated and will be removed after September 2025.\n",
      "Kaleido will be the only supported engine at that time.\n",
      "\n",
      "\n",
      "/var/folders/_n/z_w0t0b966z1tkdx_06dpz940000gn/T/ipykernel_4849/4159035164.py:62: DeprecationWarning:\n",
      "\n",
      "\n",
      "Support for the 'engine' argument is deprecated and will be removed after September 2025.\n",
      "Kaleido will be the only supported engine at that time.\n",
      "\n",
      "\n"
     ]
    },
    {
     "ename": "KeyboardInterrupt",
     "evalue": "",
     "output_type": "error",
     "traceback": [
      "\u001B[31m---------------------------------------------------------------------------\u001B[39m",
      "\u001B[31mKeyboardInterrupt\u001B[39m                         Traceback (most recent call last)",
      "\u001B[36mCell\u001B[39m\u001B[36m \u001B[39m\u001B[32mIn[12]\u001B[39m\u001B[32m, line 62\u001B[39m\n\u001B[32m     60\u001B[39m     \u001B[38;5;66;03m# Save the frame image using Kaleido\u001B[39;00m\n\u001B[32m     61\u001B[39m     frame_filename = os.path.join(frames_dir, \u001B[33mf\u001B[39m\u001B[33m\"\u001B[39m\u001B[33mframe_\u001B[39m\u001B[38;5;132;01m{\u001B[39;00mi\u001B[38;5;132;01m:\u001B[39;00m\u001B[33m03d\u001B[39m\u001B[38;5;132;01m}\u001B[39;00m\u001B[33m.png\u001B[39m\u001B[33m\"\u001B[39m)\n\u001B[32m---> \u001B[39m\u001B[32m62\u001B[39m     \u001B[43mframe_fig\u001B[49m\u001B[43m.\u001B[49m\u001B[43mwrite_image\u001B[49m\u001B[43m(\u001B[49m\u001B[43mframe_filename\u001B[49m\u001B[43m,\u001B[49m\u001B[43m \u001B[49m\u001B[43mengine\u001B[49m\u001B[43m=\u001B[49m\u001B[33;43m\"\u001B[39;49m\u001B[33;43mkaleido\u001B[39;49m\u001B[33;43m\"\u001B[39;49m\u001B[43m)\u001B[49m\n\u001B[32m     64\u001B[39m \u001B[38;5;66;03m# Create a GIF or MP4 using moviepy\u001B[39;00m\n\u001B[32m     65\u001B[39m image_files = [os.path.join(frames_dir, f) \u001B[38;5;28;01mfor\u001B[39;00m f \u001B[38;5;129;01min\u001B[39;00m \u001B[38;5;28msorted\u001B[39m(os.listdir(frames_dir)) \u001B[38;5;28;01mif\u001B[39;00m f.endswith(\u001B[33m'\u001B[39m\u001B[33m.png\u001B[39m\u001B[33m'\u001B[39m)]\n",
      "\u001B[36mFile \u001B[39m\u001B[32m~/MASTERCLASS_u2be/.venv/lib/python3.13/site-packages/plotly/basedatatypes.py:3895\u001B[39m, in \u001B[36mBaseFigure.write_image\u001B[39m\u001B[34m(self, *args, **kwargs)\u001B[39m\n\u001B[32m   3891\u001B[39m     \u001B[38;5;28;01mif\u001B[39;00m kwargs.get(\u001B[33m\"\u001B[39m\u001B[33mengine\u001B[39m\u001B[33m\"\u001B[39m, \u001B[38;5;28;01mNone\u001B[39;00m):\n\u001B[32m   3892\u001B[39m         warnings.warn(\n\u001B[32m   3893\u001B[39m             ENGINE_PARAM_DEPRECATION_MSG, \u001B[38;5;167;01mDeprecationWarning\u001B[39;00m, stacklevel=\u001B[32m2\u001B[39m\n\u001B[32m   3894\u001B[39m         )\n\u001B[32m-> \u001B[39m\u001B[32m3895\u001B[39m \u001B[38;5;28;01mreturn\u001B[39;00m \u001B[43mpio\u001B[49m\u001B[43m.\u001B[49m\u001B[43mwrite_image\u001B[49m\u001B[43m(\u001B[49m\u001B[38;5;28;43mself\u001B[39;49m\u001B[43m,\u001B[49m\u001B[43m \u001B[49m\u001B[43m*\u001B[49m\u001B[43margs\u001B[49m\u001B[43m,\u001B[49m\u001B[43m \u001B[49m\u001B[43m*\u001B[49m\u001B[43m*\u001B[49m\u001B[43mkwargs\u001B[49m\u001B[43m)\u001B[49m\n",
      "\u001B[36mFile \u001B[39m\u001B[32m~/MASTERCLASS_u2be/.venv/lib/python3.13/site-packages/plotly/io/_kaleido.py:510\u001B[39m, in \u001B[36mwrite_image\u001B[39m\u001B[34m(fig, file, format, scale, width, height, validate, engine)\u001B[39m\n\u001B[32m    506\u001B[39m \u001B[38;5;28mformat\u001B[39m = infer_format(path, \u001B[38;5;28mformat\u001B[39m)\n\u001B[32m    508\u001B[39m \u001B[38;5;66;03m# Request image\u001B[39;00m\n\u001B[32m    509\u001B[39m \u001B[38;5;66;03m# Do this first so we don't create a file if image conversion fails\u001B[39;00m\n\u001B[32m--> \u001B[39m\u001B[32m510\u001B[39m img_data = \u001B[43mto_image\u001B[49m\u001B[43m(\u001B[49m\n\u001B[32m    511\u001B[39m \u001B[43m    \u001B[49m\u001B[43mfig\u001B[49m\u001B[43m,\u001B[49m\n\u001B[32m    512\u001B[39m \u001B[43m    \u001B[49m\u001B[38;5;28;43mformat\u001B[39;49m\u001B[43m=\u001B[49m\u001B[38;5;28;43mformat\u001B[39;49m\u001B[43m,\u001B[49m\n\u001B[32m    513\u001B[39m \u001B[43m    \u001B[49m\u001B[43mscale\u001B[49m\u001B[43m=\u001B[49m\u001B[43mscale\u001B[49m\u001B[43m,\u001B[49m\n\u001B[32m    514\u001B[39m \u001B[43m    \u001B[49m\u001B[43mwidth\u001B[49m\u001B[43m=\u001B[49m\u001B[43mwidth\u001B[49m\u001B[43m,\u001B[49m\n\u001B[32m    515\u001B[39m \u001B[43m    \u001B[49m\u001B[43mheight\u001B[49m\u001B[43m=\u001B[49m\u001B[43mheight\u001B[49m\u001B[43m,\u001B[49m\n\u001B[32m    516\u001B[39m \u001B[43m    \u001B[49m\u001B[43mvalidate\u001B[49m\u001B[43m=\u001B[49m\u001B[43mvalidate\u001B[49m\u001B[43m,\u001B[49m\n\u001B[32m    517\u001B[39m \u001B[43m    \u001B[49m\u001B[43mengine\u001B[49m\u001B[43m=\u001B[49m\u001B[43mengine\u001B[49m\u001B[43m,\u001B[49m\n\u001B[32m    518\u001B[39m \u001B[43m\u001B[49m\u001B[43m)\u001B[49m\n\u001B[32m    520\u001B[39m \u001B[38;5;66;03m# Open file\u001B[39;00m\n\u001B[32m    521\u001B[39m \u001B[38;5;28;01mif\u001B[39;00m path \u001B[38;5;129;01mis\u001B[39;00m \u001B[38;5;28;01mNone\u001B[39;00m:\n\u001B[32m    522\u001B[39m     \u001B[38;5;66;03m# We previously failed to make sense of `file` as a pathlib object.\u001B[39;00m\n\u001B[32m    523\u001B[39m     \u001B[38;5;66;03m# Attempt to write to `file` as an open file descriptor.\u001B[39;00m\n",
      "\u001B[36mFile \u001B[39m\u001B[32m~/MASTERCLASS_u2be/.venv/lib/python3.13/site-packages/plotly/io/_kaleido.py:380\u001B[39m, in \u001B[36mto_image\u001B[39m\u001B[34m(fig, format, width, height, scale, validate, engine)\u001B[39m\n\u001B[32m    377\u001B[39m         kopts[\u001B[33m\"\u001B[39m\u001B[33mmathjax\u001B[39m\u001B[33m\"\u001B[39m] = defaults.mathjax\n\u001B[32m    379\u001B[39m     \u001B[38;5;66;03m# TODO: Refactor to make it possible to use a shared Kaleido instance here\u001B[39;00m\n\u001B[32m--> \u001B[39m\u001B[32m380\u001B[39m     img_bytes = \u001B[43mkaleido\u001B[49m\u001B[43m.\u001B[49m\u001B[43mcalc_fig_sync\u001B[49m\u001B[43m(\u001B[49m\n\u001B[32m    381\u001B[39m \u001B[43m        \u001B[49m\u001B[43mfig_dict\u001B[49m\u001B[43m,\u001B[49m\n\u001B[32m    382\u001B[39m \u001B[43m        \u001B[49m\u001B[43mopts\u001B[49m\u001B[43m=\u001B[49m\u001B[38;5;28;43mdict\u001B[39;49m\u001B[43m(\u001B[49m\n\u001B[32m    383\u001B[39m \u001B[43m            \u001B[49m\u001B[38;5;28;43mformat\u001B[39;49m\u001B[43m=\u001B[49m\u001B[38;5;28;43mformat\u001B[39;49m\u001B[43m \u001B[49m\u001B[38;5;129;43;01mor\u001B[39;49;00m\u001B[43m \u001B[49m\u001B[43mdefaults\u001B[49m\u001B[43m.\u001B[49m\u001B[43mdefault_format\u001B[49m\u001B[43m,\u001B[49m\n\u001B[32m    384\u001B[39m \u001B[43m            \u001B[49m\u001B[43mwidth\u001B[49m\u001B[43m=\u001B[49m\u001B[43mwidth\u001B[49m\u001B[43m \u001B[49m\u001B[38;5;129;43;01mor\u001B[39;49;00m\u001B[43m \u001B[49m\u001B[43mdefaults\u001B[49m\u001B[43m.\u001B[49m\u001B[43mdefault_width\u001B[49m\u001B[43m,\u001B[49m\n\u001B[32m    385\u001B[39m \u001B[43m            \u001B[49m\u001B[43mheight\u001B[49m\u001B[43m=\u001B[49m\u001B[43mheight\u001B[49m\u001B[43m \u001B[49m\u001B[38;5;129;43;01mor\u001B[39;49;00m\u001B[43m \u001B[49m\u001B[43mdefaults\u001B[49m\u001B[43m.\u001B[49m\u001B[43mdefault_height\u001B[49m\u001B[43m,\u001B[49m\n\u001B[32m    386\u001B[39m \u001B[43m            \u001B[49m\u001B[43mscale\u001B[49m\u001B[43m=\u001B[49m\u001B[43mscale\u001B[49m\u001B[43m \u001B[49m\u001B[38;5;129;43;01mor\u001B[39;49;00m\u001B[43m \u001B[49m\u001B[43mdefaults\u001B[49m\u001B[43m.\u001B[49m\u001B[43mdefault_scale\u001B[49m\u001B[43m,\u001B[49m\n\u001B[32m    387\u001B[39m \u001B[43m        \u001B[49m\u001B[43m)\u001B[49m\u001B[43m,\u001B[49m\n\u001B[32m    388\u001B[39m \u001B[43m        \u001B[49m\u001B[43mtopojson\u001B[49m\u001B[43m=\u001B[49m\u001B[43mdefaults\u001B[49m\u001B[43m.\u001B[49m\u001B[43mtopojson\u001B[49m\u001B[43m,\u001B[49m\n\u001B[32m    389\u001B[39m \u001B[43m        \u001B[49m\u001B[43mkopts\u001B[49m\u001B[43m=\u001B[49m\u001B[43mkopts\u001B[49m\u001B[43m,\u001B[49m\n\u001B[32m    390\u001B[39m \u001B[43m    \u001B[49m\u001B[43m)\u001B[49m\n\u001B[32m    391\u001B[39m \u001B[38;5;28;01mexcept\u001B[39;00m ChromeNotFoundError:\n\u001B[32m    392\u001B[39m     \u001B[38;5;28;01mraise\u001B[39;00m \u001B[38;5;167;01mRuntimeError\u001B[39;00m(PLOTLY_GET_CHROME_ERROR_MSG)\n",
      "\u001B[36mFile \u001B[39m\u001B[32m~/MASTERCLASS_u2be/.venv/lib/python3.13/site-packages/kaleido/__init__.py:145\u001B[39m, in \u001B[36mcalc_fig_sync\u001B[39m\u001B[34m(*args, **kwargs)\u001B[39m\n\u001B[32m    143\u001B[39m \u001B[38;5;28;01mdef\u001B[39;00m\u001B[38;5;250m \u001B[39m\u001B[34mcalc_fig_sync\u001B[39m(*args, **kwargs):\n\u001B[32m    144\u001B[39m \u001B[38;5;250m    \u001B[39m\u001B[33;03m\"\"\"Call `calc_fig` but blocking.\"\"\"\u001B[39;00m\n\u001B[32m--> \u001B[39m\u001B[32m145\u001B[39m     \u001B[38;5;28;01mreturn\u001B[39;00m \u001B[43m_async_thread_run\u001B[49m\u001B[43m(\u001B[49m\u001B[43mcalc_fig\u001B[49m\u001B[43m,\u001B[49m\u001B[43m \u001B[49m\u001B[43margs\u001B[49m\u001B[43m=\u001B[49m\u001B[43margs\u001B[49m\u001B[43m,\u001B[49m\u001B[43m \u001B[49m\u001B[43mkwargs\u001B[49m\u001B[43m=\u001B[49m\u001B[43mkwargs\u001B[49m\u001B[43m)\u001B[49m\n",
      "\u001B[36mFile \u001B[39m\u001B[32m~/MASTERCLASS_u2be/.venv/lib/python3.13/site-packages/kaleido/__init__.py:135\u001B[39m, in \u001B[36m_async_thread_run\u001B[39m\u001B[34m(func, args, kwargs)\u001B[39m\n\u001B[32m    133\u001B[39m t = Thread(target=run, args=args, kwargs=kwargs)\n\u001B[32m    134\u001B[39m t.start()\n\u001B[32m--> \u001B[39m\u001B[32m135\u001B[39m \u001B[43mt\u001B[49m\u001B[43m.\u001B[49m\u001B[43mjoin\u001B[49m\u001B[43m(\u001B[49m\u001B[43m)\u001B[49m\n\u001B[32m    136\u001B[39m res = q.get()\n\u001B[32m    137\u001B[39m \u001B[38;5;28;01mif\u001B[39;00m \u001B[38;5;28misinstance\u001B[39m(res, \u001B[38;5;167;01mBaseException\u001B[39;00m):\n",
      "\u001B[36mFile \u001B[39m\u001B[32m/Library/Frameworks/Python.framework/Versions/3.13/lib/python3.13/threading.py:1094\u001B[39m, in \u001B[36mThread.join\u001B[39m\u001B[34m(self, timeout)\u001B[39m\n\u001B[32m   1091\u001B[39m \u001B[38;5;28;01mif\u001B[39;00m timeout \u001B[38;5;129;01mis\u001B[39;00m \u001B[38;5;129;01mnot\u001B[39;00m \u001B[38;5;28;01mNone\u001B[39;00m:\n\u001B[32m   1092\u001B[39m     timeout = \u001B[38;5;28mmax\u001B[39m(timeout, \u001B[32m0\u001B[39m)\n\u001B[32m-> \u001B[39m\u001B[32m1094\u001B[39m \u001B[38;5;28;43mself\u001B[39;49m\u001B[43m.\u001B[49m\u001B[43m_handle\u001B[49m\u001B[43m.\u001B[49m\u001B[43mjoin\u001B[49m\u001B[43m(\u001B[49m\u001B[43mtimeout\u001B[49m\u001B[43m)\u001B[49m\n",
      "\u001B[31mKeyboardInterrupt\u001B[39m: "
     ]
    },
    {
     "name": "stderr",
     "output_type": "stream",
     "text": [
      "WARNING:choreographer.browser_async:Wait expired, Browser is being closed by watchdog.\n",
      "ERROR:asyncio:Exception in callback Broker.run_read_loop.<locals>.check_read_loop_error() at /Users/devansh/MASTERCLASS_u2be/.venv/lib/python3.13/site-packages/choreographer/_brokers/_async.py:112\n",
      "handle: <Handle Broker.run_read_loop.<locals>.check_read_loop_error() at /Users/devansh/MASTERCLASS_u2be/.venv/lib/python3.13/site-packages/choreographer/_brokers/_async.py:112>\n",
      "Traceback (most recent call last):\n",
      "  File \"/Library/Frameworks/Python.framework/Versions/3.13/lib/python3.13/asyncio/events.py\", line 89, in _run\n",
      "    self._context.run(self._callback, *self._args)\n",
      "    ~~~~~~~~~~~~~~~~~^^^^^^^^^^^^^^^^^^^^^^^^^^^^^\n",
      "  File \"/Users/devansh/MASTERCLASS_u2be/.venv/lib/python3.13/site-packages/choreographer/_brokers/_async.py\", line 113, in check_read_loop_error\n",
      "    e = result.exception()\n",
      "  File \"/Users/devansh/MASTERCLASS_u2be/.venv/lib/python3.13/site-packages/choreographer/_brokers/_async.py\", line 132, in read_loop\n",
      "    responses = await loop.run_in_executor(\n",
      "                ^^^^^^^^^^^^^^^^^^^^^^^^^^^\n",
      "    ...<2 lines>...\n",
      "    )\n",
      "    ^\n",
      "asyncio.exceptions.CancelledError\n"
     ]
    }
   ],
   "execution_count": 12
  },
  {
   "metadata": {},
   "cell_type": "code",
   "outputs": [],
   "execution_count": null,
   "source": "",
   "id": "cad46b1915c9c176"
  }
 ],
 "metadata": {
  "kernelspec": {
   "display_name": "Python 3",
   "language": "python",
   "name": "python3"
  },
  "language_info": {
   "codemirror_mode": {
    "name": "ipython",
    "version": 2
   },
   "file_extension": ".py",
   "mimetype": "text/x-python",
   "name": "python",
   "nbconvert_exporter": "python",
   "pygments_lexer": "ipython2",
   "version": "2.7.6"
  }
 },
 "nbformat": 4,
 "nbformat_minor": 5
}
